{
  "nbformat": 4,
  "nbformat_minor": 0,
  "metadata": {
    "colab": {
      "provenance": [],
      "authorship_tag": "ABX9TyMK2Winj8C1kN+8GYEVcZe9",
      "include_colab_link": true
    },
    "kernelspec": {
      "name": "python3",
      "display_name": "Python 3"
    },
    "language_info": {
      "name": "python"
    }
  },
  "cells": [
    {
      "cell_type": "markdown",
      "metadata": {
        "id": "view-in-github",
        "colab_type": "text"
      },
      "source": [
        "<a href=\"https://colab.research.google.com/github/websitecreatr99/Solytics/blob/main/sol_vecm_ts_statsmodel.ipynb\" target=\"_parent\"><img src=\"https://colab.research.google.com/assets/colab-badge.svg\" alt=\"Open In Colab\"/></a>"
      ]
    },
    {
      "cell_type": "markdown",
      "source": [
        "# VECM "
      ],
      "metadata": {
        "id": "xWbepI7Xw55x"
      }
    },
    {
      "cell_type": "markdown",
      "source": [
        "https://towardsdatascience.com/vector-autoregressions-vector-error-correction-multivariate-model-a69daf6ab618\n",
        "\n",
        "https://gist.github.com/yogabonito/b532e20b64587c19198f1aacb5ddfca2#file-vecm_example-ipynb"
      ],
      "metadata": {
        "id": "_3jC4pk8xkL_"
      }
    },
    {
      "cell_type": "code",
      "source": [
        "!pip install -r req.txt"
      ],
      "metadata": {
        "colab": {
          "base_uri": "https://localhost:8080/",
          "height": 1000
        },
        "id": "U8eUpbY7nUtJ",
        "outputId": "7ee0c99a-6a8e-4bf0-a383-4551a9dcc281"
      },
      "execution_count": null,
      "outputs": [
        {
          "output_type": "stream",
          "name": "stdout",
          "text": [
            "Looking in indexes: https://pypi.org/simple, https://us-python.pkg.dev/colab-wheels/public/simple/\n",
            "Collecting statsmodels==0.13.1 (from -r req.txt (line 1))\n",
            "  Downloading statsmodels-0.13.1-cp310-cp310-manylinux_2_17_x86_64.manylinux2014_x86_64.whl (9.9 MB)\n",
            "\u001b[2K     \u001b[90m━━━━━━━━━━━━━━━━━━━━━━━━━━━━━━━━━━━━━━━━\u001b[0m \u001b[32m9.9/9.9 MB\u001b[0m \u001b[31m59.6 MB/s\u001b[0m eta \u001b[36m0:00:00\u001b[0m\n",
            "\u001b[?25hCollecting scipy==1.9.3 (from -r req.txt (line 3))\n",
            "  Downloading scipy-1.9.3-cp310-cp310-manylinux_2_17_x86_64.manylinux2014_x86_64.whl (33.7 MB)\n",
            "\u001b[2K     \u001b[90m━━━━━━━━━━━━━━━━━━━━━━━━━━━━━━━━━━━━━━━━\u001b[0m \u001b[32m33.7/33.7 MB\u001b[0m \u001b[31m33.0 MB/s\u001b[0m eta \u001b[36m0:00:00\u001b[0m\n",
            "\u001b[?25hCollecting scikit-learn==1.1.2 (from -r req.txt (line 5))\n",
            "  Downloading scikit_learn-1.1.2-cp310-cp310-manylinux_2_17_x86_64.manylinux2014_x86_64.whl (30.5 MB)\n",
            "\u001b[2K     \u001b[90m━━━━━━━━━━━━━━━━━━━━━━━━━━━━━━━━━━━━━━━━\u001b[0m \u001b[32m30.5/30.5 MB\u001b[0m \u001b[31m17.7 MB/s\u001b[0m eta \u001b[36m0:00:00\u001b[0m\n",
            "\u001b[?25hCollecting numpy==1.23.4 (from -r req.txt (line 7))\n",
            "  Downloading numpy-1.23.4-cp310-cp310-manylinux_2_17_x86_64.manylinux2014_x86_64.whl (17.1 MB)\n",
            "\u001b[2K     \u001b[90m━━━━━━━━━━━━━━━━━━━━━━━━━━━━━━━━━━━━━━━━\u001b[0m \u001b[32m17.1/17.1 MB\u001b[0m \u001b[31m82.1 MB/s\u001b[0m eta \u001b[36m0:00:00\u001b[0m\n",
            "\u001b[?25hCollecting pandas==1.5.2 (from -r req.txt (line 9))\n",
            "  Downloading pandas-1.5.2-cp310-cp310-manylinux_2_17_x86_64.manylinux2014_x86_64.whl (12.1 MB)\n",
            "\u001b[2K     \u001b[90m━━━━━━━━━━━━━━━━━━━━━━━━━━━━━━━━━━━━━━━━\u001b[0m \u001b[32m12.1/12.1 MB\u001b[0m \u001b[31m93.1 MB/s\u001b[0m eta \u001b[36m0:00:00\u001b[0m\n",
            "\u001b[?25hCollecting xgboost==1.4.2 (from -r req.txt (line 11))\n",
            "  Downloading xgboost-1.4.2-py3-none-manylinux2010_x86_64.whl (166.7 MB)\n",
            "\u001b[2K     \u001b[90m━━━━━━━━━━━━━━━━━━━━━━━━━━━━━━━━━━━━━━━\u001b[0m \u001b[32m166.7/166.7 MB\u001b[0m \u001b[31m7.2 MB/s\u001b[0m eta \u001b[36m0:00:00\u001b[0m\n",
            "\u001b[?25hCollecting lxml==4.7.1 (from -r req.txt (line 13))\n",
            "  Downloading lxml-4.7.1-cp310-cp310-manylinux_2_17_x86_64.manylinux2014_x86_64.manylinux_2_24_x86_64.whl (6.9 MB)\n",
            "\u001b[2K     \u001b[90m━━━━━━━━━━━━━━━━━━━━━━━━━━━━━━━━━━━━━━━━\u001b[0m \u001b[32m6.9/6.9 MB\u001b[0m \u001b[31m107.1 MB/s\u001b[0m eta \u001b[36m0:00:00\u001b[0m\n",
            "\u001b[?25hCollecting joblib==1.0.1 (from -r req.txt (line 15))\n",
            "  Downloading joblib-1.0.1-py3-none-any.whl (303 kB)\n",
            "\u001b[2K     \u001b[90m━━━━━━━━━━━━━━━━━━━━━━━━━━━━━━━━━━━━━━\u001b[0m \u001b[32m303.1/303.1 kB\u001b[0m \u001b[31m30.0 MB/s\u001b[0m eta \u001b[36m0:00:00\u001b[0m\n",
            "\u001b[?25hRequirement already satisfied: patsy>=0.5.2 in /usr/local/lib/python3.10/dist-packages (from statsmodels==0.13.1->-r req.txt (line 1)) (0.5.3)\n",
            "Requirement already satisfied: threadpoolctl>=2.0.0 in /usr/local/lib/python3.10/dist-packages (from scikit-learn==1.1.2->-r req.txt (line 5)) (3.1.0)\n",
            "Requirement already satisfied: python-dateutil>=2.8.1 in /usr/local/lib/python3.10/dist-packages (from pandas==1.5.2->-r req.txt (line 9)) (2.8.2)\n",
            "Requirement already satisfied: pytz>=2020.1 in /usr/local/lib/python3.10/dist-packages (from pandas==1.5.2->-r req.txt (line 9)) (2022.7.1)\n",
            "Requirement already satisfied: six in /usr/local/lib/python3.10/dist-packages (from patsy>=0.5.2->statsmodels==0.13.1->-r req.txt (line 1)) (1.16.0)\n",
            "Installing collected packages: numpy, lxml, joblib, scipy, pandas, xgboost, statsmodels, scikit-learn\n",
            "  Attempting uninstall: numpy\n",
            "    Found existing installation: numpy 1.22.4\n",
            "    Uninstalling numpy-1.22.4:\n",
            "      Successfully uninstalled numpy-1.22.4\n",
            "  Attempting uninstall: lxml\n",
            "    Found existing installation: lxml 4.9.2\n",
            "    Uninstalling lxml-4.9.2:\n",
            "      Successfully uninstalled lxml-4.9.2\n",
            "  Attempting uninstall: joblib\n",
            "    Found existing installation: joblib 1.2.0\n",
            "    Uninstalling joblib-1.2.0:\n",
            "      Successfully uninstalled joblib-1.2.0\n",
            "  Attempting uninstall: scipy\n",
            "    Found existing installation: scipy 1.10.1\n",
            "    Uninstalling scipy-1.10.1:\n",
            "      Successfully uninstalled scipy-1.10.1\n",
            "  Attempting uninstall: pandas\n",
            "    Found existing installation: pandas 1.5.3\n",
            "    Uninstalling pandas-1.5.3:\n",
            "      Successfully uninstalled pandas-1.5.3\n",
            "  Attempting uninstall: xgboost\n",
            "    Found existing installation: xgboost 1.7.5\n",
            "    Uninstalling xgboost-1.7.5:\n",
            "      Successfully uninstalled xgboost-1.7.5\n",
            "  Attempting uninstall: statsmodels\n",
            "    Found existing installation: statsmodels 0.13.5\n",
            "    Uninstalling statsmodels-0.13.5:\n",
            "      Successfully uninstalled statsmodels-0.13.5\n",
            "  Attempting uninstall: scikit-learn\n",
            "    Found existing installation: scikit-learn 1.2.2\n",
            "    Uninstalling scikit-learn-1.2.2:\n",
            "      Successfully uninstalled scikit-learn-1.2.2\n",
            "\u001b[31mERROR: pip's dependency resolver does not currently take into account all the packages that are installed. This behaviour is the source of the following dependency conflicts.\n",
            "google-colab 1.0.0 requires pandas==1.5.3, but you have pandas 1.5.2 which is incompatible.\n",
            "imbalanced-learn 0.10.1 requires joblib>=1.1.1, but you have joblib 1.0.1 which is incompatible.\n",
            "plotnine 0.10.1 requires statsmodels>=0.13.2, but you have statsmodels 0.13.1 which is incompatible.\n",
            "yfinance 0.2.18 requires lxml>=4.9.1, but you have lxml 4.7.1 which is incompatible.\u001b[0m\u001b[31m\n",
            "\u001b[0mSuccessfully installed joblib-1.0.1 lxml-4.7.1 numpy-1.23.4 pandas-1.5.2 scikit-learn-1.1.2 scipy-1.9.3 statsmodels-0.13.1 xgboost-1.4.2\n"
          ]
        },
        {
          "output_type": "display_data",
          "data": {
            "application/vnd.colab-display-data+json": {
              "pip_warning": {
                "packages": [
                  "numpy"
                ]
              }
            }
          },
          "metadata": {}
        }
      ]
    },
    {
      "cell_type": "code",
      "execution_count": null,
      "metadata": {
        "id": "QZox07mWaqM-",
        "colab": {
          "base_uri": "https://localhost:8080/"
        },
        "outputId": "f1bc9e27-9c83-4490-f1f9-cb8b51e89194"
      },
      "outputs": [
        {
          "output_type": "stream",
          "name": "stderr",
          "text": [
            "/usr/local/lib/python3.10/dist-packages/statsmodels/compat/pandas.py:65: FutureWarning: pandas.Int64Index is deprecated and will be removed from pandas in a future version. Use pandas.Index with the appropriate dtype instead.\n",
            "  from pandas import Int64Index as NumericIndex\n"
          ]
        }
      ],
      "source": [
        "%matplotlib inline\n",
        "import numpy as np\n",
        "from matplotlib import pyplot as plt\n",
        "from statsmodels.tsa.vector_ar.vecm import *\n",
        "import pandas as pd"
      ]
    },
    {
      "cell_type": "code",
      "source": [
        "# import statsmodels.datasets.interest_inflation.data as d\n",
        "# df = d.load_pandas().data\n",
        "# dates = df[[\"year\", \"quarter\"]].astype(int).astype(str)\n",
        "# # print(dates)\n",
        "# quarterly = dates[\"year\"] + \"Q\" + dates[\"quarter\"]\n",
        "# print(quarterly)\n",
        "# from statsmodels.tsa.base.datetools import dates_from_str\n",
        "# quarterly = dates_from_str(quarterly)\n",
        "# # print(quarterly)\n",
        "# data = df[[\"Dp\", \"R\"]]\n",
        "# data.index = pd.DatetimeIndex(quarterly)\n",
        "# data\n",
        "\n",
        "df = pd.read_csv('/content/data_time.csv')\n",
        "df.set_index(\"date\", inplace = True)\n",
        "df"
      ],
      "metadata": {
        "colab": {
          "base_uri": "https://localhost:8080/",
          "height": 455
        },
        "id": "zGyxSs49bNdx",
        "outputId": "8580ed00-3e9a-4a56-bf66-093eb196fa2c"
      },
      "execution_count": null,
      "outputs": [
        {
          "output_type": "execute_result",
          "data": {
            "text/plain": [
              "             meantemp    humidity  wind_speed  meanpressure\n",
              "date                                                       \n",
              "2013-01-01  10.000000   84.500000    0.000000   1015.666667\n",
              "2013-01-02   7.400000   92.000000    2.980000   1017.800000\n",
              "2013-01-03   7.166667   87.000000    4.633333   1018.666667\n",
              "2013-01-04   8.666667   71.333333    1.233333   1017.166667\n",
              "2013-01-05   6.000000   86.833333    3.700000   1016.500000\n",
              "...               ...         ...         ...           ...\n",
              "2016-12-28  17.217391   68.043478    3.547826   1015.565217\n",
              "2016-12-29  15.238095   87.857143    6.000000   1016.904762\n",
              "2016-12-30  14.095238   89.666667    6.266667   1017.904762\n",
              "2016-12-31  15.052632   87.000000    7.325000   1016.100000\n",
              "2017-01-01  10.000000  100.000000    0.000000   1016.000000\n",
              "\n",
              "[1462 rows x 4 columns]"
            ],
            "text/html": [
              "\n",
              "  <div id=\"df-f8221736-5896-4fb7-9453-e286c33b1546\">\n",
              "    <div class=\"colab-df-container\">\n",
              "      <div>\n",
              "<style scoped>\n",
              "    .dataframe tbody tr th:only-of-type {\n",
              "        vertical-align: middle;\n",
              "    }\n",
              "\n",
              "    .dataframe tbody tr th {\n",
              "        vertical-align: top;\n",
              "    }\n",
              "\n",
              "    .dataframe thead th {\n",
              "        text-align: right;\n",
              "    }\n",
              "</style>\n",
              "<table border=\"1\" class=\"dataframe\">\n",
              "  <thead>\n",
              "    <tr style=\"text-align: right;\">\n",
              "      <th></th>\n",
              "      <th>meantemp</th>\n",
              "      <th>humidity</th>\n",
              "      <th>wind_speed</th>\n",
              "      <th>meanpressure</th>\n",
              "    </tr>\n",
              "    <tr>\n",
              "      <th>date</th>\n",
              "      <th></th>\n",
              "      <th></th>\n",
              "      <th></th>\n",
              "      <th></th>\n",
              "    </tr>\n",
              "  </thead>\n",
              "  <tbody>\n",
              "    <tr>\n",
              "      <th>2013-01-01</th>\n",
              "      <td>10.000000</td>\n",
              "      <td>84.500000</td>\n",
              "      <td>0.000000</td>\n",
              "      <td>1015.666667</td>\n",
              "    </tr>\n",
              "    <tr>\n",
              "      <th>2013-01-02</th>\n",
              "      <td>7.400000</td>\n",
              "      <td>92.000000</td>\n",
              "      <td>2.980000</td>\n",
              "      <td>1017.800000</td>\n",
              "    </tr>\n",
              "    <tr>\n",
              "      <th>2013-01-03</th>\n",
              "      <td>7.166667</td>\n",
              "      <td>87.000000</td>\n",
              "      <td>4.633333</td>\n",
              "      <td>1018.666667</td>\n",
              "    </tr>\n",
              "    <tr>\n",
              "      <th>2013-01-04</th>\n",
              "      <td>8.666667</td>\n",
              "      <td>71.333333</td>\n",
              "      <td>1.233333</td>\n",
              "      <td>1017.166667</td>\n",
              "    </tr>\n",
              "    <tr>\n",
              "      <th>2013-01-05</th>\n",
              "      <td>6.000000</td>\n",
              "      <td>86.833333</td>\n",
              "      <td>3.700000</td>\n",
              "      <td>1016.500000</td>\n",
              "    </tr>\n",
              "    <tr>\n",
              "      <th>...</th>\n",
              "      <td>...</td>\n",
              "      <td>...</td>\n",
              "      <td>...</td>\n",
              "      <td>...</td>\n",
              "    </tr>\n",
              "    <tr>\n",
              "      <th>2016-12-28</th>\n",
              "      <td>17.217391</td>\n",
              "      <td>68.043478</td>\n",
              "      <td>3.547826</td>\n",
              "      <td>1015.565217</td>\n",
              "    </tr>\n",
              "    <tr>\n",
              "      <th>2016-12-29</th>\n",
              "      <td>15.238095</td>\n",
              "      <td>87.857143</td>\n",
              "      <td>6.000000</td>\n",
              "      <td>1016.904762</td>\n",
              "    </tr>\n",
              "    <tr>\n",
              "      <th>2016-12-30</th>\n",
              "      <td>14.095238</td>\n",
              "      <td>89.666667</td>\n",
              "      <td>6.266667</td>\n",
              "      <td>1017.904762</td>\n",
              "    </tr>\n",
              "    <tr>\n",
              "      <th>2016-12-31</th>\n",
              "      <td>15.052632</td>\n",
              "      <td>87.000000</td>\n",
              "      <td>7.325000</td>\n",
              "      <td>1016.100000</td>\n",
              "    </tr>\n",
              "    <tr>\n",
              "      <th>2017-01-01</th>\n",
              "      <td>10.000000</td>\n",
              "      <td>100.000000</td>\n",
              "      <td>0.000000</td>\n",
              "      <td>1016.000000</td>\n",
              "    </tr>\n",
              "  </tbody>\n",
              "</table>\n",
              "<p>1462 rows × 4 columns</p>\n",
              "</div>\n",
              "      <button class=\"colab-df-convert\" onclick=\"convertToInteractive('df-f8221736-5896-4fb7-9453-e286c33b1546')\"\n",
              "              title=\"Convert this dataframe to an interactive table.\"\n",
              "              style=\"display:none;\">\n",
              "        \n",
              "  <svg xmlns=\"http://www.w3.org/2000/svg\" height=\"24px\"viewBox=\"0 0 24 24\"\n",
              "       width=\"24px\">\n",
              "    <path d=\"M0 0h24v24H0V0z\" fill=\"none\"/>\n",
              "    <path d=\"M18.56 5.44l.94 2.06.94-2.06 2.06-.94-2.06-.94-.94-2.06-.94 2.06-2.06.94zm-11 1L8.5 8.5l.94-2.06 2.06-.94-2.06-.94L8.5 2.5l-.94 2.06-2.06.94zm10 10l.94 2.06.94-2.06 2.06-.94-2.06-.94-.94-2.06-.94 2.06-2.06.94z\"/><path d=\"M17.41 7.96l-1.37-1.37c-.4-.4-.92-.59-1.43-.59-.52 0-1.04.2-1.43.59L10.3 9.45l-7.72 7.72c-.78.78-.78 2.05 0 2.83L4 21.41c.39.39.9.59 1.41.59.51 0 1.02-.2 1.41-.59l7.78-7.78 2.81-2.81c.8-.78.8-2.07 0-2.86zM5.41 20L4 18.59l7.72-7.72 1.47 1.35L5.41 20z\"/>\n",
              "  </svg>\n",
              "      </button>\n",
              "      \n",
              "  <style>\n",
              "    .colab-df-container {\n",
              "      display:flex;\n",
              "      flex-wrap:wrap;\n",
              "      gap: 12px;\n",
              "    }\n",
              "\n",
              "    .colab-df-convert {\n",
              "      background-color: #E8F0FE;\n",
              "      border: none;\n",
              "      border-radius: 50%;\n",
              "      cursor: pointer;\n",
              "      display: none;\n",
              "      fill: #1967D2;\n",
              "      height: 32px;\n",
              "      padding: 0 0 0 0;\n",
              "      width: 32px;\n",
              "    }\n",
              "\n",
              "    .colab-df-convert:hover {\n",
              "      background-color: #E2EBFA;\n",
              "      box-shadow: 0px 1px 2px rgba(60, 64, 67, 0.3), 0px 1px 3px 1px rgba(60, 64, 67, 0.15);\n",
              "      fill: #174EA6;\n",
              "    }\n",
              "\n",
              "    [theme=dark] .colab-df-convert {\n",
              "      background-color: #3B4455;\n",
              "      fill: #D2E3FC;\n",
              "    }\n",
              "\n",
              "    [theme=dark] .colab-df-convert:hover {\n",
              "      background-color: #434B5C;\n",
              "      box-shadow: 0px 1px 3px 1px rgba(0, 0, 0, 0.15);\n",
              "      filter: drop-shadow(0px 1px 2px rgba(0, 0, 0, 0.3));\n",
              "      fill: #FFFFFF;\n",
              "    }\n",
              "  </style>\n",
              "\n",
              "      <script>\n",
              "        const buttonEl =\n",
              "          document.querySelector('#df-f8221736-5896-4fb7-9453-e286c33b1546 button.colab-df-convert');\n",
              "        buttonEl.style.display =\n",
              "          google.colab.kernel.accessAllowed ? 'block' : 'none';\n",
              "\n",
              "        async function convertToInteractive(key) {\n",
              "          const element = document.querySelector('#df-f8221736-5896-4fb7-9453-e286c33b1546');\n",
              "          const dataTable =\n",
              "            await google.colab.kernel.invokeFunction('convertToInteractive',\n",
              "                                                     [key], {});\n",
              "          if (!dataTable) return;\n",
              "\n",
              "          const docLinkHtml = 'Like what you see? Visit the ' +\n",
              "            '<a target=\"_blank\" href=https://colab.research.google.com/notebooks/data_table.ipynb>data table notebook</a>'\n",
              "            + ' to learn more about interactive tables.';\n",
              "          element.innerHTML = '';\n",
              "          dataTable['output_type'] = 'display_data';\n",
              "          await google.colab.output.renderOutput(dataTable, element);\n",
              "          const docLink = document.createElement('div');\n",
              "          docLink.innerHTML = docLinkHtml;\n",
              "          element.appendChild(docLink);\n",
              "        }\n",
              "      </script>\n",
              "    </div>\n",
              "  </div>\n",
              "  "
            ]
          },
          "metadata": {},
          "execution_count": 2
        }
      ]
    },
    {
      "cell_type": "code",
      "source": [
        "lag_order = select_order(data=df.astype(float), maxlags=10, deterministic=\"ci\", seasons=4)"
      ],
      "metadata": {
        "colab": {
          "base_uri": "https://localhost:8080/"
        },
        "id": "IYTzVsOeboYI",
        "outputId": "55d0758d-5376-4ee9-a1dc-cad9041babf7"
      },
      "execution_count": null,
      "outputs": [
        {
          "output_type": "stream",
          "name": "stderr",
          "text": [
            "/usr/local/lib/python3.10/dist-packages/statsmodels/tsa/base/tsa_model.py:536: ValueWarning: No frequency information was provided, so inferred frequency D will be used.\n",
            "  warnings.warn('No frequency information was'\n",
            "/usr/local/lib/python3.10/dist-packages/statsmodels/tsa/base/tsa_model.py:586: FutureWarning: is_monotonic is deprecated and will be removed in a future version. Use is_monotonic_increasing instead.\n",
            "  is_monotonic = index.is_monotonic if date_index else None\n",
            "/usr/local/lib/python3.10/dist-packages/statsmodels/tsa/base/tsa_model.py:536: ValueWarning: No frequency information was provided, so inferred frequency D will be used.\n",
            "  warnings.warn('No frequency information was'\n",
            "/usr/local/lib/python3.10/dist-packages/statsmodels/tsa/base/tsa_model.py:586: FutureWarning: is_monotonic is deprecated and will be removed in a future version. Use is_monotonic_increasing instead.\n",
            "  is_monotonic = index.is_monotonic if date_index else None\n",
            "/usr/local/lib/python3.10/dist-packages/statsmodels/tsa/base/tsa_model.py:536: ValueWarning: No frequency information was provided, so inferred frequency D will be used.\n",
            "  warnings.warn('No frequency information was'\n",
            "/usr/local/lib/python3.10/dist-packages/statsmodels/tsa/base/tsa_model.py:586: FutureWarning: is_monotonic is deprecated and will be removed in a future version. Use is_monotonic_increasing instead.\n",
            "  is_monotonic = index.is_monotonic if date_index else None\n",
            "/usr/local/lib/python3.10/dist-packages/statsmodels/tsa/base/tsa_model.py:536: ValueWarning: No frequency information was provided, so inferred frequency D will be used.\n",
            "  warnings.warn('No frequency information was'\n",
            "/usr/local/lib/python3.10/dist-packages/statsmodels/tsa/base/tsa_model.py:586: FutureWarning: is_monotonic is deprecated and will be removed in a future version. Use is_monotonic_increasing instead.\n",
            "  is_monotonic = index.is_monotonic if date_index else None\n",
            "/usr/local/lib/python3.10/dist-packages/statsmodels/tsa/base/tsa_model.py:536: ValueWarning: No frequency information was provided, so inferred frequency D will be used.\n",
            "  warnings.warn('No frequency information was'\n",
            "/usr/local/lib/python3.10/dist-packages/statsmodels/tsa/base/tsa_model.py:586: FutureWarning: is_monotonic is deprecated and will be removed in a future version. Use is_monotonic_increasing instead.\n",
            "  is_monotonic = index.is_monotonic if date_index else None\n",
            "/usr/local/lib/python3.10/dist-packages/statsmodels/tsa/base/tsa_model.py:536: ValueWarning: No frequency information was provided, so inferred frequency D will be used.\n",
            "  warnings.warn('No frequency information was'\n",
            "/usr/local/lib/python3.10/dist-packages/statsmodels/tsa/base/tsa_model.py:586: FutureWarning: is_monotonic is deprecated and will be removed in a future version. Use is_monotonic_increasing instead.\n",
            "  is_monotonic = index.is_monotonic if date_index else None\n",
            "/usr/local/lib/python3.10/dist-packages/statsmodels/tsa/base/tsa_model.py:536: ValueWarning: No frequency information was provided, so inferred frequency D will be used.\n",
            "  warnings.warn('No frequency information was'\n",
            "/usr/local/lib/python3.10/dist-packages/statsmodels/tsa/base/tsa_model.py:586: FutureWarning: is_monotonic is deprecated and will be removed in a future version. Use is_monotonic_increasing instead.\n",
            "  is_monotonic = index.is_monotonic if date_index else None\n",
            "/usr/local/lib/python3.10/dist-packages/statsmodels/tsa/base/tsa_model.py:536: ValueWarning: No frequency information was provided, so inferred frequency D will be used.\n",
            "  warnings.warn('No frequency information was'\n",
            "/usr/local/lib/python3.10/dist-packages/statsmodels/tsa/base/tsa_model.py:586: FutureWarning: is_monotonic is deprecated and will be removed in a future version. Use is_monotonic_increasing instead.\n",
            "  is_monotonic = index.is_monotonic if date_index else None\n",
            "/usr/local/lib/python3.10/dist-packages/statsmodels/tsa/base/tsa_model.py:536: ValueWarning: No frequency information was provided, so inferred frequency D will be used.\n",
            "  warnings.warn('No frequency information was'\n",
            "/usr/local/lib/python3.10/dist-packages/statsmodels/tsa/base/tsa_model.py:586: FutureWarning: is_monotonic is deprecated and will be removed in a future version. Use is_monotonic_increasing instead.\n",
            "  is_monotonic = index.is_monotonic if date_index else None\n",
            "/usr/local/lib/python3.10/dist-packages/statsmodels/tsa/base/tsa_model.py:536: ValueWarning: No frequency information was provided, so inferred frequency D will be used.\n",
            "  warnings.warn('No frequency information was'\n",
            "/usr/local/lib/python3.10/dist-packages/statsmodels/tsa/base/tsa_model.py:586: FutureWarning: is_monotonic is deprecated and will be removed in a future version. Use is_monotonic_increasing instead.\n",
            "  is_monotonic = index.is_monotonic if date_index else None\n",
            "/usr/local/lib/python3.10/dist-packages/statsmodels/tsa/base/tsa_model.py:536: ValueWarning: No frequency information was provided, so inferred frequency D will be used.\n",
            "  warnings.warn('No frequency information was'\n",
            "/usr/local/lib/python3.10/dist-packages/statsmodels/tsa/base/tsa_model.py:586: FutureWarning: is_monotonic is deprecated and will be removed in a future version. Use is_monotonic_increasing instead.\n",
            "  is_monotonic = index.is_monotonic if date_index else None\n"
          ]
        }
      ]
    },
    {
      "cell_type": "code",
      "source": [
        "lag_order.aic, lag_order.bic, lag_order.fpe, lag_order.hqic"
      ],
      "metadata": {
        "colab": {
          "base_uri": "https://localhost:8080/"
        },
        "id": "zJGcfZnqbuv-",
        "outputId": "6ec16161-6150-4ecb-cda3-3595b55fe0ea"
      },
      "execution_count": null,
      "outputs": [
        {
          "output_type": "execute_result",
          "data": {
            "text/plain": [
              "(5, 0, 5, 3)"
            ]
          },
          "metadata": {},
          "execution_count": 4
        }
      ]
    },
    {
      "cell_type": "code",
      "source": [
        "rank_test = select_coint_rank(df, 0, 3, method=\"trace\",\n",
        "                              signif=0.05)\n",
        "rank_test.rank"
      ],
      "metadata": {
        "colab": {
          "base_uri": "https://localhost:8080/"
        },
        "id": "otzhrv1ccCGn",
        "outputId": "d610a049-f677-4be2-b5ef-c9b279dcda5d"
      },
      "execution_count": null,
      "outputs": [
        {
          "output_type": "execute_result",
          "data": {
            "text/plain": [
              "4"
            ]
          },
          "metadata": {},
          "execution_count": 5
        }
      ]
    },
    {
      "cell_type": "code",
      "source": [
        "pd.Series([\"Spark\",\"PySpark\",\"Hadoop\"])\n"
      ],
      "metadata": {
        "id": "XNehf27UMnKd",
        "outputId": "fb5f88d3-b8f6-4293-d311-6d00c3955483",
        "colab": {
          "base_uri": "https://localhost:8080/"
        }
      },
      "execution_count": null,
      "outputs": [
        {
          "output_type": "execute_result",
          "data": {
            "text/plain": [
              "0      Spark\n",
              "1    PySpark\n",
              "2     Hadoop\n",
              "dtype: object"
            ]
          },
          "metadata": {},
          "execution_count": 6
        }
      ]
    },
    {
      "cell_type": "code",
      "source": [
        "model = VECM(np.asarray(df), deterministic=\"ci\", seasons=4,\n",
        "             k_ar_diff=lag_order.aic,  # =3\n",
        "             coint_rank=rank_test.rank)  # =1"
      ],
      "metadata": {
        "id": "912f_7J-ceyO"
      },
      "execution_count": null,
      "outputs": []
    },
    {
      "cell_type": "code",
      "source": [
        "print(type(model))"
      ],
      "metadata": {
        "colab": {
          "base_uri": "https://localhost:8080/"
        },
        "id": "-E3X48eWwR07",
        "outputId": "bf4e6efd-2ad8-4c2e-acb5-f4d06dfff27d"
      },
      "execution_count": null,
      "outputs": [
        {
          "output_type": "stream",
          "name": "stdout",
          "text": [
            "<class 'statsmodels.tsa.vector_ar.vecm.VECM'>\n"
          ]
        }
      ]
    },
    {
      "cell_type": "code",
      "source": [
        "vecm_res = model.fit()\n",
        "type(vecm_res)"
      ],
      "metadata": {
        "id": "hNMvxmcKchZK",
        "colab": {
          "base_uri": "https://localhost:8080/"
        },
        "outputId": "608d51e2-83e4-44c6-c74b-f5957321909a"
      },
      "execution_count": null,
      "outputs": [
        {
          "output_type": "execute_result",
          "data": {
            "text/plain": [
              "statsmodels.tsa.vector_ar.vecm.VECMResults"
            ]
          },
          "metadata": {},
          "execution_count": 9
        }
      ]
    },
    {
      "cell_type": "code",
      "source": [
        "vecm_res.predict(6)"
      ],
      "metadata": {
        "colab": {
          "base_uri": "https://localhost:8080/"
        },
        "id": "QXWFwaZDIju-",
        "outputId": "5c647aae-aa26-4f8e-cb51-a746b11982f2"
      },
      "execution_count": null,
      "outputs": [
        {
          "output_type": "execute_result",
          "data": {
            "text/plain": [
              "array([[  11.86398426,   89.79106055,    2.45645377, 1028.23069653],\n",
              "       [  12.5921276 ,   87.51335139,    2.97199643, 1047.42689971],\n",
              "       [  13.33740746,   86.34151103,    3.33009514,  994.87868969],\n",
              "       [  13.47695606,   85.48256866,    4.33787278, 1001.94780542],\n",
              "       [  13.64733503,   84.03961722,    4.53189803, 1026.72226761],\n",
              "       [  13.27412706,   84.72111538,    4.37452467, 1003.77305154]])"
            ]
          },
          "metadata": {},
          "execution_count": 11
        }
      ]
    },
    {
      "cell_type": "code",
      "source": [
        "vecm_res.fittedvalues"
      ],
      "metadata": {
        "colab": {
          "base_uri": "https://localhost:8080/"
        },
        "id": "L5lnEKoJKZIo",
        "outputId": "5e480d2d-55dc-4e96-fb87-a6520c1ff113"
      },
      "execution_count": null,
      "outputs": [
        {
          "output_type": "execute_result",
          "data": {
            "text/plain": [
              "array([[   7.30772751,   83.14932023,    2.6830848 , 1030.28329558],\n",
              "       [   7.28646748,   78.06641729,    4.56939712, 1011.48545274],\n",
              "       [   8.50457559,   66.90098703,    6.04387701, 1028.58454189],\n",
              "       ...,\n",
              "       [  15.93807816,   87.24433592,    3.86949265,  984.88566388],\n",
              "       [  14.55444448,   85.70825059,    5.74799898, 1034.91161349],\n",
              "       [  15.54359344,   82.73179623,    5.14913574, 1047.90991585]])"
            ]
          },
          "metadata": {},
          "execution_count": 12
        }
      ]
    },
    {
      "cell_type": "code",
      "source": [
        "for i in vecm_res.predict(steps=5):\n",
        "  print(i[-1])\n",
        "vecm_res.predict(steps=5)"
      ],
      "metadata": {
        "colab": {
          "base_uri": "https://localhost:8080/"
        },
        "id": "9rJ3g0unMAbP",
        "outputId": "0ffdea4c-f93e-45d7-d60f-b55026778467"
      },
      "execution_count": null,
      "outputs": [
        {
          "output_type": "stream",
          "name": "stdout",
          "text": [
            "1028.2306965279054\n",
            "1047.4268997082886\n",
            "994.8786896925212\n",
            "1001.9478054247502\n",
            "1026.7222676067508\n"
          ]
        },
        {
          "output_type": "execute_result",
          "data": {
            "text/plain": [
              "array([[  11.86398426,   89.79106055,    2.45645377, 1028.23069653],\n",
              "       [  12.5921276 ,   87.51335139,    2.97199643, 1047.42689971],\n",
              "       [  13.33740746,   86.34151103,    3.33009514,  994.87868969],\n",
              "       [  13.47695606,   85.48256866,    4.33787278, 1001.94780542],\n",
              "       [  13.64733503,   84.03961722,    4.53189803, 1026.72226761]])"
            ]
          },
          "metadata": {},
          "execution_count": 17
        }
      ]
    },
    {
      "cell_type": "code",
      "source": [
        "vecm_res.predict(steps=5, alpha=0.05)"
      ],
      "metadata": {
        "colab": {
          "base_uri": "https://localhost:8080/"
        },
        "id": "1_dfQDUwL0oR",
        "outputId": "ba07a8c6-72dd-4a0e-e4d7-7585fea2e07d"
      },
      "execution_count": null,
      "outputs": [
        {
          "output_type": "execute_result",
          "data": {
            "text/plain": [
              "(array([[  11.86398426,   89.79106055,    2.45645377, 1028.23069653],\n",
              "        [  12.5921276 ,   87.51335139,    2.97199643, 1047.42689971],\n",
              "        [  13.33740746,   86.34151103,    3.33009514,  994.87868969],\n",
              "        [  13.47695606,   85.48256866,    4.33787278, 1001.94780542],\n",
              "        [  13.64733503,   84.03961722,    4.53189803, 1026.72226761]]),\n",
              " array([[  8.75465126,  74.73050811,  -5.26997044, 679.28766647],\n",
              "        [  8.65335047,  68.18298137,  -5.37505136, 698.4591028 ],\n",
              "        [  8.88629446,  64.90217417,  -5.1417886 , 644.579665  ],\n",
              "        [  8.7356905 ,  63.03440521,  -4.20744836, 651.2576102 ],\n",
              "        [  8.65049277,  60.85683241,  -4.03446401, 675.60832545]]),\n",
              " array([[  14.97331727,  104.85161299,   10.18287797, 1377.17372658],\n",
              "        [  16.53090474,  106.84372141,   11.31904423, 1396.39469662],\n",
              "        [  17.78852046,  107.7808479 ,   11.80197889, 1345.17771438],\n",
              "        [  18.21822161,  107.93073211,   12.88319392, 1352.63800065],\n",
              "        [  18.64417729,  107.22240204,   13.09826006, 1377.83620976]]))"
            ]
          },
          "metadata": {},
          "execution_count": 14
        }
      ]
    },
    {
      "cell_type": "code",
      "source": [
        "# Save the model\n",
        "import joblib\n",
        "joblib.dump(vecm_res, 'VECM_v.pkl') \n",
        "\n",
        "# # Load the model from the file \n",
        "model = joblib.load(open('VECM_v.pkl','rb')) "
      ],
      "metadata": {
        "id": "vhSZUfFWBZr_"
      },
      "execution_count": null,
      "outputs": []
    },
    {
      "cell_type": "code",
      "source": [
        "exogk = vecm_res.data.orig_exog\n",
        "vecm_res.predict(steps=5,exog_fc=exogk)"
      ],
      "metadata": {
        "id": "MdYcObk4B9-h",
        "colab": {
          "base_uri": "https://localhost:8080/",
          "height": 185
        },
        "outputId": "e578352b-d2fd-4334-8d08-a9f5642a46d6"
      },
      "execution_count": null,
      "outputs": [
        {
          "output_type": "error",
          "ename": "AttributeError",
          "evalue": "ignored",
          "traceback": [
            "\u001b[0;31m---------------------------------------------------------------------------\u001b[0m",
            "\u001b[0;31mAttributeError\u001b[0m                            Traceback (most recent call last)",
            "\u001b[0;32m<ipython-input-22-f4d15cb042f3>\u001b[0m in \u001b[0;36m<cell line: 1>\u001b[0;34m()\u001b[0m\n\u001b[0;32m----> 1\u001b[0;31m \u001b[0mexogk\u001b[0m \u001b[0;34m=\u001b[0m \u001b[0mvecm_res\u001b[0m\u001b[0;34m.\u001b[0m\u001b[0mdata\u001b[0m\u001b[0;34m.\u001b[0m\u001b[0morig_exog\u001b[0m\u001b[0;34m\u001b[0m\u001b[0;34m\u001b[0m\u001b[0m\n\u001b[0m\u001b[1;32m      2\u001b[0m \u001b[0mvecm_res\u001b[0m\u001b[0;34m.\u001b[0m\u001b[0mpredict\u001b[0m\u001b[0;34m(\u001b[0m\u001b[0msteps\u001b[0m\u001b[0;34m=\u001b[0m\u001b[0;36m5\u001b[0m\u001b[0;34m,\u001b[0m\u001b[0mexog_fc\u001b[0m\u001b[0;34m=\u001b[0m\u001b[0mexogk\u001b[0m\u001b[0;34m)\u001b[0m\u001b[0;34m\u001b[0m\u001b[0;34m\u001b[0m\u001b[0m\n",
            "\u001b[0;31mAttributeError\u001b[0m: 'VECMResults' object has no attribute 'data'"
          ]
        }
      ]
    },
    {
      "cell_type": "code",
      "source": [],
      "metadata": {
        "id": "dcrZekkIB97t"
      },
      "execution_count": null,
      "outputs": []
    },
    {
      "cell_type": "code",
      "source": [],
      "metadata": {
        "id": "MWVeSke3B95b"
      },
      "execution_count": null,
      "outputs": []
    },
    {
      "cell_type": "code",
      "source": [],
      "metadata": {
        "id": "e8Rtb940B92d"
      },
      "execution_count": null,
      "outputs": []
    },
    {
      "cell_type": "code",
      "source": [],
      "metadata": {
        "id": "3cJmFaC7B9zn"
      },
      "execution_count": null,
      "outputs": []
    },
    {
      "cell_type": "code",
      "source": [
        "vecm_res.summary()"
      ],
      "metadata": {
        "colab": {
          "base_uri": "https://localhost:8080/",
          "height": 1000
        },
        "id": "c8nou7i_ckXS",
        "outputId": "765535bc-05e0-45de-8f9c-b8bbe59d0bc2"
      },
      "execution_count": null,
      "outputs": [
        {
          "output_type": "execute_result",
          "data": {
            "text/plain": [
              "<class 'statsmodels.iolib.summary.Summary'>\n",
              "\"\"\"\n",
              "Det. terms outside the coint. relation & lagged endog. parameters for equation y1\n",
              "==============================================================================\n",
              "                 coef    std err          z      P>|z|      [0.025      0.975]\n",
              "------------------------------------------------------------------------------\n",
              "season1        0.0468      0.119      0.394      0.694      -0.186       0.280\n",
              "season2        0.0215      0.118      0.182      0.856      -0.210       0.253\n",
              "season3        0.0958      0.119      0.808      0.419      -0.137       0.328\n",
              "L1.y1         -0.1747      0.035     -4.969      0.000      -0.244      -0.106\n",
              "L1.y2          0.0051      0.008      0.663      0.507      -0.010       0.020\n",
              "L1.y3         -0.0624      0.017     -3.602      0.000      -0.096      -0.028\n",
              "L1.y4         -0.0013      0.001     -2.556      0.011      -0.002      -0.000\n",
              "L2.y1         -0.1475      0.035     -4.175      0.000      -0.217      -0.078\n",
              "L2.y2         -0.0059      0.008     -0.776      0.438      -0.021       0.009\n",
              "L2.y3         -0.0567      0.016     -3.498      0.000      -0.089      -0.025\n",
              "L2.y4         -0.0009      0.000     -2.008      0.045      -0.002   -2.24e-05\n",
              "L3.y1         -0.1849      0.035     -5.228      0.000      -0.254      -0.116\n",
              "L3.y2         -0.0057      0.008     -0.763      0.445      -0.020       0.009\n",
              "L3.y3         -0.0385      0.015     -2.595      0.009      -0.068      -0.009\n",
              "L3.y4         -0.0008      0.000     -1.957      0.050      -0.002    1.08e-06\n",
              "L4.y1         -0.0761      0.035     -2.150      0.032      -0.145      -0.007\n",
              "L4.y2          0.0006      0.007      0.081      0.936      -0.014       0.015\n",
              "L4.y3         -0.0412      0.013     -3.171      0.002      -0.067      -0.016\n",
              "L4.y4         -0.0006      0.000     -1.824      0.068      -0.001    4.47e-05\n",
              "L5.y1         -0.0232      0.035     -0.659      0.510      -0.092       0.046\n",
              "L5.y2          0.0090      0.007      1.236      0.216      -0.005       0.023\n",
              "L5.y3         -0.0349      0.011     -3.221      0.001      -0.056      -0.014\n",
              "L5.y4         -0.0003      0.000     -1.163      0.245      -0.001       0.000\n",
              "Det. terms outside the coint. relation & lagged endog. parameters for equation y2\n",
              "==============================================================================\n",
              "                 coef    std err          z      P>|z|      [0.025      0.975]\n",
              "------------------------------------------------------------------------------\n",
              "season1       -0.3443      0.576     -0.598      0.550      -1.473       0.785\n",
              "season2       -0.4902      0.573     -0.856      0.392      -1.613       0.632\n",
              "season3       -1.1018      0.575     -1.917      0.055      -2.228       0.025\n",
              "L1.y1          0.8249      0.170      4.843      0.000       0.491       1.159\n",
              "L1.y2         -0.0106      0.037     -0.283      0.777      -0.084       0.063\n",
              "L1.y3          0.0291      0.084      0.347      0.729      -0.135       0.194\n",
              "L1.y4          0.0039      0.002      1.568      0.117      -0.001       0.009\n",
              "L2.y1         -0.1422      0.171     -0.831      0.406      -0.478       0.193\n",
              "L2.y2         -0.1696      0.037     -4.576      0.000      -0.242      -0.097\n",
              "L2.y3          0.0443      0.079      0.564      0.573      -0.110       0.198\n",
              "L2.y4          0.0019      0.002      0.841      0.400      -0.003       0.006\n",
              "L3.y1          0.0550      0.171      0.321      0.748      -0.281       0.391\n",
              "L3.y2         -0.1674      0.036     -4.595      0.000      -0.239      -0.096\n",
              "L3.y3         -0.0377      0.072     -0.524      0.600      -0.178       0.103\n",
              "L3.y4          0.0010      0.002      0.525      0.599      -0.003       0.005\n",
              "L4.y1          0.0887      0.171      0.517      0.605      -0.247       0.425\n",
              "L4.y2         -0.0879      0.036     -2.439      0.015      -0.159      -0.017\n",
              "L4.y3          0.0551      0.063      0.876      0.381      -0.068       0.178\n",
              "L4.y4          0.0001      0.002      0.071      0.943      -0.003       0.003\n",
              "L5.y1         -0.1300      0.170     -0.763      0.445      -0.464       0.204\n",
              "L5.y2         -0.0762      0.035     -2.150      0.032      -0.146      -0.007\n",
              "L5.y3          0.1080      0.053      2.057      0.040       0.005       0.211\n",
              "L5.y4         -0.0001      0.001     -0.100      0.921      -0.002       0.002\n",
              "Det. terms outside the coint. relation & lagged endog. parameters for equation y3\n",
              "==============================================================================\n",
              "                 coef    std err          z      P>|z|      [0.025      0.975]\n",
              "------------------------------------------------------------------------------\n",
              "season1        0.3906      0.296      1.322      0.186      -0.189       0.970\n",
              "season2        0.0781      0.294      0.266      0.790      -0.498       0.654\n",
              "season3        0.5358      0.295      1.817      0.069      -0.042       1.114\n",
              "L1.y1         -0.1439      0.087     -1.646      0.100      -0.315       0.027\n",
              "L1.y2         -0.0770      0.019     -4.006      0.000      -0.115      -0.039\n",
              "L1.y3         -0.1188      0.043     -2.759      0.006      -0.203      -0.034\n",
              "L1.y4          0.0014      0.001      1.069      0.285      -0.001       0.004\n",
              "L2.y1          0.2817      0.088      3.209      0.001       0.110       0.454\n",
              "L2.y2          0.0212      0.019      1.117      0.264      -0.016       0.058\n",
              "L2.y3         -0.1133      0.040     -2.811      0.005      -0.192      -0.034\n",
              "L2.y4          0.0012      0.001      1.048      0.295      -0.001       0.003\n",
              "L3.y1          0.2044      0.088      2.327      0.020       0.032       0.377\n",
              "L3.y2          0.0123      0.019      0.659      0.510      -0.024       0.049\n",
              "L3.y3         -0.0726      0.037     -1.972      0.049      -0.145      -0.000\n",
              "L3.y4          0.0009      0.001      0.903      0.367      -0.001       0.003\n",
              "L4.y1         -0.0465      0.088     -0.528      0.597      -0.219       0.126\n",
              "L4.y2         -0.0169      0.018     -0.916      0.360      -0.053       0.019\n",
              "L4.y3         -0.0611      0.032     -1.894      0.058      -0.124       0.002\n",
              "L4.y4          0.0014      0.001      1.682      0.093      -0.000       0.003\n",
              "L5.y1          0.1050      0.087      1.202      0.229      -0.066       0.276\n",
              "L5.y2          0.0079      0.018      0.432      0.666      -0.028       0.044\n",
              "L5.y3         -0.0284      0.027     -1.055      0.291      -0.081       0.024\n",
              "L5.y4          0.0008      0.001      1.340      0.180      -0.000       0.002\n",
              "Det. terms outside the coint. relation & lagged endog. parameters for equation y4\n",
              "==============================================================================\n",
              "                 coef    std err          z      P>|z|      [0.025      0.975]\n",
              "------------------------------------------------------------------------------\n",
              "season1        4.7553     13.348      0.356      0.722     -21.407      30.917\n",
              "season2        2.7353     13.269      0.206      0.837     -23.272      28.742\n",
              "season3       24.9628     13.315      1.875      0.061      -1.133      51.059\n",
              "L1.y1          3.2298      3.946      0.818      0.413      -4.505      10.965\n",
              "L1.y2          0.5662      0.869      0.652      0.515      -1.136       2.269\n",
              "L1.y3         -1.7396      1.944     -0.895      0.371      -5.551       2.071\n",
              "L1.y4         -0.0184      0.058     -0.318      0.750      -0.132       0.095\n",
              "L2.y1         -9.7103      3.964     -2.449      0.014     -17.480      -1.940\n",
              "L2.y2         -0.3229      0.859     -0.376      0.707      -2.006       1.360\n",
              "L2.y3         -1.3253      1.820     -0.728      0.467      -4.893       2.242\n",
              "L2.y4         -0.0067      0.052     -0.128      0.898      -0.108       0.095\n",
              "L3.y1          6.3525      3.968      1.601      0.109      -1.425      14.130\n",
              "L3.y2          1.5277      0.844      1.811      0.070      -0.126       3.181\n",
              "L3.y3         -2.4979      1.663     -1.502      0.133      -5.758       0.762\n",
              "L3.y4          0.0009      0.045      0.021      0.984      -0.087       0.089\n",
              "L4.y1          5.3684      3.972      1.352      0.177      -2.417      13.154\n",
              "L4.y2          0.6088      0.835      0.729      0.466      -1.027       2.245\n",
              "L4.y3         -3.5565      1.458     -2.439      0.015      -6.414      -0.699\n",
              "L4.y4      -7.911e-05      0.037     -0.002      0.998      -0.072       0.072\n",
              "L5.y1          5.8373      3.945      1.480      0.139      -1.895      13.570\n",
              "L5.y2          0.8026      0.821      0.977      0.329      -0.807       2.413\n",
              "L5.y3         -3.4773      1.216     -2.859      0.004      -5.861      -1.093\n",
              "L5.y4          0.0013      0.026      0.051      0.960      -0.050       0.052\n",
              "                 Loading coefficients (alpha) for equation y1                 \n",
              "==============================================================================\n",
              "                 coef    std err          z      P>|z|      [0.025      0.975]\n",
              "------------------------------------------------------------------------------\n",
              "ec1           -0.0196      0.007     -2.616      0.009      -0.034      -0.005\n",
              "ec2            0.0034      0.004      0.945      0.345      -0.004       0.010\n",
              "ec3            0.0411      0.018      2.339      0.019       0.007       0.076\n",
              "ec4            0.0014      0.001      2.407      0.016       0.000       0.002\n",
              "                 Loading coefficients (alpha) for equation y2                 \n",
              "==============================================================================\n",
              "                 coef    std err          z      P>|z|      [0.025      0.975]\n",
              "------------------------------------------------------------------------------\n",
              "ec1           -0.0418      0.036     -1.150      0.250      -0.113       0.029\n",
              "ec2           -0.0819      0.017     -4.682      0.000      -0.116      -0.048\n",
              "ec3            0.0123      0.085      0.144      0.886      -0.155       0.179\n",
              "ec4           -0.0045      0.003     -1.661      0.097      -0.010       0.001\n",
              "                 Loading coefficients (alpha) for equation y3                 \n",
              "==============================================================================\n",
              "                 coef    std err          z      P>|z|      [0.025      0.975]\n",
              "------------------------------------------------------------------------------\n",
              "ec1            0.0785      0.019      4.215      0.000       0.042       0.115\n",
              "ec2           -0.0142      0.009     -1.587      0.112      -0.032       0.003\n",
              "ec3           -0.5452      0.044    -12.484      0.000      -0.631      -0.460\n",
              "ec4           -0.0010      0.001     -0.737      0.461      -0.004       0.002\n",
              "                 Loading coefficients (alpha) for equation y4                 \n",
              "==============================================================================\n",
              "                 coef    std err          z      P>|z|      [0.025      0.975]\n",
              "------------------------------------------------------------------------------\n",
              "ec1           -1.8292      0.841     -2.175      0.030      -3.478      -0.181\n",
              "ec2           -0.4791      0.405     -1.182      0.237      -1.274       0.316\n",
              "ec3            1.4789      1.972      0.750      0.453      -2.387       5.345\n",
              "ec4           -0.9816      0.063    -15.526      0.000      -1.105      -0.858\n",
              "          Cointegration relations for loading-coefficients-column 1           \n",
              "==============================================================================\n",
              "                 coef    std err          z      P>|z|      [0.025      0.975]\n",
              "------------------------------------------------------------------------------\n",
              "beta.1         1.0000          0          0      0.000       1.000       1.000\n",
              "beta.2     -5.273e-17          0          0      0.000   -5.27e-17   -5.27e-17\n",
              "beta.3      2.996e-17          0          0      0.000       3e-17       3e-17\n",
              "beta.4      9.219e-17          0          0      0.000    9.22e-17    9.22e-17\n",
              "const        -25.9354      2.456    -10.562      0.000     -30.748     -21.123\n",
              "          Cointegration relations for loading-coefficients-column 2           \n",
              "==============================================================================\n",
              "                 coef    std err          z      P>|z|      [0.025      0.975]\n",
              "------------------------------------------------------------------------------\n",
              "beta.1      1.066e-16          0          0      0.000    1.07e-16    1.07e-16\n",
              "beta.2         1.0000          0          0      0.000       1.000       1.000\n",
              "beta.3      6.136e-17          0          0      0.000    6.14e-17    6.14e-17\n",
              "beta.4     -3.603e-18          0          0      0.000    -3.6e-18    -3.6e-18\n",
              "const        -60.5903      3.256    -18.608      0.000     -66.972     -54.208\n",
              "          Cointegration relations for loading-coefficients-column 3           \n",
              "==============================================================================\n",
              "                 coef    std err          z      P>|z|      [0.025      0.975]\n",
              "------------------------------------------------------------------------------\n",
              "beta.1      9.936e-18          0          0      0.000    9.94e-18    9.94e-18\n",
              "beta.2      4.723e-19          0          0      0.000    4.72e-19    4.72e-19\n",
              "beta.3         1.0000          0          0      0.000       1.000       1.000\n",
              "beta.4      4.172e-18          0          0      0.000    4.17e-18    4.17e-18\n",
              "const         -6.8741      0.511    -13.461      0.000      -7.875      -5.873\n",
              "          Cointegration relations for loading-coefficients-column 4           \n",
              "==============================================================================\n",
              "                 coef    std err          z      P>|z|      [0.025      0.975]\n",
              "------------------------------------------------------------------------------\n",
              "beta.1      7.527e-17          0          0      0.000    7.53e-17    7.53e-17\n",
              "beta.2      1.713e-16          0          0      0.000    1.71e-16    1.71e-16\n",
              "beta.3     -8.952e-18          0          0      0.000   -8.95e-18   -8.95e-18\n",
              "beta.4         1.0000          0          0      0.000       1.000       1.000\n",
              "const      -1010.4788      5.250   -192.467      0.000   -1020.769   -1000.189\n",
              "==============================================================================\n",
              "\"\"\""
            ],
            "text/html": [
              "<table class=\"simpletable\">\n",
              "<caption>Det. terms outside the coint. relation & lagged endog. parameters for equation y1</caption>\n",
              "<tr>\n",
              "     <td></td>        <th>coef</th>     <th>std err</th>      <th>z</th>      <th>P>|z|</th>  <th>[0.025</th>    <th>0.975]</th>  \n",
              "</tr>\n",
              "<tr>\n",
              "  <th>season1</th> <td>    0.0468</td> <td>    0.119</td> <td>    0.394</td> <td> 0.694</td> <td>   -0.186</td> <td>    0.280</td>\n",
              "</tr>\n",
              "<tr>\n",
              "  <th>season2</th> <td>    0.0215</td> <td>    0.118</td> <td>    0.182</td> <td> 0.856</td> <td>   -0.210</td> <td>    0.253</td>\n",
              "</tr>\n",
              "<tr>\n",
              "  <th>season3</th> <td>    0.0958</td> <td>    0.119</td> <td>    0.808</td> <td> 0.419</td> <td>   -0.137</td> <td>    0.328</td>\n",
              "</tr>\n",
              "<tr>\n",
              "  <th>L1.y1</th>   <td>   -0.1747</td> <td>    0.035</td> <td>   -4.969</td> <td> 0.000</td> <td>   -0.244</td> <td>   -0.106</td>\n",
              "</tr>\n",
              "<tr>\n",
              "  <th>L1.y2</th>   <td>    0.0051</td> <td>    0.008</td> <td>    0.663</td> <td> 0.507</td> <td>   -0.010</td> <td>    0.020</td>\n",
              "</tr>\n",
              "<tr>\n",
              "  <th>L1.y3</th>   <td>   -0.0624</td> <td>    0.017</td> <td>   -3.602</td> <td> 0.000</td> <td>   -0.096</td> <td>   -0.028</td>\n",
              "</tr>\n",
              "<tr>\n",
              "  <th>L1.y4</th>   <td>   -0.0013</td> <td>    0.001</td> <td>   -2.556</td> <td> 0.011</td> <td>   -0.002</td> <td>   -0.000</td>\n",
              "</tr>\n",
              "<tr>\n",
              "  <th>L2.y1</th>   <td>   -0.1475</td> <td>    0.035</td> <td>   -4.175</td> <td> 0.000</td> <td>   -0.217</td> <td>   -0.078</td>\n",
              "</tr>\n",
              "<tr>\n",
              "  <th>L2.y2</th>   <td>   -0.0059</td> <td>    0.008</td> <td>   -0.776</td> <td> 0.438</td> <td>   -0.021</td> <td>    0.009</td>\n",
              "</tr>\n",
              "<tr>\n",
              "  <th>L2.y3</th>   <td>   -0.0567</td> <td>    0.016</td> <td>   -3.498</td> <td> 0.000</td> <td>   -0.089</td> <td>   -0.025</td>\n",
              "</tr>\n",
              "<tr>\n",
              "  <th>L2.y4</th>   <td>   -0.0009</td> <td>    0.000</td> <td>   -2.008</td> <td> 0.045</td> <td>   -0.002</td> <td>-2.24e-05</td>\n",
              "</tr>\n",
              "<tr>\n",
              "  <th>L3.y1</th>   <td>   -0.1849</td> <td>    0.035</td> <td>   -5.228</td> <td> 0.000</td> <td>   -0.254</td> <td>   -0.116</td>\n",
              "</tr>\n",
              "<tr>\n",
              "  <th>L3.y2</th>   <td>   -0.0057</td> <td>    0.008</td> <td>   -0.763</td> <td> 0.445</td> <td>   -0.020</td> <td>    0.009</td>\n",
              "</tr>\n",
              "<tr>\n",
              "  <th>L3.y3</th>   <td>   -0.0385</td> <td>    0.015</td> <td>   -2.595</td> <td> 0.009</td> <td>   -0.068</td> <td>   -0.009</td>\n",
              "</tr>\n",
              "<tr>\n",
              "  <th>L3.y4</th>   <td>   -0.0008</td> <td>    0.000</td> <td>   -1.957</td> <td> 0.050</td> <td>   -0.002</td> <td> 1.08e-06</td>\n",
              "</tr>\n",
              "<tr>\n",
              "  <th>L4.y1</th>   <td>   -0.0761</td> <td>    0.035</td> <td>   -2.150</td> <td> 0.032</td> <td>   -0.145</td> <td>   -0.007</td>\n",
              "</tr>\n",
              "<tr>\n",
              "  <th>L4.y2</th>   <td>    0.0006</td> <td>    0.007</td> <td>    0.081</td> <td> 0.936</td> <td>   -0.014</td> <td>    0.015</td>\n",
              "</tr>\n",
              "<tr>\n",
              "  <th>L4.y3</th>   <td>   -0.0412</td> <td>    0.013</td> <td>   -3.171</td> <td> 0.002</td> <td>   -0.067</td> <td>   -0.016</td>\n",
              "</tr>\n",
              "<tr>\n",
              "  <th>L4.y4</th>   <td>   -0.0006</td> <td>    0.000</td> <td>   -1.824</td> <td> 0.068</td> <td>   -0.001</td> <td> 4.47e-05</td>\n",
              "</tr>\n",
              "<tr>\n",
              "  <th>L5.y1</th>   <td>   -0.0232</td> <td>    0.035</td> <td>   -0.659</td> <td> 0.510</td> <td>   -0.092</td> <td>    0.046</td>\n",
              "</tr>\n",
              "<tr>\n",
              "  <th>L5.y2</th>   <td>    0.0090</td> <td>    0.007</td> <td>    1.236</td> <td> 0.216</td> <td>   -0.005</td> <td>    0.023</td>\n",
              "</tr>\n",
              "<tr>\n",
              "  <th>L5.y3</th>   <td>   -0.0349</td> <td>    0.011</td> <td>   -3.221</td> <td> 0.001</td> <td>   -0.056</td> <td>   -0.014</td>\n",
              "</tr>\n",
              "<tr>\n",
              "  <th>L5.y4</th>   <td>   -0.0003</td> <td>    0.000</td> <td>   -1.163</td> <td> 0.245</td> <td>   -0.001</td> <td>    0.000</td>\n",
              "</tr>\n",
              "</table>\n",
              "<table class=\"simpletable\">\n",
              "<caption>Det. terms outside the coint. relation & lagged endog. parameters for equation y2</caption>\n",
              "<tr>\n",
              "     <td></td>        <th>coef</th>     <th>std err</th>      <th>z</th>      <th>P>|z|</th>  <th>[0.025</th>    <th>0.975]</th>  \n",
              "</tr>\n",
              "<tr>\n",
              "  <th>season1</th> <td>   -0.3443</td> <td>    0.576</td> <td>   -0.598</td> <td> 0.550</td> <td>   -1.473</td> <td>    0.785</td>\n",
              "</tr>\n",
              "<tr>\n",
              "  <th>season2</th> <td>   -0.4902</td> <td>    0.573</td> <td>   -0.856</td> <td> 0.392</td> <td>   -1.613</td> <td>    0.632</td>\n",
              "</tr>\n",
              "<tr>\n",
              "  <th>season3</th> <td>   -1.1018</td> <td>    0.575</td> <td>   -1.917</td> <td> 0.055</td> <td>   -2.228</td> <td>    0.025</td>\n",
              "</tr>\n",
              "<tr>\n",
              "  <th>L1.y1</th>   <td>    0.8249</td> <td>    0.170</td> <td>    4.843</td> <td> 0.000</td> <td>    0.491</td> <td>    1.159</td>\n",
              "</tr>\n",
              "<tr>\n",
              "  <th>L1.y2</th>   <td>   -0.0106</td> <td>    0.037</td> <td>   -0.283</td> <td> 0.777</td> <td>   -0.084</td> <td>    0.063</td>\n",
              "</tr>\n",
              "<tr>\n",
              "  <th>L1.y3</th>   <td>    0.0291</td> <td>    0.084</td> <td>    0.347</td> <td> 0.729</td> <td>   -0.135</td> <td>    0.194</td>\n",
              "</tr>\n",
              "<tr>\n",
              "  <th>L1.y4</th>   <td>    0.0039</td> <td>    0.002</td> <td>    1.568</td> <td> 0.117</td> <td>   -0.001</td> <td>    0.009</td>\n",
              "</tr>\n",
              "<tr>\n",
              "  <th>L2.y1</th>   <td>   -0.1422</td> <td>    0.171</td> <td>   -0.831</td> <td> 0.406</td> <td>   -0.478</td> <td>    0.193</td>\n",
              "</tr>\n",
              "<tr>\n",
              "  <th>L2.y2</th>   <td>   -0.1696</td> <td>    0.037</td> <td>   -4.576</td> <td> 0.000</td> <td>   -0.242</td> <td>   -0.097</td>\n",
              "</tr>\n",
              "<tr>\n",
              "  <th>L2.y3</th>   <td>    0.0443</td> <td>    0.079</td> <td>    0.564</td> <td> 0.573</td> <td>   -0.110</td> <td>    0.198</td>\n",
              "</tr>\n",
              "<tr>\n",
              "  <th>L2.y4</th>   <td>    0.0019</td> <td>    0.002</td> <td>    0.841</td> <td> 0.400</td> <td>   -0.003</td> <td>    0.006</td>\n",
              "</tr>\n",
              "<tr>\n",
              "  <th>L3.y1</th>   <td>    0.0550</td> <td>    0.171</td> <td>    0.321</td> <td> 0.748</td> <td>   -0.281</td> <td>    0.391</td>\n",
              "</tr>\n",
              "<tr>\n",
              "  <th>L3.y2</th>   <td>   -0.1674</td> <td>    0.036</td> <td>   -4.595</td> <td> 0.000</td> <td>   -0.239</td> <td>   -0.096</td>\n",
              "</tr>\n",
              "<tr>\n",
              "  <th>L3.y3</th>   <td>   -0.0377</td> <td>    0.072</td> <td>   -0.524</td> <td> 0.600</td> <td>   -0.178</td> <td>    0.103</td>\n",
              "</tr>\n",
              "<tr>\n",
              "  <th>L3.y4</th>   <td>    0.0010</td> <td>    0.002</td> <td>    0.525</td> <td> 0.599</td> <td>   -0.003</td> <td>    0.005</td>\n",
              "</tr>\n",
              "<tr>\n",
              "  <th>L4.y1</th>   <td>    0.0887</td> <td>    0.171</td> <td>    0.517</td> <td> 0.605</td> <td>   -0.247</td> <td>    0.425</td>\n",
              "</tr>\n",
              "<tr>\n",
              "  <th>L4.y2</th>   <td>   -0.0879</td> <td>    0.036</td> <td>   -2.439</td> <td> 0.015</td> <td>   -0.159</td> <td>   -0.017</td>\n",
              "</tr>\n",
              "<tr>\n",
              "  <th>L4.y3</th>   <td>    0.0551</td> <td>    0.063</td> <td>    0.876</td> <td> 0.381</td> <td>   -0.068</td> <td>    0.178</td>\n",
              "</tr>\n",
              "<tr>\n",
              "  <th>L4.y4</th>   <td>    0.0001</td> <td>    0.002</td> <td>    0.071</td> <td> 0.943</td> <td>   -0.003</td> <td>    0.003</td>\n",
              "</tr>\n",
              "<tr>\n",
              "  <th>L5.y1</th>   <td>   -0.1300</td> <td>    0.170</td> <td>   -0.763</td> <td> 0.445</td> <td>   -0.464</td> <td>    0.204</td>\n",
              "</tr>\n",
              "<tr>\n",
              "  <th>L5.y2</th>   <td>   -0.0762</td> <td>    0.035</td> <td>   -2.150</td> <td> 0.032</td> <td>   -0.146</td> <td>   -0.007</td>\n",
              "</tr>\n",
              "<tr>\n",
              "  <th>L5.y3</th>   <td>    0.1080</td> <td>    0.053</td> <td>    2.057</td> <td> 0.040</td> <td>    0.005</td> <td>    0.211</td>\n",
              "</tr>\n",
              "<tr>\n",
              "  <th>L5.y4</th>   <td>   -0.0001</td> <td>    0.001</td> <td>   -0.100</td> <td> 0.921</td> <td>   -0.002</td> <td>    0.002</td>\n",
              "</tr>\n",
              "</table>\n",
              "<table class=\"simpletable\">\n",
              "<caption>Det. terms outside the coint. relation & lagged endog. parameters for equation y3</caption>\n",
              "<tr>\n",
              "     <td></td>        <th>coef</th>     <th>std err</th>      <th>z</th>      <th>P>|z|</th>  <th>[0.025</th>    <th>0.975]</th>  \n",
              "</tr>\n",
              "<tr>\n",
              "  <th>season1</th> <td>    0.3906</td> <td>    0.296</td> <td>    1.322</td> <td> 0.186</td> <td>   -0.189</td> <td>    0.970</td>\n",
              "</tr>\n",
              "<tr>\n",
              "  <th>season2</th> <td>    0.0781</td> <td>    0.294</td> <td>    0.266</td> <td> 0.790</td> <td>   -0.498</td> <td>    0.654</td>\n",
              "</tr>\n",
              "<tr>\n",
              "  <th>season3</th> <td>    0.5358</td> <td>    0.295</td> <td>    1.817</td> <td> 0.069</td> <td>   -0.042</td> <td>    1.114</td>\n",
              "</tr>\n",
              "<tr>\n",
              "  <th>L1.y1</th>   <td>   -0.1439</td> <td>    0.087</td> <td>   -1.646</td> <td> 0.100</td> <td>   -0.315</td> <td>    0.027</td>\n",
              "</tr>\n",
              "<tr>\n",
              "  <th>L1.y2</th>   <td>   -0.0770</td> <td>    0.019</td> <td>   -4.006</td> <td> 0.000</td> <td>   -0.115</td> <td>   -0.039</td>\n",
              "</tr>\n",
              "<tr>\n",
              "  <th>L1.y3</th>   <td>   -0.1188</td> <td>    0.043</td> <td>   -2.759</td> <td> 0.006</td> <td>   -0.203</td> <td>   -0.034</td>\n",
              "</tr>\n",
              "<tr>\n",
              "  <th>L1.y4</th>   <td>    0.0014</td> <td>    0.001</td> <td>    1.069</td> <td> 0.285</td> <td>   -0.001</td> <td>    0.004</td>\n",
              "</tr>\n",
              "<tr>\n",
              "  <th>L2.y1</th>   <td>    0.2817</td> <td>    0.088</td> <td>    3.209</td> <td> 0.001</td> <td>    0.110</td> <td>    0.454</td>\n",
              "</tr>\n",
              "<tr>\n",
              "  <th>L2.y2</th>   <td>    0.0212</td> <td>    0.019</td> <td>    1.117</td> <td> 0.264</td> <td>   -0.016</td> <td>    0.058</td>\n",
              "</tr>\n",
              "<tr>\n",
              "  <th>L2.y3</th>   <td>   -0.1133</td> <td>    0.040</td> <td>   -2.811</td> <td> 0.005</td> <td>   -0.192</td> <td>   -0.034</td>\n",
              "</tr>\n",
              "<tr>\n",
              "  <th>L2.y4</th>   <td>    0.0012</td> <td>    0.001</td> <td>    1.048</td> <td> 0.295</td> <td>   -0.001</td> <td>    0.003</td>\n",
              "</tr>\n",
              "<tr>\n",
              "  <th>L3.y1</th>   <td>    0.2044</td> <td>    0.088</td> <td>    2.327</td> <td> 0.020</td> <td>    0.032</td> <td>    0.377</td>\n",
              "</tr>\n",
              "<tr>\n",
              "  <th>L3.y2</th>   <td>    0.0123</td> <td>    0.019</td> <td>    0.659</td> <td> 0.510</td> <td>   -0.024</td> <td>    0.049</td>\n",
              "</tr>\n",
              "<tr>\n",
              "  <th>L3.y3</th>   <td>   -0.0726</td> <td>    0.037</td> <td>   -1.972</td> <td> 0.049</td> <td>   -0.145</td> <td>   -0.000</td>\n",
              "</tr>\n",
              "<tr>\n",
              "  <th>L3.y4</th>   <td>    0.0009</td> <td>    0.001</td> <td>    0.903</td> <td> 0.367</td> <td>   -0.001</td> <td>    0.003</td>\n",
              "</tr>\n",
              "<tr>\n",
              "  <th>L4.y1</th>   <td>   -0.0465</td> <td>    0.088</td> <td>   -0.528</td> <td> 0.597</td> <td>   -0.219</td> <td>    0.126</td>\n",
              "</tr>\n",
              "<tr>\n",
              "  <th>L4.y2</th>   <td>   -0.0169</td> <td>    0.018</td> <td>   -0.916</td> <td> 0.360</td> <td>   -0.053</td> <td>    0.019</td>\n",
              "</tr>\n",
              "<tr>\n",
              "  <th>L4.y3</th>   <td>   -0.0611</td> <td>    0.032</td> <td>   -1.894</td> <td> 0.058</td> <td>   -0.124</td> <td>    0.002</td>\n",
              "</tr>\n",
              "<tr>\n",
              "  <th>L4.y4</th>   <td>    0.0014</td> <td>    0.001</td> <td>    1.682</td> <td> 0.093</td> <td>   -0.000</td> <td>    0.003</td>\n",
              "</tr>\n",
              "<tr>\n",
              "  <th>L5.y1</th>   <td>    0.1050</td> <td>    0.087</td> <td>    1.202</td> <td> 0.229</td> <td>   -0.066</td> <td>    0.276</td>\n",
              "</tr>\n",
              "<tr>\n",
              "  <th>L5.y2</th>   <td>    0.0079</td> <td>    0.018</td> <td>    0.432</td> <td> 0.666</td> <td>   -0.028</td> <td>    0.044</td>\n",
              "</tr>\n",
              "<tr>\n",
              "  <th>L5.y3</th>   <td>   -0.0284</td> <td>    0.027</td> <td>   -1.055</td> <td> 0.291</td> <td>   -0.081</td> <td>    0.024</td>\n",
              "</tr>\n",
              "<tr>\n",
              "  <th>L5.y4</th>   <td>    0.0008</td> <td>    0.001</td> <td>    1.340</td> <td> 0.180</td> <td>   -0.000</td> <td>    0.002</td>\n",
              "</tr>\n",
              "</table>\n",
              "<table class=\"simpletable\">\n",
              "<caption>Det. terms outside the coint. relation & lagged endog. parameters for equation y4</caption>\n",
              "<tr>\n",
              "     <td></td>        <th>coef</th>     <th>std err</th>      <th>z</th>      <th>P>|z|</th>  <th>[0.025</th>    <th>0.975]</th>  \n",
              "</tr>\n",
              "<tr>\n",
              "  <th>season1</th> <td>    4.7553</td> <td>   13.348</td> <td>    0.356</td> <td> 0.722</td> <td>  -21.407</td> <td>   30.917</td>\n",
              "</tr>\n",
              "<tr>\n",
              "  <th>season2</th> <td>    2.7353</td> <td>   13.269</td> <td>    0.206</td> <td> 0.837</td> <td>  -23.272</td> <td>   28.742</td>\n",
              "</tr>\n",
              "<tr>\n",
              "  <th>season3</th> <td>   24.9628</td> <td>   13.315</td> <td>    1.875</td> <td> 0.061</td> <td>   -1.133</td> <td>   51.059</td>\n",
              "</tr>\n",
              "<tr>\n",
              "  <th>L1.y1</th>   <td>    3.2298</td> <td>    3.946</td> <td>    0.818</td> <td> 0.413</td> <td>   -4.505</td> <td>   10.965</td>\n",
              "</tr>\n",
              "<tr>\n",
              "  <th>L1.y2</th>   <td>    0.5662</td> <td>    0.869</td> <td>    0.652</td> <td> 0.515</td> <td>   -1.136</td> <td>    2.269</td>\n",
              "</tr>\n",
              "<tr>\n",
              "  <th>L1.y3</th>   <td>   -1.7396</td> <td>    1.944</td> <td>   -0.895</td> <td> 0.371</td> <td>   -5.551</td> <td>    2.071</td>\n",
              "</tr>\n",
              "<tr>\n",
              "  <th>L1.y4</th>   <td>   -0.0184</td> <td>    0.058</td> <td>   -0.318</td> <td> 0.750</td> <td>   -0.132</td> <td>    0.095</td>\n",
              "</tr>\n",
              "<tr>\n",
              "  <th>L2.y1</th>   <td>   -9.7103</td> <td>    3.964</td> <td>   -2.449</td> <td> 0.014</td> <td>  -17.480</td> <td>   -1.940</td>\n",
              "</tr>\n",
              "<tr>\n",
              "  <th>L2.y2</th>   <td>   -0.3229</td> <td>    0.859</td> <td>   -0.376</td> <td> 0.707</td> <td>   -2.006</td> <td>    1.360</td>\n",
              "</tr>\n",
              "<tr>\n",
              "  <th>L2.y3</th>   <td>   -1.3253</td> <td>    1.820</td> <td>   -0.728</td> <td> 0.467</td> <td>   -4.893</td> <td>    2.242</td>\n",
              "</tr>\n",
              "<tr>\n",
              "  <th>L2.y4</th>   <td>   -0.0067</td> <td>    0.052</td> <td>   -0.128</td> <td> 0.898</td> <td>   -0.108</td> <td>    0.095</td>\n",
              "</tr>\n",
              "<tr>\n",
              "  <th>L3.y1</th>   <td>    6.3525</td> <td>    3.968</td> <td>    1.601</td> <td> 0.109</td> <td>   -1.425</td> <td>   14.130</td>\n",
              "</tr>\n",
              "<tr>\n",
              "  <th>L3.y2</th>   <td>    1.5277</td> <td>    0.844</td> <td>    1.811</td> <td> 0.070</td> <td>   -0.126</td> <td>    3.181</td>\n",
              "</tr>\n",
              "<tr>\n",
              "  <th>L3.y3</th>   <td>   -2.4979</td> <td>    1.663</td> <td>   -1.502</td> <td> 0.133</td> <td>   -5.758</td> <td>    0.762</td>\n",
              "</tr>\n",
              "<tr>\n",
              "  <th>L3.y4</th>   <td>    0.0009</td> <td>    0.045</td> <td>    0.021</td> <td> 0.984</td> <td>   -0.087</td> <td>    0.089</td>\n",
              "</tr>\n",
              "<tr>\n",
              "  <th>L4.y1</th>   <td>    5.3684</td> <td>    3.972</td> <td>    1.352</td> <td> 0.177</td> <td>   -2.417</td> <td>   13.154</td>\n",
              "</tr>\n",
              "<tr>\n",
              "  <th>L4.y2</th>   <td>    0.6088</td> <td>    0.835</td> <td>    0.729</td> <td> 0.466</td> <td>   -1.027</td> <td>    2.245</td>\n",
              "</tr>\n",
              "<tr>\n",
              "  <th>L4.y3</th>   <td>   -3.5565</td> <td>    1.458</td> <td>   -2.439</td> <td> 0.015</td> <td>   -6.414</td> <td>   -0.699</td>\n",
              "</tr>\n",
              "<tr>\n",
              "  <th>L4.y4</th>   <td>-7.911e-05</td> <td>    0.037</td> <td>   -0.002</td> <td> 0.998</td> <td>   -0.072</td> <td>    0.072</td>\n",
              "</tr>\n",
              "<tr>\n",
              "  <th>L5.y1</th>   <td>    5.8373</td> <td>    3.945</td> <td>    1.480</td> <td> 0.139</td> <td>   -1.895</td> <td>   13.570</td>\n",
              "</tr>\n",
              "<tr>\n",
              "  <th>L5.y2</th>   <td>    0.8026</td> <td>    0.821</td> <td>    0.977</td> <td> 0.329</td> <td>   -0.807</td> <td>    2.413</td>\n",
              "</tr>\n",
              "<tr>\n",
              "  <th>L5.y3</th>   <td>   -3.4773</td> <td>    1.216</td> <td>   -2.859</td> <td> 0.004</td> <td>   -5.861</td> <td>   -1.093</td>\n",
              "</tr>\n",
              "<tr>\n",
              "  <th>L5.y4</th>   <td>    0.0013</td> <td>    0.026</td> <td>    0.051</td> <td> 0.960</td> <td>   -0.050</td> <td>    0.052</td>\n",
              "</tr>\n",
              "</table>\n",
              "<table class=\"simpletable\">\n",
              "<caption>Loading coefficients (alpha) for equation y1</caption>\n",
              "<tr>\n",
              "   <td></td>      <th>coef</th>     <th>std err</th>      <th>z</th>      <th>P>|z|</th>  <th>[0.025</th>    <th>0.975]</th>  \n",
              "</tr>\n",
              "<tr>\n",
              "  <th>ec1</th> <td>   -0.0196</td> <td>    0.007</td> <td>   -2.616</td> <td> 0.009</td> <td>   -0.034</td> <td>   -0.005</td>\n",
              "</tr>\n",
              "<tr>\n",
              "  <th>ec2</th> <td>    0.0034</td> <td>    0.004</td> <td>    0.945</td> <td> 0.345</td> <td>   -0.004</td> <td>    0.010</td>\n",
              "</tr>\n",
              "<tr>\n",
              "  <th>ec3</th> <td>    0.0411</td> <td>    0.018</td> <td>    2.339</td> <td> 0.019</td> <td>    0.007</td> <td>    0.076</td>\n",
              "</tr>\n",
              "<tr>\n",
              "  <th>ec4</th> <td>    0.0014</td> <td>    0.001</td> <td>    2.407</td> <td> 0.016</td> <td>    0.000</td> <td>    0.002</td>\n",
              "</tr>\n",
              "</table>\n",
              "<table class=\"simpletable\">\n",
              "<caption>Loading coefficients (alpha) for equation y2</caption>\n",
              "<tr>\n",
              "   <td></td>      <th>coef</th>     <th>std err</th>      <th>z</th>      <th>P>|z|</th>  <th>[0.025</th>    <th>0.975]</th>  \n",
              "</tr>\n",
              "<tr>\n",
              "  <th>ec1</th> <td>   -0.0418</td> <td>    0.036</td> <td>   -1.150</td> <td> 0.250</td> <td>   -0.113</td> <td>    0.029</td>\n",
              "</tr>\n",
              "<tr>\n",
              "  <th>ec2</th> <td>   -0.0819</td> <td>    0.017</td> <td>   -4.682</td> <td> 0.000</td> <td>   -0.116</td> <td>   -0.048</td>\n",
              "</tr>\n",
              "<tr>\n",
              "  <th>ec3</th> <td>    0.0123</td> <td>    0.085</td> <td>    0.144</td> <td> 0.886</td> <td>   -0.155</td> <td>    0.179</td>\n",
              "</tr>\n",
              "<tr>\n",
              "  <th>ec4</th> <td>   -0.0045</td> <td>    0.003</td> <td>   -1.661</td> <td> 0.097</td> <td>   -0.010</td> <td>    0.001</td>\n",
              "</tr>\n",
              "</table>\n",
              "<table class=\"simpletable\">\n",
              "<caption>Loading coefficients (alpha) for equation y3</caption>\n",
              "<tr>\n",
              "   <td></td>      <th>coef</th>     <th>std err</th>      <th>z</th>      <th>P>|z|</th>  <th>[0.025</th>    <th>0.975]</th>  \n",
              "</tr>\n",
              "<tr>\n",
              "  <th>ec1</th> <td>    0.0785</td> <td>    0.019</td> <td>    4.215</td> <td> 0.000</td> <td>    0.042</td> <td>    0.115</td>\n",
              "</tr>\n",
              "<tr>\n",
              "  <th>ec2</th> <td>   -0.0142</td> <td>    0.009</td> <td>   -1.587</td> <td> 0.112</td> <td>   -0.032</td> <td>    0.003</td>\n",
              "</tr>\n",
              "<tr>\n",
              "  <th>ec3</th> <td>   -0.5452</td> <td>    0.044</td> <td>  -12.484</td> <td> 0.000</td> <td>   -0.631</td> <td>   -0.460</td>\n",
              "</tr>\n",
              "<tr>\n",
              "  <th>ec4</th> <td>   -0.0010</td> <td>    0.001</td> <td>   -0.737</td> <td> 0.461</td> <td>   -0.004</td> <td>    0.002</td>\n",
              "</tr>\n",
              "</table>\n",
              "<table class=\"simpletable\">\n",
              "<caption>Loading coefficients (alpha) for equation y4</caption>\n",
              "<tr>\n",
              "   <td></td>      <th>coef</th>     <th>std err</th>      <th>z</th>      <th>P>|z|</th>  <th>[0.025</th>    <th>0.975]</th>  \n",
              "</tr>\n",
              "<tr>\n",
              "  <th>ec1</th> <td>   -1.8292</td> <td>    0.841</td> <td>   -2.175</td> <td> 0.030</td> <td>   -3.478</td> <td>   -0.181</td>\n",
              "</tr>\n",
              "<tr>\n",
              "  <th>ec2</th> <td>   -0.4791</td> <td>    0.405</td> <td>   -1.182</td> <td> 0.237</td> <td>   -1.274</td> <td>    0.316</td>\n",
              "</tr>\n",
              "<tr>\n",
              "  <th>ec3</th> <td>    1.4789</td> <td>    1.972</td> <td>    0.750</td> <td> 0.453</td> <td>   -2.387</td> <td>    5.345</td>\n",
              "</tr>\n",
              "<tr>\n",
              "  <th>ec4</th> <td>   -0.9816</td> <td>    0.063</td> <td>  -15.526</td> <td> 0.000</td> <td>   -1.105</td> <td>   -0.858</td>\n",
              "</tr>\n",
              "</table>\n",
              "<table class=\"simpletable\">\n",
              "<caption>Cointegration relations for loading-coefficients-column 1</caption>\n",
              "<tr>\n",
              "     <td></td>       <th>coef</th>     <th>std err</th>      <th>z</th>      <th>P>|z|</th>  <th>[0.025</th>    <th>0.975]</th>  \n",
              "</tr>\n",
              "<tr>\n",
              "  <th>beta.1</th> <td>    1.0000</td> <td>        0</td> <td>        0</td> <td> 0.000</td> <td>    1.000</td> <td>    1.000</td>\n",
              "</tr>\n",
              "<tr>\n",
              "  <th>beta.2</th> <td>-5.273e-17</td> <td>        0</td> <td>        0</td> <td> 0.000</td> <td>-5.27e-17</td> <td>-5.27e-17</td>\n",
              "</tr>\n",
              "<tr>\n",
              "  <th>beta.3</th> <td> 2.996e-17</td> <td>        0</td> <td>        0</td> <td> 0.000</td> <td>    3e-17</td> <td>    3e-17</td>\n",
              "</tr>\n",
              "<tr>\n",
              "  <th>beta.4</th> <td> 9.219e-17</td> <td>        0</td> <td>        0</td> <td> 0.000</td> <td> 9.22e-17</td> <td> 9.22e-17</td>\n",
              "</tr>\n",
              "<tr>\n",
              "  <th>const</th>  <td>  -25.9354</td> <td>    2.456</td> <td>  -10.562</td> <td> 0.000</td> <td>  -30.748</td> <td>  -21.123</td>\n",
              "</tr>\n",
              "</table>\n",
              "<table class=\"simpletable\">\n",
              "<caption>Cointegration relations for loading-coefficients-column 2</caption>\n",
              "<tr>\n",
              "     <td></td>       <th>coef</th>     <th>std err</th>      <th>z</th>      <th>P>|z|</th>  <th>[0.025</th>    <th>0.975]</th>  \n",
              "</tr>\n",
              "<tr>\n",
              "  <th>beta.1</th> <td> 1.066e-16</td> <td>        0</td> <td>        0</td> <td> 0.000</td> <td> 1.07e-16</td> <td> 1.07e-16</td>\n",
              "</tr>\n",
              "<tr>\n",
              "  <th>beta.2</th> <td>    1.0000</td> <td>        0</td> <td>        0</td> <td> 0.000</td> <td>    1.000</td> <td>    1.000</td>\n",
              "</tr>\n",
              "<tr>\n",
              "  <th>beta.3</th> <td> 6.136e-17</td> <td>        0</td> <td>        0</td> <td> 0.000</td> <td> 6.14e-17</td> <td> 6.14e-17</td>\n",
              "</tr>\n",
              "<tr>\n",
              "  <th>beta.4</th> <td>-3.603e-18</td> <td>        0</td> <td>        0</td> <td> 0.000</td> <td> -3.6e-18</td> <td> -3.6e-18</td>\n",
              "</tr>\n",
              "<tr>\n",
              "  <th>const</th>  <td>  -60.5903</td> <td>    3.256</td> <td>  -18.608</td> <td> 0.000</td> <td>  -66.972</td> <td>  -54.208</td>\n",
              "</tr>\n",
              "</table>\n",
              "<table class=\"simpletable\">\n",
              "<caption>Cointegration relations for loading-coefficients-column 3</caption>\n",
              "<tr>\n",
              "     <td></td>       <th>coef</th>     <th>std err</th>      <th>z</th>      <th>P>|z|</th>  <th>[0.025</th>    <th>0.975]</th>  \n",
              "</tr>\n",
              "<tr>\n",
              "  <th>beta.1</th> <td> 9.936e-18</td> <td>        0</td> <td>        0</td> <td> 0.000</td> <td> 9.94e-18</td> <td> 9.94e-18</td>\n",
              "</tr>\n",
              "<tr>\n",
              "  <th>beta.2</th> <td> 4.723e-19</td> <td>        0</td> <td>        0</td> <td> 0.000</td> <td> 4.72e-19</td> <td> 4.72e-19</td>\n",
              "</tr>\n",
              "<tr>\n",
              "  <th>beta.3</th> <td>    1.0000</td> <td>        0</td> <td>        0</td> <td> 0.000</td> <td>    1.000</td> <td>    1.000</td>\n",
              "</tr>\n",
              "<tr>\n",
              "  <th>beta.4</th> <td> 4.172e-18</td> <td>        0</td> <td>        0</td> <td> 0.000</td> <td> 4.17e-18</td> <td> 4.17e-18</td>\n",
              "</tr>\n",
              "<tr>\n",
              "  <th>const</th>  <td>   -6.8741</td> <td>    0.511</td> <td>  -13.461</td> <td> 0.000</td> <td>   -7.875</td> <td>   -5.873</td>\n",
              "</tr>\n",
              "</table>\n",
              "<table class=\"simpletable\">\n",
              "<caption>Cointegration relations for loading-coefficients-column 4</caption>\n",
              "<tr>\n",
              "     <td></td>       <th>coef</th>     <th>std err</th>      <th>z</th>      <th>P>|z|</th>  <th>[0.025</th>    <th>0.975]</th>  \n",
              "</tr>\n",
              "<tr>\n",
              "  <th>beta.1</th> <td> 7.527e-17</td> <td>        0</td> <td>        0</td> <td> 0.000</td> <td> 7.53e-17</td> <td> 7.53e-17</td>\n",
              "</tr>\n",
              "<tr>\n",
              "  <th>beta.2</th> <td> 1.713e-16</td> <td>        0</td> <td>        0</td> <td> 0.000</td> <td> 1.71e-16</td> <td> 1.71e-16</td>\n",
              "</tr>\n",
              "<tr>\n",
              "  <th>beta.3</th> <td>-8.952e-18</td> <td>        0</td> <td>        0</td> <td> 0.000</td> <td>-8.95e-18</td> <td>-8.95e-18</td>\n",
              "</tr>\n",
              "<tr>\n",
              "  <th>beta.4</th> <td>    1.0000</td> <td>        0</td> <td>        0</td> <td> 0.000</td> <td>    1.000</td> <td>    1.000</td>\n",
              "</tr>\n",
              "<tr>\n",
              "  <th>const</th>  <td>-1010.4788</td> <td>    5.250</td> <td> -192.467</td> <td> 0.000</td> <td>-1020.769</td> <td>-1000.189</td>\n",
              "</tr>\n",
              "</table>"
            ]
          },
          "metadata": {},
          "execution_count": 18
        }
      ]
    },
    {
      "cell_type": "code",
      "source": [
        "vecm_res.alpha"
      ],
      "metadata": {
        "colab": {
          "base_uri": "https://localhost:8080/"
        },
        "id": "qGNAVaa2cnY6",
        "outputId": "093a0aca-e18d-4d3e-d787-7fd80a662da0"
      },
      "execution_count": null,
      "outputs": [
        {
          "output_type": "execute_result",
          "data": {
            "text/plain": [
              "array([[-1.96108340e-02,  3.41322895e-03,  4.11009951e-02,\n",
              "         1.35622459e-03],\n",
              "       [-4.17601014e-02, -8.19263935e-02,  1.22527299e-02,\n",
              "        -4.53138985e-03],\n",
              "       [ 7.85053524e-02, -1.42474046e-02, -5.45216344e-01,\n",
              "        -1.03198472e-03],\n",
              "       [-1.82922941e+00, -4.79113855e-01,  1.47893727e+00,\n",
              "        -9.81571298e-01]])"
            ]
          },
          "metadata": {},
          "execution_count": 19
        }
      ]
    },
    {
      "cell_type": "code",
      "source": [
        "vecm_res.stderr_alpha"
      ],
      "metadata": {
        "colab": {
          "base_uri": "https://localhost:8080/"
        },
        "id": "7-_QUqThcqYH",
        "outputId": "103539ad-24cc-4cee-afb4-a7b53e7359bd"
      },
      "execution_count": null,
      "outputs": [
        {
          "output_type": "execute_result",
          "data": {
            "text/plain": [
              "array([[7.49553248e-03, 3.61267201e-03, 1.75746613e-02, 5.63354236e-04],\n",
              "       [3.63058122e-02, 1.74985555e-02, 8.51256870e-02, 2.72869647e-03],\n",
              "       [1.86257514e-02, 8.97717820e-03, 4.36715168e-02, 1.39988666e-03],\n",
              "       [8.41181633e-01, 4.05429948e-01, 1.97230582e+00, 6.32220909e-02]])"
            ]
          },
          "metadata": {},
          "execution_count": 20
        }
      ]
    },
    {
      "cell_type": "code",
      "source": [
        "vecm_res.predict(steps=5)"
      ],
      "metadata": {
        "colab": {
          "base_uri": "https://localhost:8080/"
        },
        "id": "CSfm1jl1ctnE",
        "outputId": "3a12ad60-1aad-4901-ed46-36f5c98a3862"
      },
      "execution_count": null,
      "outputs": [
        {
          "output_type": "execute_result",
          "data": {
            "text/plain": [
              "array([[  11.86398426,   89.79106055,    2.45645377, 1028.23069653],\n",
              "       [  12.5921276 ,   87.51335139,    2.97199643, 1047.42689971],\n",
              "       [  13.33740746,   86.34151103,    3.33009514,  994.87868969],\n",
              "       [  13.47695606,   85.48256866,    4.33787278, 1001.94780542],\n",
              "       [  13.64733503,   84.03961722,    4.53189803, 1026.72226761]])"
            ]
          },
          "metadata": {},
          "execution_count": 21
        }
      ]
    },
    {
      "cell_type": "code",
      "source": [
        "vecm_res.predict(steps=5, alpha=0.05)\n",
        "for text, vaĺues in zip((\"forecast\", \"lower\", \"upper\"), vecm_res.predict(steps=5, alpha=0.05)):\n",
        "    print(text+\":\", vaĺues, sep=\"\\n\")"
      ],
      "metadata": {
        "colab": {
          "base_uri": "https://localhost:8080/"
        },
        "id": "8gfQULVbc3Uv",
        "outputId": "3b215de4-56a2-4dce-dadd-6f08cf381dea"
      },
      "execution_count": null,
      "outputs": [
        {
          "output_type": "stream",
          "name": "stdout",
          "text": [
            "forecast:\n",
            "[[  11.86398426   89.79106055    2.45645377 1028.23069653]\n",
            " [  12.5921276    87.51335139    2.97199643 1047.42689971]\n",
            " [  13.33740746   86.34151103    3.33009514  994.87868969]\n",
            " [  13.47695606   85.48256866    4.33787278 1001.94780542]\n",
            " [  13.64733503   84.03961722    4.53189803 1026.72226761]]\n",
            "lower:\n",
            "[[  8.75465126  74.73050811  -5.26997044 679.28766647]\n",
            " [  8.65335047  68.18298137  -5.37505136 698.4591028 ]\n",
            " [  8.88629446  64.90217417  -5.1417886  644.579665  ]\n",
            " [  8.7356905   63.03440521  -4.20744836 651.2576102 ]\n",
            " [  8.65049277  60.85683241  -4.03446401 675.60832545]]\n",
            "upper:\n",
            "[[  14.97331727  104.85161299   10.18287797 1377.17372658]\n",
            " [  16.53090474  106.84372141   11.31904423 1396.39469662]\n",
            " [  17.78852046  107.7808479    11.80197889 1345.17771438]\n",
            " [  18.21822161  107.93073211   12.88319392 1352.63800065]\n",
            " [  18.64417729  107.22240204   13.09826006 1377.83620976]]\n"
          ]
        }
      ]
    },
    {
      "cell_type": "code",
      "source": [
        "vecm_res.plot_forecast(steps=5, plot_conf_int=False)"
      ],
      "metadata": {
        "colab": {
          "base_uri": "https://localhost:8080/",
          "height": 853
        },
        "id": "4oYXLpe-c6K_",
        "outputId": "95aad7cf-ba0e-4af7-fb8b-f75a0cda585d"
      },
      "execution_count": null,
      "outputs": [
        {
          "output_type": "display_data",
          "data": {
            "text/plain": [
              "<Figure size 1000x1000 with 4 Axes>"
            ],
            "image/png": "[encoded data removed]"
          },
          "metadata": {}
        }
      ]
    },
    {
      "cell_type": "code",
      "source": [
        "print(vecm_res.var_rep[0])  # A_1\n",
        "vecm_res.var_rep\n"
      ],
      "metadata": {
        "colab": {
          "base_uri": "https://localhost:8080/"
        },
        "id": "tdf1JxQ6c9Uc",
        "outputId": "74d92e7b-fa93-4aec-c487-8a42ce32cb95"
      },
      "execution_count": null,
      "outputs": [
        {
          "output_type": "stream",
          "name": "stdout",
          "text": [
            "[[ 8.05644456e-01  8.54350013e-03 -2.12990345e-02  3.92305467e-05]\n",
            " [ 7.83181191e-01  9.07456514e-01  4.13603149e-02 -6.17460991e-04]\n",
            " [-6.53707276e-02 -9.12908259e-02  3.35987992e-01  3.37231643e-04]\n",
            " [ 1.40054582e+00  8.70579917e-02 -2.60697846e-01  3.42900882e-05]]\n"
          ]
        },
        {
          "output_type": "execute_result",
          "data": {
            "text/plain": [
              "array([[[ 8.05644456e-01,  8.54350013e-03, -2.12990345e-02,\n",
              "          3.92305467e-05],\n",
              "        [ 7.83181191e-01,  9.07456514e-01,  4.13603149e-02,\n",
              "         -6.17460991e-04],\n",
              "        [-6.53707276e-02, -9.12908259e-02,  3.35987992e-01,\n",
              "          3.37231643e-04],\n",
              "        [ 1.40054582e+00,  8.70579917e-02, -2.60697846e-01,\n",
              "          3.42900882e-05]],\n",
              "\n",
              "       [[ 2.72537761e-02, -1.10642362e-02,  5.65532099e-03,\n",
              "          3.89402081e-04],\n",
              "        [-9.67119245e-01, -1.58982554e-01,  1.51951694e-02,\n",
              "         -2.03197132e-03],\n",
              "        [ 4.25531524e-01,  9.82772015e-02,  5.48569521e-03,\n",
              "         -1.66750514e-04],\n",
              "        [-1.29400458e+01, -8.89108434e-01,  4.14367245e-01,\n",
              "          1.17364754e-02]],\n",
              "\n",
              "       [[-3.73922225e-02,  1.95725177e-04,  1.82831935e-02,\n",
              "          1.43770124e-04],\n",
              "        [ 1.97192813e-01,  2.24900587e-03, -8.19553583e-02,\n",
              "         -8.62683351e-04],\n",
              "        [-7.72172660e-02, -8.91675511e-03,  4.06830296e-02,\n",
              "         -3.04173182e-04],\n",
              "        [ 1.60628186e+01,  1.85058748e+00, -1.17264444e+00,\n",
              "          7.58318852e-03]],\n",
              "\n",
              "       [[ 1.08769455e-01,  6.33888544e-03, -2.73132124e-03,\n",
              "          1.86375318e-04],\n",
              "        [ 3.36634825e-02,  7.94559293e-02,  9.27874953e-02,\n",
              "         -9.05914846e-04],\n",
              "        [-2.50904166e-01, -2.92505204e-02,  1.14803134e-02,\n",
              "          4.71058703e-04],\n",
              "        [-9.84168457e-01, -9.18867779e-01, -1.05861058e+00,\n",
              "         -1.00436026e-03]],\n",
              "\n",
              "       [[ 5.29293422e-02,  8.44910601e-03,  6.27825271e-03,\n",
              "          3.27930854e-04],\n",
              "        [-2.18630417e-01,  1.16624171e-02,  5.28730051e-02,\n",
              "         -2.25088666e-04],\n",
              "        [ 1.51440929e-01,  2.47839035e-02,  3.27316039e-02,\n",
              "         -5.97521128e-04],\n",
              "        [ 4.68946621e-01,  1.93810084e-01,  7.92230470e-02,\n",
              "          1.39543451e-03]],\n",
              "\n",
              "       [[ 2.31843584e-02, -9.04975157e-03,  3.49145836e-02,\n",
              "          2.69515665e-04],\n",
              "        [ 1.29952074e-01,  7.62322939e-02, -1.08007897e-01,\n",
              "          1.11729325e-04],\n",
              "        [-1.04974941e-01, -7.85040808e-03,  2.84150218e-02,\n",
              "         -7.71830244e-04],\n",
              "        [-5.83732629e+00, -8.02593200e-01,  3.47729985e+00,\n",
              "         -1.31632605e-03]]])"
            ]
          },
          "metadata": {},
          "execution_count": 24
        }
      ]
    },
    {
      "cell_type": "code",
      "source": [
        "vecm_res.ma_rep(maxn=2)"
      ],
      "metadata": {
        "colab": {
          "base_uri": "https://localhost:8080/"
        },
        "id": "kMT1X-RzdAO0",
        "outputId": "154e7f1b-6d14-4bc6-c73e-7a656afb576f"
      },
      "execution_count": null,
      "outputs": [
        {
          "output_type": "execute_result",
          "data": {
            "text/plain": [
              "array([[[ 1.00000000e+00,  0.00000000e+00,  0.00000000e+00,\n",
              "          0.00000000e+00],\n",
              "        [ 0.00000000e+00,  1.00000000e+00,  0.00000000e+00,\n",
              "          0.00000000e+00],\n",
              "        [ 0.00000000e+00,  0.00000000e+00,  1.00000000e+00,\n",
              "          0.00000000e+00],\n",
              "        [ 0.00000000e+00,  0.00000000e+00,  0.00000000e+00,\n",
              "          1.00000000e+00]],\n",
              "\n",
              "       [[ 8.05644456e-01,  8.54350013e-03, -2.12990345e-02,\n",
              "          3.92305467e-05],\n",
              "        [ 7.83181191e-01,  9.07456514e-01,  4.13603149e-02,\n",
              "         -6.17460991e-04],\n",
              "        [-6.53707276e-02, -9.12908259e-02,  3.35987992e-01,\n",
              "          3.37231643e-04],\n",
              "        [ 1.40054582e+00,  8.70579917e-02, -2.60697846e-01,\n",
              "          3.42900882e-05]],\n",
              "\n",
              "       [[ 6.84455152e-01,  5.51946391e-03, -1.83172134e-02,\n",
              "          4.08551312e-04],\n",
              "        [ 3.70980678e-01,  6.67356308e-01,  5.01043933e-02,\n",
              "         -2.54763886e-03],\n",
              "        [ 2.79877230e-01, -1.57670106e-02,  1.15902227e-01,\n",
              "          3.70826588e-07],\n",
              "        [-1.17264316e+01, -7.74339222e-01,  3.00537432e-01,\n",
              "          1.16497503e-02]]])"
            ]
          },
          "metadata": {},
          "execution_count": 25
        }
      ]
    },
    {
      "cell_type": "code",
      "source": [
        "granger_results = vecm_res.test_granger_causality(caused=\"Dp\", signif=0.05)\n",
        "granger_results.summary()"
      ],
      "metadata": {
        "colab": {
          "base_uri": "https://localhost:8080/",
          "height": 330
        },
        "id": "gJ_J_y-PdDTf",
        "outputId": "3d4a54ca-db50-42ef-a103-f0f8b885407a"
      },
      "execution_count": null,
      "outputs": [
        {
          "output_type": "error",
          "ename": "ValueError",
          "evalue": "ignored",
          "traceback": [
            "\u001b[0;31m---------------------------------------------------------------------------\u001b[0m",
            "\u001b[0;31mValueError\u001b[0m                                Traceback (most recent call last)",
            "\u001b[0;32m<ipython-input-26-1db10ca9d501>\u001b[0m in \u001b[0;36m<cell line: 1>\u001b[0;34m()\u001b[0m\n\u001b[0;32m----> 1\u001b[0;31m \u001b[0mgranger_results\u001b[0m \u001b[0;34m=\u001b[0m \u001b[0mvecm_res\u001b[0m\u001b[0;34m.\u001b[0m\u001b[0mtest_granger_causality\u001b[0m\u001b[0;34m(\u001b[0m\u001b[0mcaused\u001b[0m\u001b[0;34m=\u001b[0m\u001b[0;34m\"Dp\"\u001b[0m\u001b[0;34m,\u001b[0m \u001b[0msignif\u001b[0m\u001b[0;34m=\u001b[0m\u001b[0;36m0.05\u001b[0m\u001b[0;34m)\u001b[0m\u001b[0;34m\u001b[0m\u001b[0;34m\u001b[0m\u001b[0m\n\u001b[0m\u001b[1;32m      2\u001b[0m \u001b[0mgranger_results\u001b[0m\u001b[0;34m.\u001b[0m\u001b[0msummary\u001b[0m\u001b[0;34m(\u001b[0m\u001b[0;34m)\u001b[0m\u001b[0;34m\u001b[0m\u001b[0;34m\u001b[0m\u001b[0m\n",
            "\u001b[0;32m/usr/local/lib/python3.10/dist-packages/statsmodels/tsa/vector_ar/vecm.py\u001b[0m in \u001b[0;36mtest_granger_causality\u001b[0;34m(self, caused, causing, signif)\u001b[0m\n\u001b[1;32m   2019\u001b[0m             )\n\u001b[1;32m   2020\u001b[0m         \u001b[0mcaused\u001b[0m \u001b[0;34m=\u001b[0m \u001b[0;34m[\u001b[0m\u001b[0mself\u001b[0m\u001b[0;34m.\u001b[0m\u001b[0mnames\u001b[0m\u001b[0;34m[\u001b[0m\u001b[0mc\u001b[0m\u001b[0;34m]\u001b[0m \u001b[0;32mif\u001b[0m \u001b[0mtype\u001b[0m\u001b[0;34m(\u001b[0m\u001b[0mc\u001b[0m\u001b[0;34m)\u001b[0m \u001b[0;34m==\u001b[0m \u001b[0mint\u001b[0m \u001b[0;32melse\u001b[0m \u001b[0mc\u001b[0m \u001b[0;32mfor\u001b[0m \u001b[0mc\u001b[0m \u001b[0;32min\u001b[0m \u001b[0mcaused\u001b[0m\u001b[0;34m]\u001b[0m\u001b[0;34m\u001b[0m\u001b[0;34m\u001b[0m\u001b[0m\n\u001b[0;32m-> 2021\u001b[0;31m         \u001b[0mcaused_ind\u001b[0m \u001b[0;34m=\u001b[0m \u001b[0;34m[\u001b[0m\u001b[0mget_index\u001b[0m\u001b[0;34m(\u001b[0m\u001b[0mself\u001b[0m\u001b[0;34m.\u001b[0m\u001b[0mnames\u001b[0m\u001b[0;34m,\u001b[0m \u001b[0mc\u001b[0m\u001b[0;34m)\u001b[0m \u001b[0;32mfor\u001b[0m \u001b[0mc\u001b[0m \u001b[0;32min\u001b[0m \u001b[0mcaused\u001b[0m\u001b[0;34m]\u001b[0m\u001b[0;34m\u001b[0m\u001b[0;34m\u001b[0m\u001b[0m\n\u001b[0m\u001b[1;32m   2022\u001b[0m \u001b[0;34m\u001b[0m\u001b[0m\n\u001b[1;32m   2023\u001b[0m         \u001b[0;32mif\u001b[0m \u001b[0mcausing\u001b[0m \u001b[0;32mis\u001b[0m \u001b[0;32mnot\u001b[0m \u001b[0;32mNone\u001b[0m\u001b[0;34m:\u001b[0m\u001b[0;34m\u001b[0m\u001b[0;34m\u001b[0m\u001b[0m\n",
            "\u001b[0;32m/usr/local/lib/python3.10/dist-packages/statsmodels/tsa/vector_ar/vecm.py\u001b[0m in \u001b[0;36m<listcomp>\u001b[0;34m(.0)\u001b[0m\n\u001b[1;32m   2019\u001b[0m             )\n\u001b[1;32m   2020\u001b[0m         \u001b[0mcaused\u001b[0m \u001b[0;34m=\u001b[0m \u001b[0;34m[\u001b[0m\u001b[0mself\u001b[0m\u001b[0;34m.\u001b[0m\u001b[0mnames\u001b[0m\u001b[0;34m[\u001b[0m\u001b[0mc\u001b[0m\u001b[0;34m]\u001b[0m \u001b[0;32mif\u001b[0m \u001b[0mtype\u001b[0m\u001b[0;34m(\u001b[0m\u001b[0mc\u001b[0m\u001b[0;34m)\u001b[0m \u001b[0;34m==\u001b[0m \u001b[0mint\u001b[0m \u001b[0;32melse\u001b[0m \u001b[0mc\u001b[0m \u001b[0;32mfor\u001b[0m \u001b[0mc\u001b[0m \u001b[0;32min\u001b[0m \u001b[0mcaused\u001b[0m\u001b[0;34m]\u001b[0m\u001b[0;34m\u001b[0m\u001b[0;34m\u001b[0m\u001b[0m\n\u001b[0;32m-> 2021\u001b[0;31m         \u001b[0mcaused_ind\u001b[0m \u001b[0;34m=\u001b[0m \u001b[0;34m[\u001b[0m\u001b[0mget_index\u001b[0m\u001b[0;34m(\u001b[0m\u001b[0mself\u001b[0m\u001b[0;34m.\u001b[0m\u001b[0mnames\u001b[0m\u001b[0;34m,\u001b[0m \u001b[0mc\u001b[0m\u001b[0;34m)\u001b[0m \u001b[0;32mfor\u001b[0m \u001b[0mc\u001b[0m \u001b[0;32min\u001b[0m \u001b[0mcaused\u001b[0m\u001b[0;34m]\u001b[0m\u001b[0;34m\u001b[0m\u001b[0;34m\u001b[0m\u001b[0m\n\u001b[0m\u001b[1;32m   2022\u001b[0m \u001b[0;34m\u001b[0m\u001b[0m\n\u001b[1;32m   2023\u001b[0m         \u001b[0;32mif\u001b[0m \u001b[0mcausing\u001b[0m \u001b[0;32mis\u001b[0m \u001b[0;32mnot\u001b[0m \u001b[0;32mNone\u001b[0m\u001b[0;34m:\u001b[0m\u001b[0;34m\u001b[0m\u001b[0;34m\u001b[0m\u001b[0m\n",
            "\u001b[0;32m/usr/local/lib/python3.10/dist-packages/statsmodels/tsa/vector_ar/util.py\u001b[0m in \u001b[0;36mget_index\u001b[0;34m(lst, name)\u001b[0m\n\u001b[1;32m    254\u001b[0m \u001b[0;32mdef\u001b[0m \u001b[0mget_index\u001b[0m\u001b[0;34m(\u001b[0m\u001b[0mlst\u001b[0m\u001b[0;34m,\u001b[0m \u001b[0mname\u001b[0m\u001b[0;34m)\u001b[0m\u001b[0;34m:\u001b[0m\u001b[0;34m\u001b[0m\u001b[0;34m\u001b[0m\u001b[0m\n\u001b[1;32m    255\u001b[0m     \u001b[0;32mtry\u001b[0m\u001b[0;34m:\u001b[0m\u001b[0;34m\u001b[0m\u001b[0;34m\u001b[0m\u001b[0m\n\u001b[0;32m--> 256\u001b[0;31m         \u001b[0mresult\u001b[0m \u001b[0;34m=\u001b[0m \u001b[0mlst\u001b[0m\u001b[0;34m.\u001b[0m\u001b[0mindex\u001b[0m\u001b[0;34m(\u001b[0m\u001b[0mname\u001b[0m\u001b[0;34m)\u001b[0m\u001b[0;34m\u001b[0m\u001b[0;34m\u001b[0m\u001b[0m\n\u001b[0m\u001b[1;32m    257\u001b[0m     \u001b[0;32mexcept\u001b[0m \u001b[0mException\u001b[0m\u001b[0;34m:\u001b[0m\u001b[0;34m\u001b[0m\u001b[0;34m\u001b[0m\u001b[0m\n\u001b[1;32m    258\u001b[0m         \u001b[0;32mif\u001b[0m \u001b[0;32mnot\u001b[0m \u001b[0misinstance\u001b[0m\u001b[0;34m(\u001b[0m\u001b[0mname\u001b[0m\u001b[0;34m,\u001b[0m \u001b[0mint\u001b[0m\u001b[0;34m)\u001b[0m\u001b[0;34m:\u001b[0m\u001b[0;34m\u001b[0m\u001b[0;34m\u001b[0m\u001b[0m\n",
            "\u001b[0;31mValueError\u001b[0m: 'Dp' is not in list"
          ]
        }
      ]
    },
    {
      "cell_type": "code",
      "source": [
        "print(granger_results)"
      ],
      "metadata": {
        "colab": {
          "base_uri": "https://localhost:8080/"
        },
        "id": "5bMpq4Q-dHu1",
        "outputId": "dd758db3-c4c2-4938-8856-25b4da54dd3b"
      },
      "execution_count": null,
      "outputs": [
        {
          "output_type": "stream",
          "name": "stdout",
          "text": [
            "<statsmodels.tsa.vector_ar.hypothesis_test_results.CausalityTestResults object. H_0: R does not Granger-cause Dp: reject at 5% significance level. Test statistic: 3.531, critical value: 2.423>, p-value: 0.008>\n"
          ]
        }
      ]
    },
    {
      "cell_type": "code",
      "source": [
        "granger_results.signif, granger_results.pvalue"
      ],
      "metadata": {
        "colab": {
          "base_uri": "https://localhost:8080/"
        },
        "id": "6wrFwASEdK8l",
        "outputId": "95f7cba1-898a-470a-a278-c09d923a1623"
      },
      "execution_count": null,
      "outputs": [
        {
          "output_type": "execute_result",
          "data": {
            "text/plain": [
              "(0.05, 0.008449053735648129)"
            ]
          },
          "metadata": {},
          "execution_count": 38
        }
      ]
    },
    {
      "cell_type": "code",
      "source": [
        "inst_caus_dp_r = vecm_res.test_inst_causality(causing=\"Dp\")\n",
        "inst_caus_r_dp = vecm_res.test_inst_causality(causing=\"R\")\n",
        "inst_caus_r_dp.summary()"
      ],
      "metadata": {
        "colab": {
          "base_uri": "https://localhost:8080/",
          "height": 131
        },
        "id": "FcEiVgZOdNr1",
        "outputId": "5354e2cc-558f-4d4c-a72a-4e4792f2756f"
      },
      "execution_count": null,
      "outputs": [
        {
          "output_type": "execute_result",
          "data": {
            "text/plain": [
              "<class 'statsmodels.iolib.table.SimpleTable'>"
            ],
            "text/html": [
              "<table class=\"simpletable\">\n",
              "<caption>Instantaneous causality Wald-test. H_0: R does not instantaneously cause Dp. Conclusion: fail to reject H_0 at 5% significance level.</caption>\n",
              "<tr>\n",
              "  <th>Test statistic</th> <th>Critical value</th> <th>p-value</th> <th>df</th>\n",
              "</tr>\n",
              "<tr>\n",
              "      <td>0.6068</td>          <td>3.841</td>      <td>0.436</td>   <td>1</td>\n",
              "</tr>\n",
              "</table>"
            ]
          },
          "metadata": {},
          "execution_count": 39
        }
      ]
    },
    {
      "cell_type": "code",
      "source": [
        "inst_caus_dp_r == inst_caus_r_dp"
      ],
      "metadata": {
        "colab": {
          "base_uri": "https://localhost:8080/"
        },
        "id": "mBvGNh7zdSn2",
        "outputId": "1fa8ddd0-af80-4aef-8cd1-50f24d97a786"
      },
      "execution_count": null,
      "outputs": [
        {
          "output_type": "execute_result",
          "data": {
            "text/plain": [
              "True"
            ]
          },
          "metadata": {},
          "execution_count": 40
        }
      ]
    },
    {
      "cell_type": "code",
      "source": [
        "granger_results == vecm_res.test_granger_causality(caused=\"R\", signif=0.05)"
      ],
      "metadata": {
        "colab": {
          "base_uri": "https://localhost:8080/"
        },
        "id": "Al9Cr8o5dVe6",
        "outputId": "b4630514-7246-4cd2-d979-e2d4a2967483"
      },
      "execution_count": null,
      "outputs": [
        {
          "output_type": "execute_result",
          "data": {
            "text/plain": [
              "False"
            ]
          },
          "metadata": {},
          "execution_count": 41
        }
      ]
    },
    {
      "cell_type": "code",
      "source": [
        "num_periods = 30\n",
        "ir = vecm_res.irf(periods=num_periods)\n",
        "ir.plot(plot_stderr=False)"
      ],
      "metadata": {
        "colab": {
          "base_uri": "https://localhost:8080/",
          "height": 1000
        },
        "id": "6oVguzWhdYZG",
        "outputId": "76a69c3b-bb71-4408-b752-d38509b626d6"
      },
      "execution_count": null,
      "outputs": [
        {
          "output_type": "execute_result",
          "data": {
            "text/plain": [
              "<Figure size 1000x1000 with 4 Axes>"
            ],
            "image/png": "[encoded data removed]"
          },
          "metadata": {},
          "execution_count": 42
        },
        {
          "output_type": "display_data",
          "data": {
            "text/plain": [
              "<Figure size 1000x1000 with 4 Axes>"
            ],
            "image/png": "[encoded data removed]"
          },
          "metadata": {}
        }
      ]
    },
    {
      "cell_type": "code",
      "source": [
        "norm_test = vecm_res.test_normality()\n",
        "norm_test.summary()"
      ],
      "metadata": {
        "colab": {
          "base_uri": "https://localhost:8080/",
          "height": 131
        },
        "id": "GRFO51YHdblz",
        "outputId": "f31bb667-dece-4de1-a58b-9bff7696d7d9"
      },
      "execution_count": null,
      "outputs": [
        {
          "output_type": "execute_result",
          "data": {
            "text/plain": [
              "<class 'statsmodels.iolib.table.SimpleTable'>"
            ],
            "text/html": [
              "<table class=\"simpletable\">\n",
              "<caption>normality (skew and kurtosis) test. H_0: data generated by normally-distributed process. Conclusion: fail to reject H_0 at 5% significance level.</caption>\n",
              "<tr>\n",
              "  <th>Test statistic</th> <th>Critical value</th> <th>p-value</th> <th>df</th>\n",
              "</tr>\n",
              "<tr>\n",
              "       <td>2.118</td>          <td>9.488</td>      <td>0.714</td>   <td>4</td>\n",
              "</tr>\n",
              "</table>"
            ]
          },
          "metadata": {},
          "execution_count": 43
        }
      ]
    },
    {
      "cell_type": "code",
      "source": [
        "norm_test.test_statistic, norm_test.crit_value, norm_test.pvalue"
      ],
      "metadata": {
        "colab": {
          "base_uri": "https://localhost:8080/"
        },
        "id": "VpHLcB9pdkUM",
        "outputId": "475a8495-7a6c-4dec-97e5-8b7b0e1a38d3"
      },
      "execution_count": null,
      "outputs": [
        {
          "output_type": "execute_result",
          "data": {
            "text/plain": [
              "(2.117800919338863, 9.487729036781154, 0.7141027804379518)"
            ]
          },
          "metadata": {},
          "execution_count": 44
        }
      ]
    },
    {
      "cell_type": "code",
      "source": [
        "white_test = vecm_res.test_whiteness(nlags=12, adjusted=True)\n",
        "white_test.summary()\n"
      ],
      "metadata": {
        "colab": {
          "base_uri": "https://localhost:8080/",
          "height": 149
        },
        "id": "yBh8smPbdm7T",
        "outputId": "b0cc51b8-c147-4695-ad3c-01a906d31787"
      },
      "execution_count": null,
      "outputs": [
        {
          "output_type": "execute_result",
          "data": {
            "text/plain": [
              "<class 'statsmodels.iolib.table.SimpleTable'>"
            ],
            "text/html": [
              "<table class=\"simpletable\">\n",
              "<caption>Adjusted Portmanteau-test for residual autocorrelation. H_0: residual autocorrelation up to lag 12 is zero. Conclusion: fail to reject H_0 at 5% significance level.</caption>\n",
              "<tr>\n",
              "  <th>Test statistic</th> <th>Critical value</th> <th>p-value</th> <th>df</th>\n",
              "</tr>\n",
              "<tr>\n",
              "       <td>33.52</td>          <td>48.60</td>      <td>0.491</td>  <td>34</td>\n",
              "</tr>\n",
              "</table>"
            ]
          },
          "metadata": {},
          "execution_count": 45
        }
      ]
    },
    {
      "cell_type": "code",
      "source": [
        "white_test.test_statistic, white_test.crit_value, white_test.pvalue"
      ],
      "metadata": {
        "colab": {
          "base_uri": "https://localhost:8080/"
        },
        "id": "pFOyMfv9dpjn",
        "outputId": "51f8d2b8-3ed7-454c-f8e2-318f161a979e"
      },
      "execution_count": null,
      "outputs": [
        {
          "output_type": "execute_result",
          "data": {
            "text/plain": [
              "(33.51814228583852, 48.602367367294164, 0.49108854964096826)"
            ]
          },
          "metadata": {},
          "execution_count": 46
        }
      ]
    },
    {
      "cell_type": "code",
      "source": [],
      "metadata": {
        "id": "d-2jklOZd2ao"
      },
      "execution_count": null,
      "outputs": []
    },
    {
      "cell_type": "code",
      "source": [],
      "metadata": {
        "id": "pQ9kZq30-vKk"
      },
      "execution_count": null,
      "outputs": []
    },
    {
      "cell_type": "code",
      "source": [],
      "metadata": {
        "id": "eYS4j9Re-vFh"
      },
      "execution_count": null,
      "outputs": []
    },
    {
      "cell_type": "code",
      "source": [],
      "metadata": {
        "id": "AhvXui_A-vDA"
      },
      "execution_count": null,
      "outputs": []
    },
    {
      "cell_type": "code",
      "source": [],
      "metadata": {
        "id": "yaIW2MQS-vAN"
      },
      "execution_count": null,
      "outputs": []
    },
    {
      "cell_type": "code",
      "source": [
        "# imports \n",
        "%matplotlib inline\n",
        "import numpy as np\n",
        "from matplotlib import pyplot as plt\n",
        "import statsmodels.api as sm\n",
        "from statsmodels.tsa.vector_ar.vecm import *\n",
        "import pandas\n"
      ],
      "metadata": {
        "id": "Y-VXbMjE-u9c"
      },
      "execution_count": null,
      "outputs": []
    },
    {
      "cell_type": "code",
      "source": [
        "import statsmodels.datasets.interest_inflation.data as d\n",
        "df = d.load_pandas().data\n",
        "dates = df[[\"year\", \"quarter\"]].astype(int).astype(str)\n",
        "quarterly = dates[\"year\"] + \"Q\" + dates[\"quarter\"]\n",
        "from statsmodels.tsa.base.datetools import dates_from_str\n",
        "quarterly = dates_from_str(quarterly)\n",
        "data = df[[\"Dp\", \"R\"]]\n",
        "data.index = pandas.DatetimeIndex(quarterly)"
      ],
      "metadata": {
        "colab": {
          "base_uri": "https://localhost:8080/"
        },
        "id": "VJRt_L6l-u6W",
        "outputId": "f96b21e4-3350-4f6a-dcf4-fc39a8761e8c"
      },
      "execution_count": null,
      "outputs": [
        {
          "output_type": "execute_result",
          "data": {
            "text/plain": [
              "<class 'statsmodels.datasets.utils.Dataset'>"
            ]
          },
          "metadata": {},
          "execution_count": 2
        }
      ]
    },
    {
      "cell_type": "code",
      "source": [
        "X = data.data"
      ],
      "metadata": {
        "id": "8Vq1p-8X-u3u"
      },
      "execution_count": null,
      "outputs": []
    },
    {
      "cell_type": "code",
      "source": [
        "X = X[['realgdp','realcons','realinv']]"
      ],
      "metadata": {
        "id": "NDf0ASA6-6x4"
      },
      "execution_count": null,
      "outputs": []
    },
    {
      "cell_type": "code",
      "source": [
        "X = np.log(X).diff().dropna()"
      ],
      "metadata": {
        "id": "XRM4zKYO-6vJ"
      },
      "execution_count": null,
      "outputs": []
    },
    {
      "cell_type": "code",
      "source": [
        "model = VAR(X)"
      ],
      "metadata": {
        "id": "gucmZmfm-6sB"
      },
      "execution_count": null,
      "outputs": []
    },
    {
      "cell_type": "code",
      "source": [
        "model_summary = model.fit()"
      ],
      "metadata": {
        "id": "lqs8paOu-6n1"
      },
      "execution_count": null,
      "outputs": []
    },
    {
      "cell_type": "code",
      "source": [
        "model_summary.summary()"
      ],
      "metadata": {
        "id": "Sgznh__E-6k-"
      },
      "execution_count": null,
      "outputs": []
    },
    {
      "cell_type": "code",
      "source": [],
      "metadata": {
        "id": "5nrET0v_-6hu"
      },
      "execution_count": null,
      "outputs": []
    },
    {
      "cell_type": "code",
      "source": [],
      "metadata": {
        "id": "QG9KqZPd-6et"
      },
      "execution_count": null,
      "outputs": []
    },
    {
      "cell_type": "code",
      "source": [],
      "metadata": {
        "id": "ZnL2MyDW-6a6"
      },
      "execution_count": null,
      "outputs": []
    }
  ]
}