{
  "nbformat": 4,
  "nbformat_minor": 0,
  "metadata": {
    "colab": {
      "provenance": [],
      "include_colab_link": true
    },
    "kernelspec": {
      "name": "python3",
      "display_name": "Python 3"
    },
    "language_info": {
      "name": "python"
    },
    "widgets": {
      "application/vnd.jupyter.widget-state+json": {
        "611409fb1a6048ea94e221a460853179": {
          "model_module": "@jupyter-widgets/controls",
          "model_name": "HBoxModel",
          "model_module_version": "1.5.0",
          "state": {
            "_dom_classes": [],
            "_model_module": "@jupyter-widgets/controls",
            "_model_module_version": "1.5.0",
            "_model_name": "HBoxModel",
            "_view_count": null,
            "_view_module": "@jupyter-widgets/controls",
            "_view_module_version": "1.5.0",
            "_view_name": "HBoxView",
            "box_style": "",
            "children": [
              "IPY_MODEL_5b63270fc6f0406580a5f5e9de987395",
              "IPY_MODEL_95963f120c6b429397b0922392fb231b",
              "IPY_MODEL_8c23a29a1fff4c728a53ddfe8b520683"
            ],
            "layout": "IPY_MODEL_1c2907ae220e436badea0aed3bebd4be"
          }
        },
        "5b63270fc6f0406580a5f5e9de987395": {
          "model_module": "@jupyter-widgets/controls",
          "model_name": "HTMLModel",
          "model_module_version": "1.5.0",
          "state": {
            "_dom_classes": [],
            "_model_module": "@jupyter-widgets/controls",
            "_model_module_version": "1.5.0",
            "_model_name": "HTMLModel",
            "_view_count": null,
            "_view_module": "@jupyter-widgets/controls",
            "_view_module_version": "1.5.0",
            "_view_name": "HTMLView",
            "description": "",
            "description_tooltip": null,
            "layout": "IPY_MODEL_70b4ec497abc4537a9ab55bff968e559",
            "placeholder": "​",
            "style": "IPY_MODEL_ee8772e77c9a422e970937b66fe4d68e",
            "value": "100%"
          }
        },
        "95963f120c6b429397b0922392fb231b": {
          "model_module": "@jupyter-widgets/controls",
          "model_name": "FloatProgressModel",
          "model_module_version": "1.5.0",
          "state": {
            "_dom_classes": [],
            "_model_module": "@jupyter-widgets/controls",
            "_model_module_version": "1.5.0",
            "_model_name": "FloatProgressModel",
            "_view_count": null,
            "_view_module": "@jupyter-widgets/controls",
            "_view_module_version": "1.5.0",
            "_view_name": "ProgressView",
            "bar_style": "success",
            "description": "",
            "description_tooltip": null,
            "layout": "IPY_MODEL_71bfcadacfaa46f8aa7ff5a9d886dbaa",
            "max": 77,
            "min": 0,
            "orientation": "horizontal",
            "style": "IPY_MODEL_13ce042756144e428d353b3417974e0c",
            "value": 77
          }
        },
        "8c23a29a1fff4c728a53ddfe8b520683": {
          "model_module": "@jupyter-widgets/controls",
          "model_name": "HTMLModel",
          "model_module_version": "1.5.0",
          "state": {
            "_dom_classes": [],
            "_model_module": "@jupyter-widgets/controls",
            "_model_module_version": "1.5.0",
            "_model_name": "HTMLModel",
            "_view_count": null,
            "_view_module": "@jupyter-widgets/controls",
            "_view_module_version": "1.5.0",
            "_view_name": "HTMLView",
            "description": "",
            "description_tooltip": null,
            "layout": "IPY_MODEL_2b76b2102af249cc847706b27ba6d83b",
            "placeholder": "​",
            "style": "IPY_MODEL_e7b926e8dc684070beef377840f7db1a",
            "value": " 77/77 [00:29&lt;00:00,  2.07it/s]"
          }
        },
        "1c2907ae220e436badea0aed3bebd4be": {
          "model_module": "@jupyter-widgets/base",
          "model_name": "LayoutModel",
          "model_module_version": "1.2.0",
          "state": {
            "_model_module": "@jupyter-widgets/base",
            "_model_module_version": "1.2.0",
            "_model_name": "LayoutModel",
            "_view_count": null,
            "_view_module": "@jupyter-widgets/base",
            "_view_module_version": "1.2.0",
            "_view_name": "LayoutView",
            "align_content": null,
            "align_items": null,
            "align_self": null,
            "border": null,
            "bottom": null,
            "display": null,
            "flex": null,
            "flex_flow": null,
            "grid_area": null,
            "grid_auto_columns": null,
            "grid_auto_flow": null,
            "grid_auto_rows": null,
            "grid_column": null,
            "grid_gap": null,
            "grid_row": null,
            "grid_template_areas": null,
            "grid_template_columns": null,
            "grid_template_rows": null,
            "height": null,
            "justify_content": null,
            "justify_items": null,
            "left": null,
            "margin": null,
            "max_height": null,
            "max_width": null,
            "min_height": null,
            "min_width": null,
            "object_fit": null,
            "object_position": null,
            "order": null,
            "overflow": null,
            "overflow_x": null,
            "overflow_y": null,
            "padding": null,
            "right": null,
            "top": null,
            "visibility": null,
            "width": null
          }
        },
        "70b4ec497abc4537a9ab55bff968e559": {
          "model_module": "@jupyter-widgets/base",
          "model_name": "LayoutModel",
          "model_module_version": "1.2.0",
          "state": {
            "_model_module": "@jupyter-widgets/base",
            "_model_module_version": "1.2.0",
            "_model_name": "LayoutModel",
            "_view_count": null,
            "_view_module": "@jupyter-widgets/base",
            "_view_module_version": "1.2.0",
            "_view_name": "LayoutView",
            "align_content": null,
            "align_items": null,
            "align_self": null,
            "border": null,
            "bottom": null,
            "display": null,
            "flex": null,
            "flex_flow": null,
            "grid_area": null,
            "grid_auto_columns": null,
            "grid_auto_flow": null,
            "grid_auto_rows": null,
            "grid_column": null,
            "grid_gap": null,
            "grid_row": null,
            "grid_template_areas": null,
            "grid_template_columns": null,
            "grid_template_rows": null,
            "height": null,
            "justify_content": null,
            "justify_items": null,
            "left": null,
            "margin": null,
            "max_height": null,
            "max_width": null,
            "min_height": null,
            "min_width": null,
            "object_fit": null,
            "object_position": null,
            "order": null,
            "overflow": null,
            "overflow_x": null,
            "overflow_y": null,
            "padding": null,
            "right": null,
            "top": null,
            "visibility": null,
            "width": null
          }
        },
        "ee8772e77c9a422e970937b66fe4d68e": {
          "model_module": "@jupyter-widgets/controls",
          "model_name": "DescriptionStyleModel",
          "model_module_version": "1.5.0",
          "state": {
            "_model_module": "@jupyter-widgets/controls",
            "_model_module_version": "1.5.0",
            "_model_name": "DescriptionStyleModel",
            "_view_count": null,
            "_view_module": "@jupyter-widgets/base",
            "_view_module_version": "1.2.0",
            "_view_name": "StyleView",
            "description_width": ""
          }
        },
        "71bfcadacfaa46f8aa7ff5a9d886dbaa": {
          "model_module": "@jupyter-widgets/base",
          "model_name": "LayoutModel",
          "model_module_version": "1.2.0",
          "state": {
            "_model_module": "@jupyter-widgets/base",
            "_model_module_version": "1.2.0",
            "_model_name": "LayoutModel",
            "_view_count": null,
            "_view_module": "@jupyter-widgets/base",
            "_view_module_version": "1.2.0",
            "_view_name": "LayoutView",
            "align_content": null,
            "align_items": null,
            "align_self": null,
            "border": null,
            "bottom": null,
            "display": null,
            "flex": null,
            "flex_flow": null,
            "grid_area": null,
            "grid_auto_columns": null,
            "grid_auto_flow": null,
            "grid_auto_rows": null,
            "grid_column": null,
            "grid_gap": null,
            "grid_row": null,
            "grid_template_areas": null,
            "grid_template_columns": null,
            "grid_template_rows": null,
            "height": null,
            "justify_content": null,
            "justify_items": null,
            "left": null,
            "margin": null,
            "max_height": null,
            "max_width": null,
            "min_height": null,
            "min_width": null,
            "object_fit": null,
            "object_position": null,
            "order": null,
            "overflow": null,
            "overflow_x": null,
            "overflow_y": null,
            "padding": null,
            "right": null,
            "top": null,
            "visibility": null,
            "width": null
          }
        },
        "13ce042756144e428d353b3417974e0c": {
          "model_module": "@jupyter-widgets/controls",
          "model_name": "ProgressStyleModel",
          "model_module_version": "1.5.0",
          "state": {
            "_model_module": "@jupyter-widgets/controls",
            "_model_module_version": "1.5.0",
            "_model_name": "ProgressStyleModel",
            "_view_count": null,
            "_view_module": "@jupyter-widgets/base",
            "_view_module_version": "1.2.0",
            "_view_name": "StyleView",
            "bar_color": null,
            "description_width": ""
          }
        },
        "2b76b2102af249cc847706b27ba6d83b": {
          "model_module": "@jupyter-widgets/base",
          "model_name": "LayoutModel",
          "model_module_version": "1.2.0",
          "state": {
            "_model_module": "@jupyter-widgets/base",
            "_model_module_version": "1.2.0",
            "_model_name": "LayoutModel",
            "_view_count": null,
            "_view_module": "@jupyter-widgets/base",
            "_view_module_version": "1.2.0",
            "_view_name": "LayoutView",
            "align_content": null,
            "align_items": null,
            "align_self": null,
            "border": null,
            "bottom": null,
            "display": null,
            "flex": null,
            "flex_flow": null,
            "grid_area": null,
            "grid_auto_columns": null,
            "grid_auto_flow": null,
            "grid_auto_rows": null,
            "grid_column": null,
            "grid_gap": null,
            "grid_row": null,
            "grid_template_areas": null,
            "grid_template_columns": null,
            "grid_template_rows": null,
            "height": null,
            "justify_content": null,
            "justify_items": null,
            "left": null,
            "margin": null,
            "max_height": null,
            "max_width": null,
            "min_height": null,
            "min_width": null,
            "object_fit": null,
            "object_position": null,
            "order": null,
            "overflow": null,
            "overflow_x": null,
            "overflow_y": null,
            "padding": null,
            "right": null,
            "top": null,
            "visibility": null,
            "width": null
          }
        },
        "e7b926e8dc684070beef377840f7db1a": {
          "model_module": "@jupyter-widgets/controls",
          "model_name": "DescriptionStyleModel",
          "model_module_version": "1.5.0",
          "state": {
            "_model_module": "@jupyter-widgets/controls",
            "_model_module_version": "1.5.0",
            "_model_name": "DescriptionStyleModel",
            "_view_count": null,
            "_view_module": "@jupyter-widgets/base",
            "_view_module_version": "1.2.0",
            "_view_name": "StyleView",
            "description_width": ""
          }
        },
        "025bc07618144f7b857932275ee3fe9b": {
          "model_module": "@jupyter-widgets/controls",
          "model_name": "HBoxModel",
          "model_module_version": "1.5.0",
          "state": {
            "_dom_classes": [],
            "_model_module": "@jupyter-widgets/controls",
            "_model_module_version": "1.5.0",
            "_model_name": "HBoxModel",
            "_view_count": null,
            "_view_module": "@jupyter-widgets/controls",
            "_view_module_version": "1.5.0",
            "_view_name": "HBoxView",
            "box_style": "",
            "children": [
              "IPY_MODEL_783b2ec3313c405fa2803eb6dc1a86a0",
              "IPY_MODEL_d7579fcf28b544439e71ad67e8816369",
              "IPY_MODEL_020821bfc1cb483ea893ec480755d878"
            ],
            "layout": "IPY_MODEL_5265800aaa844cefa4c35ce7c20400bb"
          }
        },
        "783b2ec3313c405fa2803eb6dc1a86a0": {
          "model_module": "@jupyter-widgets/controls",
          "model_name": "HTMLModel",
          "model_module_version": "1.5.0",
          "state": {
            "_dom_classes": [],
            "_model_module": "@jupyter-widgets/controls",
            "_model_module_version": "1.5.0",
            "_model_name": "HTMLModel",
            "_view_count": null,
            "_view_module": "@jupyter-widgets/controls",
            "_view_module_version": "1.5.0",
            "_view_name": "HTMLView",
            "description": "",
            "description_tooltip": null,
            "layout": "IPY_MODEL_f859b11c2925457393c1d5b0f0a3e0b7",
            "placeholder": "​",
            "style": "IPY_MODEL_adb72acc7b9548fe897c8e6d00993f51",
            "value": "100%"
          }
        },
        "d7579fcf28b544439e71ad67e8816369": {
          "model_module": "@jupyter-widgets/controls",
          "model_name": "FloatProgressModel",
          "model_module_version": "1.5.0",
          "state": {
            "_dom_classes": [],
            "_model_module": "@jupyter-widgets/controls",
            "_model_module_version": "1.5.0",
            "_model_name": "FloatProgressModel",
            "_view_count": null,
            "_view_module": "@jupyter-widgets/controls",
            "_view_module_version": "1.5.0",
            "_view_name": "ProgressView",
            "bar_style": "success",
            "description": "",
            "description_tooltip": null,
            "layout": "IPY_MODEL_23c5968e7d074d06ba333a0148c96fa0",
            "max": 10,
            "min": 0,
            "orientation": "horizontal",
            "style": "IPY_MODEL_20d98834b93b4dba9f4a4c3d8c3af72f",
            "value": 10
          }
        },
        "020821bfc1cb483ea893ec480755d878": {
          "model_module": "@jupyter-widgets/controls",
          "model_name": "HTMLModel",
          "model_module_version": "1.5.0",
          "state": {
            "_dom_classes": [],
            "_model_module": "@jupyter-widgets/controls",
            "_model_module_version": "1.5.0",
            "_model_name": "HTMLModel",
            "_view_count": null,
            "_view_module": "@jupyter-widgets/controls",
            "_view_module_version": "1.5.0",
            "_view_name": "HTMLView",
            "description": "",
            "description_tooltip": null,
            "layout": "IPY_MODEL_e14bd5fc391244559a04f30de250d7af",
            "placeholder": "​",
            "style": "IPY_MODEL_3f4619c81bb545e1bd17ac91d55d3558",
            "value": " 10/10 [00:01&lt;00:00,  7.46it/s]"
          }
        },
        "5265800aaa844cefa4c35ce7c20400bb": {
          "model_module": "@jupyter-widgets/base",
          "model_name": "LayoutModel",
          "model_module_version": "1.2.0",
          "state": {
            "_model_module": "@jupyter-widgets/base",
            "_model_module_version": "1.2.0",
            "_model_name": "LayoutModel",
            "_view_count": null,
            "_view_module": "@jupyter-widgets/base",
            "_view_module_version": "1.2.0",
            "_view_name": "LayoutView",
            "align_content": null,
            "align_items": null,
            "align_self": null,
            "border": null,
            "bottom": null,
            "display": null,
            "flex": null,
            "flex_flow": null,
            "grid_area": null,
            "grid_auto_columns": null,
            "grid_auto_flow": null,
            "grid_auto_rows": null,
            "grid_column": null,
            "grid_gap": null,
            "grid_row": null,
            "grid_template_areas": null,
            "grid_template_columns": null,
            "grid_template_rows": null,
            "height": null,
            "justify_content": null,
            "justify_items": null,
            "left": null,
            "margin": null,
            "max_height": null,
            "max_width": null,
            "min_height": null,
            "min_width": null,
            "object_fit": null,
            "object_position": null,
            "order": null,
            "overflow": null,
            "overflow_x": null,
            "overflow_y": null,
            "padding": null,
            "right": null,
            "top": null,
            "visibility": null,
            "width": null
          }
        },
        "f859b11c2925457393c1d5b0f0a3e0b7": {
          "model_module": "@jupyter-widgets/base",
          "model_name": "LayoutModel",
          "model_module_version": "1.2.0",
          "state": {
            "_model_module": "@jupyter-widgets/base",
            "_model_module_version": "1.2.0",
            "_model_name": "LayoutModel",
            "_view_count": null,
            "_view_module": "@jupyter-widgets/base",
            "_view_module_version": "1.2.0",
            "_view_name": "LayoutView",
            "align_content": null,
            "align_items": null,
            "align_self": null,
            "border": null,
            "bottom": null,
            "display": null,
            "flex": null,
            "flex_flow": null,
            "grid_area": null,
            "grid_auto_columns": null,
            "grid_auto_flow": null,
            "grid_auto_rows": null,
            "grid_column": null,
            "grid_gap": null,
            "grid_row": null,
            "grid_template_areas": null,
            "grid_template_columns": null,
            "grid_template_rows": null,
            "height": null,
            "justify_content": null,
            "justify_items": null,
            "left": null,
            "margin": null,
            "max_height": null,
            "max_width": null,
            "min_height": null,
            "min_width": null,
            "object_fit": null,
            "object_position": null,
            "order": null,
            "overflow": null,
            "overflow_x": null,
            "overflow_y": null,
            "padding": null,
            "right": null,
            "top": null,
            "visibility": null,
            "width": null
          }
        },
        "adb72acc7b9548fe897c8e6d00993f51": {
          "model_module": "@jupyter-widgets/controls",
          "model_name": "DescriptionStyleModel",
          "model_module_version": "1.5.0",
          "state": {
            "_model_module": "@jupyter-widgets/controls",
            "_model_module_version": "1.5.0",
            "_model_name": "DescriptionStyleModel",
            "_view_count": null,
            "_view_module": "@jupyter-widgets/base",
            "_view_module_version": "1.2.0",
            "_view_name": "StyleView",
            "description_width": ""
          }
        },
        "23c5968e7d074d06ba333a0148c96fa0": {
          "model_module": "@jupyter-widgets/base",
          "model_name": "LayoutModel",
          "model_module_version": "1.2.0",
          "state": {
            "_model_module": "@jupyter-widgets/base",
            "_model_module_version": "1.2.0",
            "_model_name": "LayoutModel",
            "_view_count": null,
            "_view_module": "@jupyter-widgets/base",
            "_view_module_version": "1.2.0",
            "_view_name": "LayoutView",
            "align_content": null,
            "align_items": null,
            "align_self": null,
            "border": null,
            "bottom": null,
            "display": null,
            "flex": null,
            "flex_flow": null,
            "grid_area": null,
            "grid_auto_columns": null,
            "grid_auto_flow": null,
            "grid_auto_rows": null,
            "grid_column": null,
            "grid_gap": null,
            "grid_row": null,
            "grid_template_areas": null,
            "grid_template_columns": null,
            "grid_template_rows": null,
            "height": null,
            "justify_content": null,
            "justify_items": null,
            "left": null,
            "margin": null,
            "max_height": null,
            "max_width": null,
            "min_height": null,
            "min_width": null,
            "object_fit": null,
            "object_position": null,
            "order": null,
            "overflow": null,
            "overflow_x": null,
            "overflow_y": null,
            "padding": null,
            "right": null,
            "top": null,
            "visibility": null,
            "width": null
          }
        },
        "20d98834b93b4dba9f4a4c3d8c3af72f": {
          "model_module": "@jupyter-widgets/controls",
          "model_name": "ProgressStyleModel",
          "model_module_version": "1.5.0",
          "state": {
            "_model_module": "@jupyter-widgets/controls",
            "_model_module_version": "1.5.0",
            "_model_name": "ProgressStyleModel",
            "_view_count": null,
            "_view_module": "@jupyter-widgets/base",
            "_view_module_version": "1.2.0",
            "_view_name": "StyleView",
            "bar_color": null,
            "description_width": ""
          }
        },
        "e14bd5fc391244559a04f30de250d7af": {
          "model_module": "@jupyter-widgets/base",
          "model_name": "LayoutModel",
          "model_module_version": "1.2.0",
          "state": {
            "_model_module": "@jupyter-widgets/base",
            "_model_module_version": "1.2.0",
            "_model_name": "LayoutModel",
            "_view_count": null,
            "_view_module": "@jupyter-widgets/base",
            "_view_module_version": "1.2.0",
            "_view_name": "LayoutView",
            "align_content": null,
            "align_items": null,
            "align_self": null,
            "border": null,
            "bottom": null,
            "display": null,
            "flex": null,
            "flex_flow": null,
            "grid_area": null,
            "grid_auto_columns": null,
            "grid_auto_flow": null,
            "grid_auto_rows": null,
            "grid_column": null,
            "grid_gap": null,
            "grid_row": null,
            "grid_template_areas": null,
            "grid_template_columns": null,
            "grid_template_rows": null,
            "height": null,
            "justify_content": null,
            "justify_items": null,
            "left": null,
            "margin": null,
            "max_height": null,
            "max_width": null,
            "min_height": null,
            "min_width": null,
            "object_fit": null,
            "object_position": null,
            "order": null,
            "overflow": null,
            "overflow_x": null,
            "overflow_y": null,
            "padding": null,
            "right": null,
            "top": null,
            "visibility": null,
            "width": null
          }
        },
        "3f4619c81bb545e1bd17ac91d55d3558": {
          "model_module": "@jupyter-widgets/controls",
          "model_name": "DescriptionStyleModel",
          "model_module_version": "1.5.0",
          "state": {
            "_model_module": "@jupyter-widgets/controls",
            "_model_module_version": "1.5.0",
            "_model_name": "DescriptionStyleModel",
            "_view_count": null,
            "_view_module": "@jupyter-widgets/base",
            "_view_module_version": "1.2.0",
            "_view_name": "StyleView",
            "description_width": ""
          }
        }
      }
    }
  },
  "cells": [
    {
      "cell_type": "markdown",
      "metadata": {
        "id": "view-in-github",
        "colab_type": "text"
      },
      "source": [
        "<a href=\"https://colab.research.google.com/github/websitecreatr99/Solytics/blob/main/ANNandH2O.ipynb\" target=\"_parent\"><img src=\"https://colab.research.google.com/assets/colab-badge.svg\" alt=\"Open In Colab\"/></a>"
      ]
    },
    {
      "cell_type": "markdown",
      "source": [
        "# ***ANN With SkLearn MLPClassifier***"
      ],
      "metadata": {
        "id": "HaAJdR-UCiVe"
      }
    },
    {
      "cell_type": "code",
      "execution_count": null,
      "metadata": {
        "id": "d01FquH71Bgx"
      },
      "outputs": [],
      "source": [
        "from sklearn.neural_network import MLPClassifier\n",
        "from sklearn.preprocessing import StandardScaler\n",
        "from sklearn.model_selection import train_test_split"
      ]
    },
    {
      "cell_type": "code",
      "source": [
        "import pandas as pd\n",
        "df = pd.read_csv(\"/content/drive/MyDrive/Solytics/MI/data.csv\").drop('pk',axis=1)\n",
        "df.head()"
      ],
      "metadata": {
        "colab": {
          "base_uri": "https://localhost:8080/",
          "height": 206
        },
        "id": "KWZ0q5OG11qt",
        "outputId": "a140ed2a-5ecf-414b-c13c-1db389ebb1d6"
      },
      "execution_count": null,
      "outputs": [
        {
          "output_type": "execute_result",
          "data": {
            "text/plain": [
              "   capsule  age  race  dpros  dcaps   psa   vol  gleason\n",
              "0        0   80     1      2      1   1.4   0.0        6\n",
              "1        0   72     1      3      2   6.7   0.0        7\n",
              "2        0   70     1      1      2   4.9   0.0        6\n",
              "3        0   76     2      2      1  51.2  20.0        7\n",
              "4        0   69     1      1      1  12.3  55.9        6"
            ],
            "text/html": [
              "\n",
              "  <div id=\"df-fb3ceb1b-3084-48a5-b1b6-b255adceb3fe\">\n",
              "    <div class=\"colab-df-container\">\n",
              "      <div>\n",
              "<style scoped>\n",
              "    .dataframe tbody tr th:only-of-type {\n",
              "        vertical-align: middle;\n",
              "    }\n",
              "\n",
              "    .dataframe tbody tr th {\n",
              "        vertical-align: top;\n",
              "    }\n",
              "\n",
              "    .dataframe thead th {\n",
              "        text-align: right;\n",
              "    }\n",
              "</style>\n",
              "<table border=\"1\" class=\"dataframe\">\n",
              "  <thead>\n",
              "    <tr style=\"text-align: right;\">\n",
              "      <th></th>\n",
              "      <th>capsule</th>\n",
              "      <th>age</th>\n",
              "      <th>race</th>\n",
              "      <th>dpros</th>\n",
              "      <th>dcaps</th>\n",
              "      <th>psa</th>\n",
              "      <th>vol</th>\n",
              "      <th>gleason</th>\n",
              "    </tr>\n",
              "  </thead>\n",
              "  <tbody>\n",
              "    <tr>\n",
              "      <th>0</th>\n",
              "      <td>0</td>\n",
              "      <td>80</td>\n",
              "      <td>1</td>\n",
              "      <td>2</td>\n",
              "      <td>1</td>\n",
              "      <td>1.4</td>\n",
              "      <td>0.0</td>\n",
              "      <td>6</td>\n",
              "    </tr>\n",
              "    <tr>\n",
              "      <th>1</th>\n",
              "      <td>0</td>\n",
              "      <td>72</td>\n",
              "      <td>1</td>\n",
              "      <td>3</td>\n",
              "      <td>2</td>\n",
              "      <td>6.7</td>\n",
              "      <td>0.0</td>\n",
              "      <td>7</td>\n",
              "    </tr>\n",
              "    <tr>\n",
              "      <th>2</th>\n",
              "      <td>0</td>\n",
              "      <td>70</td>\n",
              "      <td>1</td>\n",
              "      <td>1</td>\n",
              "      <td>2</td>\n",
              "      <td>4.9</td>\n",
              "      <td>0.0</td>\n",
              "      <td>6</td>\n",
              "    </tr>\n",
              "    <tr>\n",
              "      <th>3</th>\n",
              "      <td>0</td>\n",
              "      <td>76</td>\n",
              "      <td>2</td>\n",
              "      <td>2</td>\n",
              "      <td>1</td>\n",
              "      <td>51.2</td>\n",
              "      <td>20.0</td>\n",
              "      <td>7</td>\n",
              "    </tr>\n",
              "    <tr>\n",
              "      <th>4</th>\n",
              "      <td>0</td>\n",
              "      <td>69</td>\n",
              "      <td>1</td>\n",
              "      <td>1</td>\n",
              "      <td>1</td>\n",
              "      <td>12.3</td>\n",
              "      <td>55.9</td>\n",
              "      <td>6</td>\n",
              "    </tr>\n",
              "  </tbody>\n",
              "</table>\n",
              "</div>\n",
              "      <button class=\"colab-df-convert\" onclick=\"convertToInteractive('df-fb3ceb1b-3084-48a5-b1b6-b255adceb3fe')\"\n",
              "              title=\"Convert this dataframe to an interactive table.\"\n",
              "              style=\"display:none;\">\n",
              "        \n",
              "  <svg xmlns=\"http://www.w3.org/2000/svg\" height=\"24px\"viewBox=\"0 0 24 24\"\n",
              "       width=\"24px\">\n",
              "    <path d=\"M0 0h24v24H0V0z\" fill=\"none\"/>\n",
              "    <path d=\"M18.56 5.44l.94 2.06.94-2.06 2.06-.94-2.06-.94-.94-2.06-.94 2.06-2.06.94zm-11 1L8.5 8.5l.94-2.06 2.06-.94-2.06-.94L8.5 2.5l-.94 2.06-2.06.94zm10 10l.94 2.06.94-2.06 2.06-.94-2.06-.94-.94-2.06-.94 2.06-2.06.94z\"/><path d=\"M17.41 7.96l-1.37-1.37c-.4-.4-.92-.59-1.43-.59-.52 0-1.04.2-1.43.59L10.3 9.45l-7.72 7.72c-.78.78-.78 2.05 0 2.83L4 21.41c.39.39.9.59 1.41.59.51 0 1.02-.2 1.41-.59l7.78-7.78 2.81-2.81c.8-.78.8-2.07 0-2.86zM5.41 20L4 18.59l7.72-7.72 1.47 1.35L5.41 20z\"/>\n",
              "  </svg>\n",
              "      </button>\n",
              "      \n",
              "  <style>\n",
              "    .colab-df-container {\n",
              "      display:flex;\n",
              "      flex-wrap:wrap;\n",
              "      gap: 12px;\n",
              "    }\n",
              "\n",
              "    .colab-df-convert {\n",
              "      background-color: #E8F0FE;\n",
              "      border: none;\n",
              "      border-radius: 50%;\n",
              "      cursor: pointer;\n",
              "      display: none;\n",
              "      fill: #1967D2;\n",
              "      height: 32px;\n",
              "      padding: 0 0 0 0;\n",
              "      width: 32px;\n",
              "    }\n",
              "\n",
              "    .colab-df-convert:hover {\n",
              "      background-color: #E2EBFA;\n",
              "      box-shadow: 0px 1px 2px rgba(60, 64, 67, 0.3), 0px 1px 3px 1px rgba(60, 64, 67, 0.15);\n",
              "      fill: #174EA6;\n",
              "    }\n",
              "\n",
              "    [theme=dark] .colab-df-convert {\n",
              "      background-color: #3B4455;\n",
              "      fill: #D2E3FC;\n",
              "    }\n",
              "\n",
              "    [theme=dark] .colab-df-convert:hover {\n",
              "      background-color: #434B5C;\n",
              "      box-shadow: 0px 1px 3px 1px rgba(0, 0, 0, 0.15);\n",
              "      filter: drop-shadow(0px 1px 2px rgba(0, 0, 0, 0.3));\n",
              "      fill: #FFFFFF;\n",
              "    }\n",
              "  </style>\n",
              "\n",
              "      <script>\n",
              "        const buttonEl =\n",
              "          document.querySelector('#df-fb3ceb1b-3084-48a5-b1b6-b255adceb3fe button.colab-df-convert');\n",
              "        buttonEl.style.display =\n",
              "          google.colab.kernel.accessAllowed ? 'block' : 'none';\n",
              "\n",
              "        async function convertToInteractive(key) {\n",
              "          const element = document.querySelector('#df-fb3ceb1b-3084-48a5-b1b6-b255adceb3fe');\n",
              "          const dataTable =\n",
              "            await google.colab.kernel.invokeFunction('convertToInteractive',\n",
              "                                                     [key], {});\n",
              "          if (!dataTable) return;\n",
              "\n",
              "          const docLinkHtml = 'Like what you see? Visit the ' +\n",
              "            '<a target=\"_blank\" href=https://colab.research.google.com/notebooks/data_table.ipynb>data table notebook</a>'\n",
              "            + ' to learn more about interactive tables.';\n",
              "          element.innerHTML = '';\n",
              "          dataTable['output_type'] = 'display_data';\n",
              "          await google.colab.output.renderOutput(dataTable, element);\n",
              "          const docLink = document.createElement('div');\n",
              "          docLink.innerHTML = docLinkHtml;\n",
              "          element.appendChild(docLink);\n",
              "        }\n",
              "      </script>\n",
              "    </div>\n",
              "  </div>\n",
              "  "
            ]
          },
          "metadata": {},
          "execution_count": 2
        }
      ]
    },
    {
      "cell_type": "code",
      "source": [
        "df[\"dpros\"].value_counts()"
      ],
      "metadata": {
        "colab": {
          "base_uri": "https://localhost:8080/"
        },
        "id": "CRKb7-l3gMqa",
        "outputId": "9bfebe9f-a15b-4c69-90f3-1550baf3911c"
      },
      "execution_count": null,
      "outputs": [
        {
          "output_type": "execute_result",
          "data": {
            "text/plain": [
              "2    132\n",
              "1     99\n",
              "3     97\n",
              "4     53\n",
              "Name: dpros, dtype: int64"
            ]
          },
          "metadata": {},
          "execution_count": 36
        }
      ]
    },
    {
      "cell_type": "code",
      "source": [
        "cols = list(df.columns)\n",
        "target = \"capsule\"\n",
        "cols.remove(target)\n",
        "X = df[cols]\n",
        "y= df[\"capsule\"]"
      ],
      "metadata": {
        "id": "b20JwMBL2RvD"
      },
      "execution_count": null,
      "outputs": []
    },
    {
      "cell_type": "code",
      "source": [
        "X_train, X_test, y_train, y_test = train_test_split(X, y, test_size=0.2, random_state=42)\n",
        "scaler = StandardScaler()\n",
        "scaler.fit(X_train)\n",
        "X_train = scaler.transform(X_train)\n",
        "X_test = scaler.transform(X_test)\n"
      ],
      "metadata": {
        "id": "_g4GwEV41SnZ"
      },
      "execution_count": null,
      "outputs": []
    },
    {
      "cell_type": "code",
      "source": [
        "X_train"
      ],
      "metadata": {
        "colab": {
          "base_uri": "https://localhost:8080/"
        },
        "id": "pS-mlFn5fqwH",
        "outputId": "6d113a5c-e897-4168-9a2b-9e95dbea9fed"
      },
      "execution_count": null,
      "outputs": [
        {
          "output_type": "execute_result",
          "data": {
            "text/plain": [
              "array([[-0.90993616, -0.2895536 , -0.28154455, ..., -0.38821825,\n",
              "        -0.85591347, -1.31320475],\n",
              "       [ 0.16581059, -0.2895536 ,  0.70224331, ...,  0.22493515,\n",
              "         0.0764446 , -1.31320475],\n",
              "       [-0.14154562, -0.2895536 ,  0.70224331, ...,  1.02558175,\n",
              "         0.68913704,  2.41776948],\n",
              "       ...,\n",
              "       [-0.75625805, -0.2895536 , -1.26533241, ..., -0.51490284,\n",
              "         0.60922064, -0.38046119],\n",
              "       [-0.75625805, -0.2895536 , -1.26533241, ...,  0.27560899,\n",
              "        -0.85591347,  0.55228237],\n",
              "       [-0.60257994, -0.2895536 , -1.26533241, ..., -0.64665481,\n",
              "         1.4883011 , -0.38046119]])"
            ]
          },
          "metadata": {},
          "execution_count": 49
        }
      ]
    },
    {
      "cell_type": "markdown",
      "source": [],
      "metadata": {
        "id": "UUX0HAW_frni"
      }
    },
    {
      "cell_type": "code",
      "source": [
        "model = MLPClassifier(hidden_layer_sizes=(100,10,1), max_iter=1000,activation='relu', solver='adam',)\n",
        "model.fit(X_train,y_train)\n"
      ],
      "metadata": {
        "colab": {
          "base_uri": "https://localhost:8080/",
          "height": 131
        },
        "id": "b2NvaY1ffSHv",
        "outputId": "009aeb7a-2268-4a70-d675-d660abe561b7"
      },
      "execution_count": null,
      "outputs": [
        {
          "output_type": "stream",
          "name": "stderr",
          "text": [
            "/usr/local/lib/python3.10/dist-packages/sklearn/neural_network/_multilayer_perceptron.py:686: ConvergenceWarning: Stochastic Optimizer: Maximum iterations (1000) reached and the optimization hasn't converged yet.\n",
            "  warnings.warn(\n"
          ]
        },
        {
          "output_type": "execute_result",
          "data": {
            "text/plain": [
              "MLPClassifier(hidden_layer_sizes=(100, 10, 1), max_iter=1000)"
            ],
            "text/html": [
              "<style>#sk-container-id-13 {color: black;background-color: white;}#sk-container-id-13 pre{padding: 0;}#sk-container-id-13 div.sk-toggleable {background-color: white;}#sk-container-id-13 label.sk-toggleable__label {cursor: pointer;display: block;width: 100%;margin-bottom: 0;padding: 0.3em;box-sizing: border-box;text-align: center;}#sk-container-id-13 label.sk-toggleable__label-arrow:before {content: \"▸\";float: left;margin-right: 0.25em;color: #696969;}#sk-container-id-13 label.sk-toggleable__label-arrow:hover:before {color: black;}#sk-container-id-13 div.sk-estimator:hover label.sk-toggleable__label-arrow:before {color: black;}#sk-container-id-13 div.sk-toggleable__content {max-height: 0;max-width: 0;overflow: hidden;text-align: left;background-color: #f0f8ff;}#sk-container-id-13 div.sk-toggleable__content pre {margin: 0.2em;color: black;border-radius: 0.25em;background-color: #f0f8ff;}#sk-container-id-13 input.sk-toggleable__control:checked~div.sk-toggleable__content {max-height: 200px;max-width: 100%;overflow: auto;}#sk-container-id-13 input.sk-toggleable__control:checked~label.sk-toggleable__label-arrow:before {content: \"▾\";}#sk-container-id-13 div.sk-estimator input.sk-toggleable__control:checked~label.sk-toggleable__label {background-color: #d4ebff;}#sk-container-id-13 div.sk-label input.sk-toggleable__control:checked~label.sk-toggleable__label {background-color: #d4ebff;}#sk-container-id-13 input.sk-hidden--visually {border: 0;clip: rect(1px 1px 1px 1px);clip: rect(1px, 1px, 1px, 1px);height: 1px;margin: -1px;overflow: hidden;padding: 0;position: absolute;width: 1px;}#sk-container-id-13 div.sk-estimator {font-family: monospace;background-color: #f0f8ff;border: 1px dotted black;border-radius: 0.25em;box-sizing: border-box;margin-bottom: 0.5em;}#sk-container-id-13 div.sk-estimator:hover {background-color: #d4ebff;}#sk-container-id-13 div.sk-parallel-item::after {content: \"\";width: 100%;border-bottom: 1px solid gray;flex-grow: 1;}#sk-container-id-13 div.sk-label:hover label.sk-toggleable__label {background-color: #d4ebff;}#sk-container-id-13 div.sk-serial::before {content: \"\";position: absolute;border-left: 1px solid gray;box-sizing: border-box;top: 0;bottom: 0;left: 50%;z-index: 0;}#sk-container-id-13 div.sk-serial {display: flex;flex-direction: column;align-items: center;background-color: white;padding-right: 0.2em;padding-left: 0.2em;position: relative;}#sk-container-id-13 div.sk-item {position: relative;z-index: 1;}#sk-container-id-13 div.sk-parallel {display: flex;align-items: stretch;justify-content: center;background-color: white;position: relative;}#sk-container-id-13 div.sk-item::before, #sk-container-id-13 div.sk-parallel-item::before {content: \"\";position: absolute;border-left: 1px solid gray;box-sizing: border-box;top: 0;bottom: 0;left: 50%;z-index: -1;}#sk-container-id-13 div.sk-parallel-item {display: flex;flex-direction: column;z-index: 1;position: relative;background-color: white;}#sk-container-id-13 div.sk-parallel-item:first-child::after {align-self: flex-end;width: 50%;}#sk-container-id-13 div.sk-parallel-item:last-child::after {align-self: flex-start;width: 50%;}#sk-container-id-13 div.sk-parallel-item:only-child::after {width: 0;}#sk-container-id-13 div.sk-dashed-wrapped {border: 1px dashed gray;margin: 0 0.4em 0.5em 0.4em;box-sizing: border-box;padding-bottom: 0.4em;background-color: white;}#sk-container-id-13 div.sk-label label {font-family: monospace;font-weight: bold;display: inline-block;line-height: 1.2em;}#sk-container-id-13 div.sk-label-container {text-align: center;}#sk-container-id-13 div.sk-container {/* jupyter's `normalize.less` sets `[hidden] { display: none; }` but bootstrap.min.css set `[hidden] { display: none !important; }` so we also need the `!important` here to be able to override the default hidden behavior on the sphinx rendered scikit-learn.org. See: https://github.com/scikit-learn/scikit-learn/issues/21755 */display: inline-block !important;position: relative;}#sk-container-id-13 div.sk-text-repr-fallback {display: none;}</style><div id=\"sk-container-id-13\" class=\"sk-top-container\"><div class=\"sk-text-repr-fallback\"><pre>MLPClassifier(hidden_layer_sizes=(100, 10, 1), max_iter=1000)</pre><b>In a Jupyter environment, please rerun this cell to show the HTML representation or trust the notebook. <br />On GitHub, the HTML representation is unable to render, please try loading this page with nbviewer.org.</b></div><div class=\"sk-container\" hidden><div class=\"sk-item\"><div class=\"sk-estimator sk-toggleable\"><input class=\"sk-toggleable__control sk-hidden--visually\" id=\"sk-estimator-id-13\" type=\"checkbox\" checked><label for=\"sk-estimator-id-13\" class=\"sk-toggleable__label sk-toggleable__label-arrow\">MLPClassifier</label><div class=\"sk-toggleable__content\"><pre>MLPClassifier(hidden_layer_sizes=(100, 10, 1), max_iter=1000)</pre></div></div></div></div></div>"
            ]
          },
          "metadata": {},
          "execution_count": 47
        }
      ]
    },
    {
      "cell_type": "code",
      "source": [],
      "metadata": {
        "id": "y27wiV5CfYeb"
      },
      "execution_count": null,
      "outputs": []
    },
    {
      "cell_type": "code",
      "source": [
        "y_pred = model.predict(X_test)\n",
        "y_pred"
      ],
      "metadata": {
        "colab": {
          "base_uri": "https://localhost:8080/"
        },
        "id": "nlC5WdtafhaW",
        "outputId": "33e10e4c-9d01-405e-edcd-6679e21a41c8"
      },
      "execution_count": null,
      "outputs": [
        {
          "output_type": "execute_result",
          "data": {
            "text/plain": [
              "array([0, 0, 0, 1, 1, 0, 1, 0, 0, 0, 1, 0, 0, 0, 1, 1, 1, 0, 0, 0, 0, 1,\n",
              "       0, 1, 0, 0, 0, 0, 0, 0, 1, 0, 0, 0, 1, 1, 0, 1, 0, 0, 0, 0, 1, 0,\n",
              "       1, 0, 0, 0, 1, 0, 1, 0, 1, 1, 0, 1, 1, 1, 0, 1, 1, 0, 1, 0, 0, 0,\n",
              "       0, 1, 1, 0, 1, 0, 1, 1, 1, 1, 0])"
            ]
          },
          "metadata": {},
          "execution_count": 48
        }
      ]
    },
    {
      "cell_type": "code",
      "source": [
        "from sklearn.metrics import accuracy_score, confusion_matrix\n",
        "print(\"Accuracy:\", accuracy_score(y_test, y_pred))\n",
        "print(\"Confusion Matrix:\\n\", confusion_matrix(y_test, y_pred))\n"
      ],
      "metadata": {
        "colab": {
          "base_uri": "https://localhost:8080/"
        },
        "outputId": "15ab31f4-0e97-4107-a27a-a9dae452cd62",
        "id": "oyZ4ayBKfhaW"
      },
      "execution_count": null,
      "outputs": [
        {
          "output_type": "stream",
          "name": "stdout",
          "text": [
            "Accuracy: 0.6623376623376623\n",
            "Confusion Matrix:\n",
            " [[33 11]\n",
            " [15 18]]\n"
          ]
        }
      ]
    },
    {
      "cell_type": "markdown",
      "source": [
        "# 2 Hidden layer of size 100 and 40"
      ],
      "metadata": {
        "id": "N72Z2nEtbip5"
      }
    },
    {
      "cell_type": "code",
      "source": [
        "model1 = MLPClassifier(hidden_layer_sizes=(100,40,2), max_iter=1000,activation='relu', solver='adam',)\n",
        "model1.fit(X_train,y_train)\n"
      ],
      "metadata": {
        "colab": {
          "base_uri": "https://localhost:8080/",
          "height": 74
        },
        "id": "QEonL8321bPE",
        "outputId": "3a842201-2afd-4be2-d397-209c6f7f2de9"
      },
      "execution_count": null,
      "outputs": [
        {
          "output_type": "execute_result",
          "data": {
            "text/plain": [
              "MLPClassifier(hidden_layer_sizes=(100, 40, 2), max_iter=1000)"
            ],
            "text/html": [
              "<style>#sk-container-id-4 {color: black;background-color: white;}#sk-container-id-4 pre{padding: 0;}#sk-container-id-4 div.sk-toggleable {background-color: white;}#sk-container-id-4 label.sk-toggleable__label {cursor: pointer;display: block;width: 100%;margin-bottom: 0;padding: 0.3em;box-sizing: border-box;text-align: center;}#sk-container-id-4 label.sk-toggleable__label-arrow:before {content: \"▸\";float: left;margin-right: 0.25em;color: #696969;}#sk-container-id-4 label.sk-toggleable__label-arrow:hover:before {color: black;}#sk-container-id-4 div.sk-estimator:hover label.sk-toggleable__label-arrow:before {color: black;}#sk-container-id-4 div.sk-toggleable__content {max-height: 0;max-width: 0;overflow: hidden;text-align: left;background-color: #f0f8ff;}#sk-container-id-4 div.sk-toggleable__content pre {margin: 0.2em;color: black;border-radius: 0.25em;background-color: #f0f8ff;}#sk-container-id-4 input.sk-toggleable__control:checked~div.sk-toggleable__content {max-height: 200px;max-width: 100%;overflow: auto;}#sk-container-id-4 input.sk-toggleable__control:checked~label.sk-toggleable__label-arrow:before {content: \"▾\";}#sk-container-id-4 div.sk-estimator input.sk-toggleable__control:checked~label.sk-toggleable__label {background-color: #d4ebff;}#sk-container-id-4 div.sk-label input.sk-toggleable__control:checked~label.sk-toggleable__label {background-color: #d4ebff;}#sk-container-id-4 input.sk-hidden--visually {border: 0;clip: rect(1px 1px 1px 1px);clip: rect(1px, 1px, 1px, 1px);height: 1px;margin: -1px;overflow: hidden;padding: 0;position: absolute;width: 1px;}#sk-container-id-4 div.sk-estimator {font-family: monospace;background-color: #f0f8ff;border: 1px dotted black;border-radius: 0.25em;box-sizing: border-box;margin-bottom: 0.5em;}#sk-container-id-4 div.sk-estimator:hover {background-color: #d4ebff;}#sk-container-id-4 div.sk-parallel-item::after {content: \"\";width: 100%;border-bottom: 1px solid gray;flex-grow: 1;}#sk-container-id-4 div.sk-label:hover label.sk-toggleable__label {background-color: #d4ebff;}#sk-container-id-4 div.sk-serial::before {content: \"\";position: absolute;border-left: 1px solid gray;box-sizing: border-box;top: 0;bottom: 0;left: 50%;z-index: 0;}#sk-container-id-4 div.sk-serial {display: flex;flex-direction: column;align-items: center;background-color: white;padding-right: 0.2em;padding-left: 0.2em;position: relative;}#sk-container-id-4 div.sk-item {position: relative;z-index: 1;}#sk-container-id-4 div.sk-parallel {display: flex;align-items: stretch;justify-content: center;background-color: white;position: relative;}#sk-container-id-4 div.sk-item::before, #sk-container-id-4 div.sk-parallel-item::before {content: \"\";position: absolute;border-left: 1px solid gray;box-sizing: border-box;top: 0;bottom: 0;left: 50%;z-index: -1;}#sk-container-id-4 div.sk-parallel-item {display: flex;flex-direction: column;z-index: 1;position: relative;background-color: white;}#sk-container-id-4 div.sk-parallel-item:first-child::after {align-self: flex-end;width: 50%;}#sk-container-id-4 div.sk-parallel-item:last-child::after {align-self: flex-start;width: 50%;}#sk-container-id-4 div.sk-parallel-item:only-child::after {width: 0;}#sk-container-id-4 div.sk-dashed-wrapped {border: 1px dashed gray;margin: 0 0.4em 0.5em 0.4em;box-sizing: border-box;padding-bottom: 0.4em;background-color: white;}#sk-container-id-4 div.sk-label label {font-family: monospace;font-weight: bold;display: inline-block;line-height: 1.2em;}#sk-container-id-4 div.sk-label-container {text-align: center;}#sk-container-id-4 div.sk-container {/* jupyter's `normalize.less` sets `[hidden] { display: none; }` but bootstrap.min.css set `[hidden] { display: none !important; }` so we also need the `!important` here to be able to override the default hidden behavior on the sphinx rendered scikit-learn.org. See: https://github.com/scikit-learn/scikit-learn/issues/21755 */display: inline-block !important;position: relative;}#sk-container-id-4 div.sk-text-repr-fallback {display: none;}</style><div id=\"sk-container-id-4\" class=\"sk-top-container\"><div class=\"sk-text-repr-fallback\"><pre>MLPClassifier(hidden_layer_sizes=(100, 40, 2), max_iter=1000)</pre><b>In a Jupyter environment, please rerun this cell to show the HTML representation or trust the notebook. <br />On GitHub, the HTML representation is unable to render, please try loading this page with nbviewer.org.</b></div><div class=\"sk-container\" hidden><div class=\"sk-item\"><div class=\"sk-estimator sk-toggleable\"><input class=\"sk-toggleable__control sk-hidden--visually\" id=\"sk-estimator-id-4\" type=\"checkbox\" checked><label for=\"sk-estimator-id-4\" class=\"sk-toggleable__label sk-toggleable__label-arrow\">MLPClassifier</label><div class=\"sk-toggleable__content\"><pre>MLPClassifier(hidden_layer_sizes=(100, 40, 2), max_iter=1000)</pre></div></div></div></div></div>"
            ]
          },
          "metadata": {},
          "execution_count": 18
        }
      ]
    },
    {
      "cell_type": "code",
      "source": [
        "y_pred1 = model1.predict(X_test)"
      ],
      "metadata": {
        "id": "1Kmvc-9p1bNZ"
      },
      "execution_count": null,
      "outputs": []
    },
    {
      "cell_type": "code",
      "source": [
        "from sklearn.metrics import accuracy_score, confusion_matrix\n",
        "print(\"Accuracy:\", accuracy_score(y_test, y_pred1))\n",
        "print(\"Confusion Matrix:\\n\", confusion_matrix(y_test, y_pred1))\n"
      ],
      "metadata": {
        "colab": {
          "base_uri": "https://localhost:8080/"
        },
        "id": "wHNxbz661piR",
        "outputId": "5dc7a6cd-9558-4df4-9b05-82cdf3c96885"
      },
      "execution_count": null,
      "outputs": [
        {
          "output_type": "stream",
          "name": "stdout",
          "text": [
            "Accuracy: 0.6623376623376623\n",
            "Confusion Matrix:\n",
            " [[31 13]\n",
            " [13 20]]\n"
          ]
        }
      ]
    },
    {
      "cell_type": "markdown",
      "source": [
        "# 2 Hidden layer of size 64 and 32"
      ],
      "metadata": {
        "id": "hlq5IjMObsDW"
      }
    },
    {
      "cell_type": "code",
      "source": [
        "model2 = MLPClassifier(hidden_layer_sizes=(64,32,2), max_iter=1000,activation='relu', solver='adam',)\n",
        "model2.fit(X_train,y_train)"
      ],
      "metadata": {
        "colab": {
          "base_uri": "https://localhost:8080/",
          "height": 131
        },
        "id": "f8ps6lDoa-qK",
        "outputId": "f8081a66-2b27-4b0e-8442-1d1662b377a9"
      },
      "execution_count": null,
      "outputs": [
        {
          "output_type": "stream",
          "name": "stderr",
          "text": [
            "/usr/local/lib/python3.10/dist-packages/sklearn/neural_network/_multilayer_perceptron.py:686: ConvergenceWarning: Stochastic Optimizer: Maximum iterations (1000) reached and the optimization hasn't converged yet.\n",
            "  warnings.warn(\n"
          ]
        },
        {
          "output_type": "execute_result",
          "data": {
            "text/plain": [
              "MLPClassifier(hidden_layer_sizes=(64, 32, 2), max_iter=1000)"
            ],
            "text/html": [
              "<style>#sk-container-id-5 {color: black;background-color: white;}#sk-container-id-5 pre{padding: 0;}#sk-container-id-5 div.sk-toggleable {background-color: white;}#sk-container-id-5 label.sk-toggleable__label {cursor: pointer;display: block;width: 100%;margin-bottom: 0;padding: 0.3em;box-sizing: border-box;text-align: center;}#sk-container-id-5 label.sk-toggleable__label-arrow:before {content: \"▸\";float: left;margin-right: 0.25em;color: #696969;}#sk-container-id-5 label.sk-toggleable__label-arrow:hover:before {color: black;}#sk-container-id-5 div.sk-estimator:hover label.sk-toggleable__label-arrow:before {color: black;}#sk-container-id-5 div.sk-toggleable__content {max-height: 0;max-width: 0;overflow: hidden;text-align: left;background-color: #f0f8ff;}#sk-container-id-5 div.sk-toggleable__content pre {margin: 0.2em;color: black;border-radius: 0.25em;background-color: #f0f8ff;}#sk-container-id-5 input.sk-toggleable__control:checked~div.sk-toggleable__content {max-height: 200px;max-width: 100%;overflow: auto;}#sk-container-id-5 input.sk-toggleable__control:checked~label.sk-toggleable__label-arrow:before {content: \"▾\";}#sk-container-id-5 div.sk-estimator input.sk-toggleable__control:checked~label.sk-toggleable__label {background-color: #d4ebff;}#sk-container-id-5 div.sk-label input.sk-toggleable__control:checked~label.sk-toggleable__label {background-color: #d4ebff;}#sk-container-id-5 input.sk-hidden--visually {border: 0;clip: rect(1px 1px 1px 1px);clip: rect(1px, 1px, 1px, 1px);height: 1px;margin: -1px;overflow: hidden;padding: 0;position: absolute;width: 1px;}#sk-container-id-5 div.sk-estimator {font-family: monospace;background-color: #f0f8ff;border: 1px dotted black;border-radius: 0.25em;box-sizing: border-box;margin-bottom: 0.5em;}#sk-container-id-5 div.sk-estimator:hover {background-color: #d4ebff;}#sk-container-id-5 div.sk-parallel-item::after {content: \"\";width: 100%;border-bottom: 1px solid gray;flex-grow: 1;}#sk-container-id-5 div.sk-label:hover label.sk-toggleable__label {background-color: #d4ebff;}#sk-container-id-5 div.sk-serial::before {content: \"\";position: absolute;border-left: 1px solid gray;box-sizing: border-box;top: 0;bottom: 0;left: 50%;z-index: 0;}#sk-container-id-5 div.sk-serial {display: flex;flex-direction: column;align-items: center;background-color: white;padding-right: 0.2em;padding-left: 0.2em;position: relative;}#sk-container-id-5 div.sk-item {position: relative;z-index: 1;}#sk-container-id-5 div.sk-parallel {display: flex;align-items: stretch;justify-content: center;background-color: white;position: relative;}#sk-container-id-5 div.sk-item::before, #sk-container-id-5 div.sk-parallel-item::before {content: \"\";position: absolute;border-left: 1px solid gray;box-sizing: border-box;top: 0;bottom: 0;left: 50%;z-index: -1;}#sk-container-id-5 div.sk-parallel-item {display: flex;flex-direction: column;z-index: 1;position: relative;background-color: white;}#sk-container-id-5 div.sk-parallel-item:first-child::after {align-self: flex-end;width: 50%;}#sk-container-id-5 div.sk-parallel-item:last-child::after {align-self: flex-start;width: 50%;}#sk-container-id-5 div.sk-parallel-item:only-child::after {width: 0;}#sk-container-id-5 div.sk-dashed-wrapped {border: 1px dashed gray;margin: 0 0.4em 0.5em 0.4em;box-sizing: border-box;padding-bottom: 0.4em;background-color: white;}#sk-container-id-5 div.sk-label label {font-family: monospace;font-weight: bold;display: inline-block;line-height: 1.2em;}#sk-container-id-5 div.sk-label-container {text-align: center;}#sk-container-id-5 div.sk-container {/* jupyter's `normalize.less` sets `[hidden] { display: none; }` but bootstrap.min.css set `[hidden] { display: none !important; }` so we also need the `!important` here to be able to override the default hidden behavior on the sphinx rendered scikit-learn.org. See: https://github.com/scikit-learn/scikit-learn/issues/21755 */display: inline-block !important;position: relative;}#sk-container-id-5 div.sk-text-repr-fallback {display: none;}</style><div id=\"sk-container-id-5\" class=\"sk-top-container\"><div class=\"sk-text-repr-fallback\"><pre>MLPClassifier(hidden_layer_sizes=(64, 32, 2), max_iter=1000)</pre><b>In a Jupyter environment, please rerun this cell to show the HTML representation or trust the notebook. <br />On GitHub, the HTML representation is unable to render, please try loading this page with nbviewer.org.</b></div><div class=\"sk-container\" hidden><div class=\"sk-item\"><div class=\"sk-estimator sk-toggleable\"><input class=\"sk-toggleable__control sk-hidden--visually\" id=\"sk-estimator-id-5\" type=\"checkbox\" checked><label for=\"sk-estimator-id-5\" class=\"sk-toggleable__label sk-toggleable__label-arrow\">MLPClassifier</label><div class=\"sk-toggleable__content\"><pre>MLPClassifier(hidden_layer_sizes=(64, 32, 2), max_iter=1000)</pre></div></div></div></div></div>"
            ]
          },
          "metadata": {},
          "execution_count": 21
        }
      ]
    },
    {
      "cell_type": "code",
      "source": [
        "y_pred2 = model2.predict(X_test)"
      ],
      "metadata": {
        "id": "HqfWu-9Ea-n3"
      },
      "execution_count": null,
      "outputs": []
    },
    {
      "cell_type": "code",
      "source": [
        "from sklearn.metrics import accuracy_score, confusion_matrix\n",
        "print(\"Accuracy:\", accuracy_score(y_test, y_pred2))\n",
        "print(\"Confusion Matrix:\\n\", confusion_matrix(y_test, y_pred2))"
      ],
      "metadata": {
        "colab": {
          "base_uri": "https://localhost:8080/"
        },
        "id": "3vlQWaeBa-kY",
        "outputId": "c1ab3486-9d68-4ffb-93b7-0041201ab301"
      },
      "execution_count": null,
      "outputs": [
        {
          "output_type": "stream",
          "name": "stdout",
          "text": [
            "Accuracy: 0.6233766233766234\n",
            "Confusion Matrix:\n",
            " [[32 12]\n",
            " [17 16]]\n"
          ]
        }
      ]
    },
    {
      "cell_type": "code",
      "source": [],
      "metadata": {
        "id": "h1ZIVUzma-ir"
      },
      "execution_count": null,
      "outputs": []
    },
    {
      "cell_type": "markdown",
      "source": [
        "# 2 Hidden layer of size 32 and 32"
      ],
      "metadata": {
        "id": "P5AyGugcbvrd"
      }
    },
    {
      "cell_type": "code",
      "source": [
        "model3 = MLPClassifier(hidden_layer_sizes=(32,32,2), max_iter=1000,activation='relu', solver='adam',)\n",
        "model3.fit(X_train,y_train)"
      ],
      "metadata": {
        "colab": {
          "base_uri": "https://localhost:8080/",
          "height": 131
        },
        "outputId": "71e72175-2be8-441d-9fe0-983b3f561a89",
        "id": "BDztGxZ5bX47"
      },
      "execution_count": null,
      "outputs": [
        {
          "output_type": "stream",
          "name": "stderr",
          "text": [
            "/usr/local/lib/python3.10/dist-packages/sklearn/neural_network/_multilayer_perceptron.py:686: ConvergenceWarning: Stochastic Optimizer: Maximum iterations (1000) reached and the optimization hasn't converged yet.\n",
            "  warnings.warn(\n"
          ]
        },
        {
          "output_type": "execute_result",
          "data": {
            "text/plain": [
              "MLPClassifier(hidden_layer_sizes=(32, 32, 2), max_iter=1000)"
            ],
            "text/html": [
              "<style>#sk-container-id-6 {color: black;background-color: white;}#sk-container-id-6 pre{padding: 0;}#sk-container-id-6 div.sk-toggleable {background-color: white;}#sk-container-id-6 label.sk-toggleable__label {cursor: pointer;display: block;width: 100%;margin-bottom: 0;padding: 0.3em;box-sizing: border-box;text-align: center;}#sk-container-id-6 label.sk-toggleable__label-arrow:before {content: \"▸\";float: left;margin-right: 0.25em;color: #696969;}#sk-container-id-6 label.sk-toggleable__label-arrow:hover:before {color: black;}#sk-container-id-6 div.sk-estimator:hover label.sk-toggleable__label-arrow:before {color: black;}#sk-container-id-6 div.sk-toggleable__content {max-height: 0;max-width: 0;overflow: hidden;text-align: left;background-color: #f0f8ff;}#sk-container-id-6 div.sk-toggleable__content pre {margin: 0.2em;color: black;border-radius: 0.25em;background-color: #f0f8ff;}#sk-container-id-6 input.sk-toggleable__control:checked~div.sk-toggleable__content {max-height: 200px;max-width: 100%;overflow: auto;}#sk-container-id-6 input.sk-toggleable__control:checked~label.sk-toggleable__label-arrow:before {content: \"▾\";}#sk-container-id-6 div.sk-estimator input.sk-toggleable__control:checked~label.sk-toggleable__label {background-color: #d4ebff;}#sk-container-id-6 div.sk-label input.sk-toggleable__control:checked~label.sk-toggleable__label {background-color: #d4ebff;}#sk-container-id-6 input.sk-hidden--visually {border: 0;clip: rect(1px 1px 1px 1px);clip: rect(1px, 1px, 1px, 1px);height: 1px;margin: -1px;overflow: hidden;padding: 0;position: absolute;width: 1px;}#sk-container-id-6 div.sk-estimator {font-family: monospace;background-color: #f0f8ff;border: 1px dotted black;border-radius: 0.25em;box-sizing: border-box;margin-bottom: 0.5em;}#sk-container-id-6 div.sk-estimator:hover {background-color: #d4ebff;}#sk-container-id-6 div.sk-parallel-item::after {content: \"\";width: 100%;border-bottom: 1px solid gray;flex-grow: 1;}#sk-container-id-6 div.sk-label:hover label.sk-toggleable__label {background-color: #d4ebff;}#sk-container-id-6 div.sk-serial::before {content: \"\";position: absolute;border-left: 1px solid gray;box-sizing: border-box;top: 0;bottom: 0;left: 50%;z-index: 0;}#sk-container-id-6 div.sk-serial {display: flex;flex-direction: column;align-items: center;background-color: white;padding-right: 0.2em;padding-left: 0.2em;position: relative;}#sk-container-id-6 div.sk-item {position: relative;z-index: 1;}#sk-container-id-6 div.sk-parallel {display: flex;align-items: stretch;justify-content: center;background-color: white;position: relative;}#sk-container-id-6 div.sk-item::before, #sk-container-id-6 div.sk-parallel-item::before {content: \"\";position: absolute;border-left: 1px solid gray;box-sizing: border-box;top: 0;bottom: 0;left: 50%;z-index: -1;}#sk-container-id-6 div.sk-parallel-item {display: flex;flex-direction: column;z-index: 1;position: relative;background-color: white;}#sk-container-id-6 div.sk-parallel-item:first-child::after {align-self: flex-end;width: 50%;}#sk-container-id-6 div.sk-parallel-item:last-child::after {align-self: flex-start;width: 50%;}#sk-container-id-6 div.sk-parallel-item:only-child::after {width: 0;}#sk-container-id-6 div.sk-dashed-wrapped {border: 1px dashed gray;margin: 0 0.4em 0.5em 0.4em;box-sizing: border-box;padding-bottom: 0.4em;background-color: white;}#sk-container-id-6 div.sk-label label {font-family: monospace;font-weight: bold;display: inline-block;line-height: 1.2em;}#sk-container-id-6 div.sk-label-container {text-align: center;}#sk-container-id-6 div.sk-container {/* jupyter's `normalize.less` sets `[hidden] { display: none; }` but bootstrap.min.css set `[hidden] { display: none !important; }` so we also need the `!important` here to be able to override the default hidden behavior on the sphinx rendered scikit-learn.org. See: https://github.com/scikit-learn/scikit-learn/issues/21755 */display: inline-block !important;position: relative;}#sk-container-id-6 div.sk-text-repr-fallback {display: none;}</style><div id=\"sk-container-id-6\" class=\"sk-top-container\"><div class=\"sk-text-repr-fallback\"><pre>MLPClassifier(hidden_layer_sizes=(32, 32, 2), max_iter=1000)</pre><b>In a Jupyter environment, please rerun this cell to show the HTML representation or trust the notebook. <br />On GitHub, the HTML representation is unable to render, please try loading this page with nbviewer.org.</b></div><div class=\"sk-container\" hidden><div class=\"sk-item\"><div class=\"sk-estimator sk-toggleable\"><input class=\"sk-toggleable__control sk-hidden--visually\" id=\"sk-estimator-id-6\" type=\"checkbox\" checked><label for=\"sk-estimator-id-6\" class=\"sk-toggleable__label sk-toggleable__label-arrow\">MLPClassifier</label><div class=\"sk-toggleable__content\"><pre>MLPClassifier(hidden_layer_sizes=(32, 32, 2), max_iter=1000)</pre></div></div></div></div></div>"
            ]
          },
          "metadata": {},
          "execution_count": 24
        }
      ]
    },
    {
      "cell_type": "code",
      "source": [
        "y_pred3 = model3.predict(X_test)"
      ],
      "metadata": {
        "id": "fOVZzUnVbX5E"
      },
      "execution_count": null,
      "outputs": []
    },
    {
      "cell_type": "code",
      "source": [
        "from sklearn.metrics import accuracy_score, confusion_matrix\n",
        "print(\"Accuracy:\", accuracy_score(y_test, y_pred3))\n",
        "print(\"Confusion Matrix:\\n\", confusion_matrix(y_test, y_pred3))"
      ],
      "metadata": {
        "colab": {
          "base_uri": "https://localhost:8080/"
        },
        "outputId": "604abe73-e3f9-4bd4-e800-4307563e626a",
        "id": "XogXM7EpbX5E"
      },
      "execution_count": null,
      "outputs": [
        {
          "output_type": "stream",
          "name": "stdout",
          "text": [
            "Accuracy: 0.6883116883116883\n",
            "Confusion Matrix:\n",
            " [[33 11]\n",
            " [13 20]]\n"
          ]
        }
      ]
    },
    {
      "cell_type": "code",
      "source": [],
      "metadata": {
        "id": "STIVD9CNbY9Z"
      },
      "execution_count": null,
      "outputs": []
    },
    {
      "cell_type": "markdown",
      "source": [
        "# Hyperparameters tuning"
      ],
      "metadata": {
        "id": "OnWLGeQfcrgG"
      }
    },
    {
      "cell_type": "code",
      "source": [
        "from sklearn.model_selection import GridSearchCV\n",
        "\n",
        "param_grid = {\n",
        "    'hidden_layer_sizes': [(50,2), (100,2), (50, 50,2), (100, 50,2)],\n",
        "    'activation': ['identity', 'logistic', 'tanh', 'relu'],\n",
        "    'solver': ['lbfgs', 'sgd', 'adam'],\n",
        "    'alpha': [0.0001, 0.001, 0.01],\n",
        "    'learning_rate': ['constant', 'invscaling', 'adaptive'],\n",
        "    'learning_rate_init': [0.0001, 0.001, 0.01],\n",
        "    'max_iter': [100, 200, 300]\n",
        "}\n",
        "mlp = MLPClassifier()\n",
        "grid_search = GridSearchCV(mlp, param_grid, cv=5, n_jobs=-1)\n",
        "\n",
        "grid_search.fit(X_train, y_train)\n",
        "\n",
        "print(f\"Best hyperparameters: {grid_search.best_params_}\")\n",
        "print(f\"Best cross-validation score: {grid_search.best_score_}\")"
      ],
      "metadata": {
        "colab": {
          "base_uri": "https://localhost:8080/",
          "height": 395
        },
        "id": "fcHxBMsSbY5B",
        "outputId": "b70ff677-27ac-452f-95af-245be3089ee7"
      },
      "execution_count": null,
      "outputs": [
        {
          "output_type": "error",
          "ename": "KeyboardInterrupt",
          "evalue": "ignored",
          "traceback": [
            "\u001b[0;31m---------------------------------------------------------------------------\u001b[0m",
            "\u001b[0;31mKeyboardInterrupt\u001b[0m                         Traceback (most recent call last)",
            "\u001b[0;32m<ipython-input-28-c8b0a8a5db67>\u001b[0m in \u001b[0;36m<cell line: 15>\u001b[0;34m()\u001b[0m\n\u001b[1;32m     13\u001b[0m \u001b[0mgrid_search\u001b[0m \u001b[0;34m=\u001b[0m \u001b[0mGridSearchCV\u001b[0m\u001b[0;34m(\u001b[0m\u001b[0mmlp\u001b[0m\u001b[0;34m,\u001b[0m \u001b[0mparam_grid\u001b[0m\u001b[0;34m,\u001b[0m \u001b[0mcv\u001b[0m\u001b[0;34m=\u001b[0m\u001b[0;36m5\u001b[0m\u001b[0;34m,\u001b[0m \u001b[0mn_jobs\u001b[0m\u001b[0;34m=\u001b[0m\u001b[0;34m-\u001b[0m\u001b[0;36m1\u001b[0m\u001b[0;34m)\u001b[0m\u001b[0;34m\u001b[0m\u001b[0;34m\u001b[0m\u001b[0m\n\u001b[1;32m     14\u001b[0m \u001b[0;34m\u001b[0m\u001b[0m\n\u001b[0;32m---> 15\u001b[0;31m \u001b[0mgrid_search\u001b[0m\u001b[0;34m.\u001b[0m\u001b[0mfit\u001b[0m\u001b[0;34m(\u001b[0m\u001b[0mX_train\u001b[0m\u001b[0;34m,\u001b[0m \u001b[0my_train\u001b[0m\u001b[0;34m)\u001b[0m\u001b[0;34m\u001b[0m\u001b[0;34m\u001b[0m\u001b[0m\n\u001b[0m\u001b[1;32m     16\u001b[0m \u001b[0;34m\u001b[0m\u001b[0m\n\u001b[1;32m     17\u001b[0m \u001b[0mprint\u001b[0m\u001b[0;34m(\u001b[0m\u001b[0;34mf\"Best hyperparameters: {grid_search.best_params_}\"\u001b[0m\u001b[0;34m)\u001b[0m\u001b[0;34m\u001b[0m\u001b[0;34m\u001b[0m\u001b[0m\n",
            "\u001b[0;32m/usr/local/lib/python3.10/dist-packages/sklearn/model_selection/_search.py\u001b[0m in \u001b[0;36mfit\u001b[0;34m(self, X, y, groups, **fit_params)\u001b[0m\n\u001b[1;32m    872\u001b[0m                 \u001b[0;32mreturn\u001b[0m \u001b[0mresults\u001b[0m\u001b[0;34m\u001b[0m\u001b[0;34m\u001b[0m\u001b[0m\n\u001b[1;32m    873\u001b[0m \u001b[0;34m\u001b[0m\u001b[0m\n\u001b[0;32m--> 874\u001b[0;31m             \u001b[0mself\u001b[0m\u001b[0;34m.\u001b[0m\u001b[0m_run_search\u001b[0m\u001b[0;34m(\u001b[0m\u001b[0mevaluate_candidates\u001b[0m\u001b[0;34m)\u001b[0m\u001b[0;34m\u001b[0m\u001b[0;34m\u001b[0m\u001b[0m\n\u001b[0m\u001b[1;32m    875\u001b[0m \u001b[0;34m\u001b[0m\u001b[0m\n\u001b[1;32m    876\u001b[0m             \u001b[0;31m# multimetric is determined here because in the case of a callable\u001b[0m\u001b[0;34m\u001b[0m\u001b[0;34m\u001b[0m\u001b[0m\n",
            "\u001b[0;32m/usr/local/lib/python3.10/dist-packages/sklearn/model_selection/_search.py\u001b[0m in \u001b[0;36m_run_search\u001b[0;34m(self, evaluate_candidates)\u001b[0m\n\u001b[1;32m   1386\u001b[0m     \u001b[0;32mdef\u001b[0m \u001b[0m_run_search\u001b[0m\u001b[0;34m(\u001b[0m\u001b[0mself\u001b[0m\u001b[0;34m,\u001b[0m \u001b[0mevaluate_candidates\u001b[0m\u001b[0;34m)\u001b[0m\u001b[0;34m:\u001b[0m\u001b[0;34m\u001b[0m\u001b[0;34m\u001b[0m\u001b[0m\n\u001b[1;32m   1387\u001b[0m         \u001b[0;34m\"\"\"Search all candidates in param_grid\"\"\"\u001b[0m\u001b[0;34m\u001b[0m\u001b[0;34m\u001b[0m\u001b[0m\n\u001b[0;32m-> 1388\u001b[0;31m         \u001b[0mevaluate_candidates\u001b[0m\u001b[0;34m(\u001b[0m\u001b[0mParameterGrid\u001b[0m\u001b[0;34m(\u001b[0m\u001b[0mself\u001b[0m\u001b[0;34m.\u001b[0m\u001b[0mparam_grid\u001b[0m\u001b[0;34m)\u001b[0m\u001b[0;34m)\u001b[0m\u001b[0;34m\u001b[0m\u001b[0;34m\u001b[0m\u001b[0m\n\u001b[0m\u001b[1;32m   1389\u001b[0m \u001b[0;34m\u001b[0m\u001b[0m\n\u001b[1;32m   1390\u001b[0m \u001b[0;34m\u001b[0m\u001b[0m\n",
            "\u001b[0;32m/usr/local/lib/python3.10/dist-packages/sklearn/model_selection/_search.py\u001b[0m in \u001b[0;36mevaluate_candidates\u001b[0;34m(candidate_params, cv, more_results)\u001b[0m\n\u001b[1;32m    819\u001b[0m                     )\n\u001b[1;32m    820\u001b[0m \u001b[0;34m\u001b[0m\u001b[0m\n\u001b[0;32m--> 821\u001b[0;31m                 out = parallel(\n\u001b[0m\u001b[1;32m    822\u001b[0m                     delayed(_fit_and_score)(\n\u001b[1;32m    823\u001b[0m                         \u001b[0mclone\u001b[0m\u001b[0;34m(\u001b[0m\u001b[0mbase_estimator\u001b[0m\u001b[0;34m)\u001b[0m\u001b[0;34m,\u001b[0m\u001b[0;34m\u001b[0m\u001b[0;34m\u001b[0m\u001b[0m\n",
            "\u001b[0;32m/usr/local/lib/python3.10/dist-packages/sklearn/utils/parallel.py\u001b[0m in \u001b[0;36m__call__\u001b[0;34m(self, iterable)\u001b[0m\n\u001b[1;32m     61\u001b[0m             \u001b[0;32mfor\u001b[0m \u001b[0mdelayed_func\u001b[0m\u001b[0;34m,\u001b[0m \u001b[0margs\u001b[0m\u001b[0;34m,\u001b[0m \u001b[0mkwargs\u001b[0m \u001b[0;32min\u001b[0m \u001b[0miterable\u001b[0m\u001b[0;34m\u001b[0m\u001b[0;34m\u001b[0m\u001b[0m\n\u001b[1;32m     62\u001b[0m         )\n\u001b[0;32m---> 63\u001b[0;31m         \u001b[0;32mreturn\u001b[0m \u001b[0msuper\u001b[0m\u001b[0;34m(\u001b[0m\u001b[0;34m)\u001b[0m\u001b[0;34m.\u001b[0m\u001b[0m__call__\u001b[0m\u001b[0;34m(\u001b[0m\u001b[0miterable_with_config\u001b[0m\u001b[0;34m)\u001b[0m\u001b[0;34m\u001b[0m\u001b[0;34m\u001b[0m\u001b[0m\n\u001b[0m\u001b[1;32m     64\u001b[0m \u001b[0;34m\u001b[0m\u001b[0m\n\u001b[1;32m     65\u001b[0m \u001b[0;34m\u001b[0m\u001b[0m\n",
            "\u001b[0;32m/usr/local/lib/python3.10/dist-packages/joblib/parallel.py\u001b[0m in \u001b[0;36m__call__\u001b[0;34m(self, iterable)\u001b[0m\n\u001b[1;32m   1096\u001b[0m \u001b[0;34m\u001b[0m\u001b[0m\n\u001b[1;32m   1097\u001b[0m             \u001b[0;32mwith\u001b[0m \u001b[0mself\u001b[0m\u001b[0;34m.\u001b[0m\u001b[0m_backend\u001b[0m\u001b[0;34m.\u001b[0m\u001b[0mretrieval_context\u001b[0m\u001b[0;34m(\u001b[0m\u001b[0;34m)\u001b[0m\u001b[0;34m:\u001b[0m\u001b[0;34m\u001b[0m\u001b[0;34m\u001b[0m\u001b[0m\n\u001b[0;32m-> 1098\u001b[0;31m                 \u001b[0mself\u001b[0m\u001b[0;34m.\u001b[0m\u001b[0mretrieve\u001b[0m\u001b[0;34m(\u001b[0m\u001b[0;34m)\u001b[0m\u001b[0;34m\u001b[0m\u001b[0;34m\u001b[0m\u001b[0m\n\u001b[0m\u001b[1;32m   1099\u001b[0m             \u001b[0;31m# Make sure that we get a last message telling us we are done\u001b[0m\u001b[0;34m\u001b[0m\u001b[0;34m\u001b[0m\u001b[0m\n\u001b[1;32m   1100\u001b[0m             \u001b[0melapsed_time\u001b[0m \u001b[0;34m=\u001b[0m \u001b[0mtime\u001b[0m\u001b[0;34m.\u001b[0m\u001b[0mtime\u001b[0m\u001b[0;34m(\u001b[0m\u001b[0;34m)\u001b[0m \u001b[0;34m-\u001b[0m \u001b[0mself\u001b[0m\u001b[0;34m.\u001b[0m\u001b[0m_start_time\u001b[0m\u001b[0;34m\u001b[0m\u001b[0;34m\u001b[0m\u001b[0m\n",
            "\u001b[0;32m/usr/local/lib/python3.10/dist-packages/joblib/parallel.py\u001b[0m in \u001b[0;36mretrieve\u001b[0;34m(self)\u001b[0m\n\u001b[1;32m    973\u001b[0m             \u001b[0;32mtry\u001b[0m\u001b[0;34m:\u001b[0m\u001b[0;34m\u001b[0m\u001b[0;34m\u001b[0m\u001b[0m\n\u001b[1;32m    974\u001b[0m                 \u001b[0;32mif\u001b[0m \u001b[0mgetattr\u001b[0m\u001b[0;34m(\u001b[0m\u001b[0mself\u001b[0m\u001b[0;34m.\u001b[0m\u001b[0m_backend\u001b[0m\u001b[0;34m,\u001b[0m \u001b[0;34m'supports_timeout'\u001b[0m\u001b[0;34m,\u001b[0m \u001b[0;32mFalse\u001b[0m\u001b[0;34m)\u001b[0m\u001b[0;34m:\u001b[0m\u001b[0;34m\u001b[0m\u001b[0;34m\u001b[0m\u001b[0m\n\u001b[0;32m--> 975\u001b[0;31m                     \u001b[0mself\u001b[0m\u001b[0;34m.\u001b[0m\u001b[0m_output\u001b[0m\u001b[0;34m.\u001b[0m\u001b[0mextend\u001b[0m\u001b[0;34m(\u001b[0m\u001b[0mjob\u001b[0m\u001b[0;34m.\u001b[0m\u001b[0mget\u001b[0m\u001b[0;34m(\u001b[0m\u001b[0mtimeout\u001b[0m\u001b[0;34m=\u001b[0m\u001b[0mself\u001b[0m\u001b[0;34m.\u001b[0m\u001b[0mtimeout\u001b[0m\u001b[0;34m)\u001b[0m\u001b[0;34m)\u001b[0m\u001b[0;34m\u001b[0m\u001b[0;34m\u001b[0m\u001b[0m\n\u001b[0m\u001b[1;32m    976\u001b[0m                 \u001b[0;32melse\u001b[0m\u001b[0;34m:\u001b[0m\u001b[0;34m\u001b[0m\u001b[0;34m\u001b[0m\u001b[0m\n\u001b[1;32m    977\u001b[0m                     \u001b[0mself\u001b[0m\u001b[0;34m.\u001b[0m\u001b[0m_output\u001b[0m\u001b[0;34m.\u001b[0m\u001b[0mextend\u001b[0m\u001b[0;34m(\u001b[0m\u001b[0mjob\u001b[0m\u001b[0;34m.\u001b[0m\u001b[0mget\u001b[0m\u001b[0;34m(\u001b[0m\u001b[0;34m)\u001b[0m\u001b[0;34m)\u001b[0m\u001b[0;34m\u001b[0m\u001b[0;34m\u001b[0m\u001b[0m\n",
            "\u001b[0;32m/usr/local/lib/python3.10/dist-packages/joblib/_parallel_backends.py\u001b[0m in \u001b[0;36mwrap_future_result\u001b[0;34m(future, timeout)\u001b[0m\n\u001b[1;32m    565\u001b[0m         AsyncResults.get from multiprocessing.\"\"\"\n\u001b[1;32m    566\u001b[0m         \u001b[0;32mtry\u001b[0m\u001b[0;34m:\u001b[0m\u001b[0;34m\u001b[0m\u001b[0;34m\u001b[0m\u001b[0m\n\u001b[0;32m--> 567\u001b[0;31m             \u001b[0;32mreturn\u001b[0m \u001b[0mfuture\u001b[0m\u001b[0;34m.\u001b[0m\u001b[0mresult\u001b[0m\u001b[0;34m(\u001b[0m\u001b[0mtimeout\u001b[0m\u001b[0;34m=\u001b[0m\u001b[0mtimeout\u001b[0m\u001b[0;34m)\u001b[0m\u001b[0;34m\u001b[0m\u001b[0;34m\u001b[0m\u001b[0m\n\u001b[0m\u001b[1;32m    568\u001b[0m         \u001b[0;32mexcept\u001b[0m \u001b[0mCfTimeoutError\u001b[0m \u001b[0;32mas\u001b[0m \u001b[0me\u001b[0m\u001b[0;34m:\u001b[0m\u001b[0;34m\u001b[0m\u001b[0;34m\u001b[0m\u001b[0m\n\u001b[1;32m    569\u001b[0m             \u001b[0;32mraise\u001b[0m \u001b[0mTimeoutError\u001b[0m \u001b[0;32mfrom\u001b[0m \u001b[0me\u001b[0m\u001b[0;34m\u001b[0m\u001b[0;34m\u001b[0m\u001b[0m\n",
            "\u001b[0;32m/usr/lib/python3.10/concurrent/futures/_base.py\u001b[0m in \u001b[0;36mresult\u001b[0;34m(self, timeout)\u001b[0m\n\u001b[1;32m    451\u001b[0m                     \u001b[0;32mreturn\u001b[0m \u001b[0mself\u001b[0m\u001b[0;34m.\u001b[0m\u001b[0m__get_result\u001b[0m\u001b[0;34m(\u001b[0m\u001b[0;34m)\u001b[0m\u001b[0;34m\u001b[0m\u001b[0;34m\u001b[0m\u001b[0m\n\u001b[1;32m    452\u001b[0m \u001b[0;34m\u001b[0m\u001b[0m\n\u001b[0;32m--> 453\u001b[0;31m                 \u001b[0mself\u001b[0m\u001b[0;34m.\u001b[0m\u001b[0m_condition\u001b[0m\u001b[0;34m.\u001b[0m\u001b[0mwait\u001b[0m\u001b[0;34m(\u001b[0m\u001b[0mtimeout\u001b[0m\u001b[0;34m)\u001b[0m\u001b[0;34m\u001b[0m\u001b[0;34m\u001b[0m\u001b[0m\n\u001b[0m\u001b[1;32m    454\u001b[0m \u001b[0;34m\u001b[0m\u001b[0m\n\u001b[1;32m    455\u001b[0m                 \u001b[0;32mif\u001b[0m \u001b[0mself\u001b[0m\u001b[0;34m.\u001b[0m\u001b[0m_state\u001b[0m \u001b[0;32min\u001b[0m \u001b[0;34m[\u001b[0m\u001b[0mCANCELLED\u001b[0m\u001b[0;34m,\u001b[0m \u001b[0mCANCELLED_AND_NOTIFIED\u001b[0m\u001b[0;34m]\u001b[0m\u001b[0;34m:\u001b[0m\u001b[0;34m\u001b[0m\u001b[0;34m\u001b[0m\u001b[0m\n",
            "\u001b[0;32m/usr/lib/python3.10/threading.py\u001b[0m in \u001b[0;36mwait\u001b[0;34m(self, timeout)\u001b[0m\n\u001b[1;32m    318\u001b[0m         \u001b[0;32mtry\u001b[0m\u001b[0;34m:\u001b[0m    \u001b[0;31m# restore state no matter what (e.g., KeyboardInterrupt)\u001b[0m\u001b[0;34m\u001b[0m\u001b[0;34m\u001b[0m\u001b[0m\n\u001b[1;32m    319\u001b[0m             \u001b[0;32mif\u001b[0m \u001b[0mtimeout\u001b[0m \u001b[0;32mis\u001b[0m \u001b[0;32mNone\u001b[0m\u001b[0;34m:\u001b[0m\u001b[0;34m\u001b[0m\u001b[0;34m\u001b[0m\u001b[0m\n\u001b[0;32m--> 320\u001b[0;31m                 \u001b[0mwaiter\u001b[0m\u001b[0;34m.\u001b[0m\u001b[0macquire\u001b[0m\u001b[0;34m(\u001b[0m\u001b[0;34m)\u001b[0m\u001b[0;34m\u001b[0m\u001b[0;34m\u001b[0m\u001b[0m\n\u001b[0m\u001b[1;32m    321\u001b[0m                 \u001b[0mgotit\u001b[0m \u001b[0;34m=\u001b[0m \u001b[0;32mTrue\u001b[0m\u001b[0;34m\u001b[0m\u001b[0;34m\u001b[0m\u001b[0m\n\u001b[1;32m    322\u001b[0m             \u001b[0;32melse\u001b[0m\u001b[0;34m:\u001b[0m\u001b[0;34m\u001b[0m\u001b[0;34m\u001b[0m\u001b[0m\n",
            "\u001b[0;31mKeyboardInterrupt\u001b[0m: "
          ]
        }
      ]
    },
    {
      "cell_type": "code",
      "source": [
        "from sklearn.model_selection import GridSearchCV\n",
        "\n",
        "param_grid = {\n",
        "    'hidden_layer_sizes': [(50, 50,2), (100, 50,2)],\n",
        "    'activation': ['logistic', 'tanh', 'relu'],\n",
        "    'solver': ['sgd', 'adam'],\n",
        "    'alpha': [ 0.001, 0.01],\n",
        "    'learning_rate': ['constant', 'invscaling', 'adaptive'],\n",
        "    'learning_rate_init': [0.001, 0.01],\n",
        "    'max_iter': [300]\n",
        "}\n",
        "mlp = MLPClassifier()\n",
        "grid_search = GridSearchCV(mlp, param_grid, cv=5, n_jobs=-1)\n",
        "\n",
        "grid_search.fit(X_train, y_train)\n",
        "\n",
        "print(f\"Best hyperparameters: {grid_search.best_params_}\")\n",
        "print(f\"Best cross-validation score: {grid_search.best_score_}\")"
      ],
      "metadata": {
        "id": "e6UDty45bY3h"
      },
      "execution_count": null,
      "outputs": []
    },
    {
      "cell_type": "code",
      "source": [],
      "metadata": {
        "id": "OrI3_bKrcSk_"
      },
      "execution_count": null,
      "outputs": []
    },
    {
      "cell_type": "code",
      "source": [],
      "metadata": {
        "id": "Qw9m-nxicSjU"
      },
      "execution_count": null,
      "outputs": []
    },
    {
      "cell_type": "code",
      "source": [
        "model.predict_proba(X_train)"
      ],
      "metadata": {
        "id": "k4h-C9uoKMtz"
      },
      "execution_count": null,
      "outputs": []
    },
    {
      "cell_type": "code",
      "source": [],
      "metadata": {
        "id": "7vjUpNJi7J10"
      },
      "execution_count": null,
      "outputs": []
    },
    {
      "cell_type": "code",
      "source": [],
      "metadata": {
        "id": "_MDnRMcc7J0P"
      },
      "execution_count": null,
      "outputs": []
    },
    {
      "cell_type": "code",
      "source": [
        "import joblib\n",
        "joblib.dump(model, 'ANN_model.pkl')"
      ],
      "metadata": {
        "colab": {
          "base_uri": "https://localhost:8080/"
        },
        "id": "cJUl_Ad4J3sA",
        "outputId": "e36b4e2f-a1bf-47df-9624-1a666922769a"
      },
      "execution_count": null,
      "outputs": [
        {
          "output_type": "execute_result",
          "data": {
            "text/plain": [
              "['ANN_model.pkl']"
            ]
          },
          "metadata": {},
          "execution_count": 82
        }
      ]
    },
    {
      "cell_type": "markdown",
      "source": [
        "### Permutation Features Importance for ANN"
      ],
      "metadata": {
        "id": "nnVVcgbdRjjt"
      }
    },
    {
      "cell_type": "code",
      "source": [
        "importances[:-1]"
      ],
      "metadata": {
        "id": "p23PVar6SDlD"
      },
      "execution_count": null,
      "outputs": []
    },
    {
      "cell_type": "code",
      "source": [
        "!pip install shap==0.41.0"
      ],
      "metadata": {
        "colab": {
          "base_uri": "https://localhost:8080/"
        },
        "id": "WetK85I7GUtn",
        "outputId": "37b1d787-e8af-44b7-98a7-8a240e287c0a"
      },
      "execution_count": null,
      "outputs": [
        {
          "output_type": "stream",
          "name": "stdout",
          "text": [
            "Installing collected packages: slicer, shap\n",
            "Successfully installed shap-0.41.0 slicer-0.0.7\n"
          ]
        }
      ]
    },
    {
      "cell_type": "code",
      "source": [
        "importances = model.coefs_\n",
        "feature_importances = [abs(coef).sum(axis=0) for coef in importances[:-1]]\n",
        "feature_importances = [importance / importance.sum() for importance in feature_importances]\n",
        "feature_importances"
      ],
      "metadata": {
        "id": "1h9h2fHlLUvl"
      },
      "execution_count": null,
      "outputs": []
    },
    {
      "cell_type": "code",
      "source": [
        "import shap\n",
        "explainer = shap.KernelExplainer(model.predict_proba, X_train)\n",
        "shap_values = explainer.shap_values(X_test)"
      ],
      "metadata": {
        "colab": {
          "base_uri": "https://localhost:8080/",
          "height": 67,
          "referenced_widgets": [
            "611409fb1a6048ea94e221a460853179",
            "5b63270fc6f0406580a5f5e9de987395",
            "95963f120c6b429397b0922392fb231b",
            "8c23a29a1fff4c728a53ddfe8b520683",
            "1c2907ae220e436badea0aed3bebd4be",
            "70b4ec497abc4537a9ab55bff968e559",
            "ee8772e77c9a422e970937b66fe4d68e",
            "71bfcadacfaa46f8aa7ff5a9d886dbaa",
            "13ce042756144e428d353b3417974e0c",
            "2b76b2102af249cc847706b27ba6d83b",
            "e7b926e8dc684070beef377840f7db1a"
          ]
        },
        "id": "BjCNY7X-GMZ9",
        "outputId": "560fd939-fd25-4172-8b99-4ba0191e654f"
      },
      "execution_count": null,
      "outputs": [
        {
          "output_type": "stream",
          "name": "stderr",
          "text": [
            "WARNING:shap:Using 304 background data samples could cause slower run times. Consider using shap.sample(data, K) or shap.kmeans(data, K) to summarize the background as K samples.\n"
          ]
        },
        {
          "output_type": "display_data",
          "data": {
            "text/plain": [
              "  0%|          | 0/77 [00:00<?, ?it/s]"
            ],
            "application/vnd.jupyter.widget-view+json": {
              "version_major": 2,
              "version_minor": 0,
              "model_id": "611409fb1a6048ea94e221a460853179"
            }
          },
          "metadata": {}
        }
      ]
    },
    {
      "cell_type": "code",
      "source": [
        "y_pred = model.predict(X_test)"
      ],
      "metadata": {
        "id": "yCBNXMFILVeG"
      },
      "execution_count": null,
      "outputs": []
    },
    {
      "cell_type": "code",
      "source": [
        "!pip install shapash"
      ],
      "metadata": {
        "id": "VifI_S5IL6a0"
      },
      "execution_count": null,
      "outputs": []
    },
    {
      "cell_type": "code",
      "source": [
        "help(SmartExplainer)"
      ],
      "metadata": {
        "id": "r_HNAChUMqMm"
      },
      "execution_count": null,
      "outputs": []
    },
    {
      "cell_type": "code",
      "source": [
        "explainer = shap.KernelExplainer(model.predict_proba, X_train[:100])\n",
        "shap_values = explainer.shap_values(X_test[:10])"
      ],
      "metadata": {
        "colab": {
          "base_uri": "https://localhost:8080/",
          "height": 49,
          "referenced_widgets": [
            "025bc07618144f7b857932275ee3fe9b",
            "783b2ec3313c405fa2803eb6dc1a86a0",
            "d7579fcf28b544439e71ad67e8816369",
            "020821bfc1cb483ea893ec480755d878",
            "5265800aaa844cefa4c35ce7c20400bb",
            "f859b11c2925457393c1d5b0f0a3e0b7",
            "adb72acc7b9548fe897c8e6d00993f51",
            "23c5968e7d074d06ba333a0148c96fa0",
            "20d98834b93b4dba9f4a4c3d8c3af72f",
            "e14bd5fc391244559a04f30de250d7af",
            "3f4619c81bb545e1bd17ac91d55d3558"
          ]
        },
        "id": "aEBzFmKnKaiM",
        "outputId": "0dfddf67-b138-42fe-925e-e1bff78319a9"
      },
      "execution_count": null,
      "outputs": [
        {
          "output_type": "display_data",
          "data": {
            "text/plain": [
              "  0%|          | 0/10 [00:00<?, ?it/s]"
            ],
            "application/vnd.jupyter.widget-view+json": {
              "version_major": 2,
              "version_minor": 0,
              "model_id": "025bc07618144f7b857932275ee3fe9b"
            }
          },
          "metadata": {}
        }
      ]
    },
    {
      "cell_type": "code",
      "source": [
        "help(shap.dependence_plot)"
      ],
      "metadata": {
        "id": "BNqGb9CONY_v"
      },
      "execution_count": null,
      "outputs": []
    },
    {
      "cell_type": "code",
      "source": [
        "explainer = shap.TreeExplainer(model, X)\n",
        "shap_values = explainer(X)"
      ],
      "metadata": {
        "id": "mvPZsIbWYjOO"
      },
      "execution_count": null,
      "outputs": []
    },
    {
      "cell_type": "code",
      "source": [
        "fig = shap.summary_plot(shap_values, X_test[:10])\n",
        "shap.dependence_plot(2, shap_values[0], X_test[:10])"
      ],
      "metadata": {
        "id": "U9nOUVwrNTDn"
      },
      "execution_count": null,
      "outputs": []
    },
    {
      "cell_type": "code",
      "source": [
        "fig"
      ],
      "metadata": {
        "id": "rtOVfWkCW74U"
      },
      "execution_count": null,
      "outputs": []
    },
    {
      "cell_type": "code",
      "source": [
        "!pip install lime"
      ],
      "metadata": {
        "colab": {
          "base_uri": "https://localhost:8080/"
        },
        "id": "7RYEklxMOz03",
        "outputId": "411434e7-2aec-45dd-eff4-acc35435cbab"
      },
      "execution_count": null,
      "outputs": [
        {
          "output_type": "stream",
          "name": "stdout",
          "text": [
            "Installing collected packages: lime\n",
            "Successfully installed lime-0.2.0.1\n"
          ]
        }
      ]
    },
    {
      "cell_type": "markdown",
      "source": [
        "### **LIME Features Importance for ANN**"
      ],
      "metadata": {
        "id": "EOnh6d0hRX3y"
      }
    },
    {
      "cell_type": "code",
      "source": [
        "from lime.lime_tabular import LimeTabularExplainer\n",
        "\n",
        "explainer = LimeTabularExplainer(X_train, feature_names=cols, class_names=['0', '1'], discretize_continuous=True)\n",
        "exp = explainer.explain_instance(X_test[0], model.predict_proba, num_features=10)\n"
      ],
      "metadata": {
        "id": "_pzsk3abOzBa"
      },
      "execution_count": null,
      "outputs": []
    },
    {
      "cell_type": "code",
      "source": [
        "cols"
      ],
      "metadata": {
        "colab": {
          "base_uri": "https://localhost:8080/"
        },
        "id": "ODFydSd8QkTe",
        "outputId": "494d662a-1407-45af-ec0e-98897f9ce832"
      },
      "execution_count": null,
      "outputs": [
        {
          "output_type": "execute_result",
          "data": {
            "text/plain": [
              "['age', 'race', 'dpros', 'dcaps', 'psa', 'vol', 'gleason']"
            ]
          },
          "metadata": {},
          "execution_count": 75
        }
      ]
    },
    {
      "cell_type": "code",
      "source": [
        "cols\n",
        "exp.as_map()[1]"
      ],
      "metadata": {
        "colab": {
          "base_uri": "https://localhost:8080/"
        },
        "id": "wwxNKjKOP3ge",
        "outputId": "d184e1f9-8af7-44de-9246-aab8296d7282"
      },
      "execution_count": null,
      "outputs": [
        {
          "output_type": "execute_result",
          "data": {
            "text/plain": [
              "[(3, -0.3174764820711137),\n",
              " (6, 0.19946949882284584),\n",
              " (4, -0.11722645159462601),\n",
              " (2, 0.07500532832640157),\n",
              " (1, -0.05642733699385335),\n",
              " (0, -0.04721474199303091),\n",
              " (5, 0.011125646139266279)]"
            ]
          },
          "metadata": {},
          "execution_count": 82
        }
      ]
    },
    {
      "cell_type": "code",
      "source": [
        "feature_importances = [(k, v) for k, v in exp.as_list()]\n",
        "feature_importances"
      ],
      "metadata": {
        "colab": {
          "base_uri": "https://localhost:8080/"
        },
        "id": "fAoEcSnmPIsH",
        "outputId": "478ae2d2-e6d8-4bcf-b8e1-92a0395b0dbc"
      },
      "execution_count": null,
      "outputs": [
        {
          "output_type": "execute_result",
          "data": {
            "text/plain": [
              "[('dcaps <= -0.35', -0.3174764820711137),\n",
              " ('-0.38 < gleason <= 0.55', 0.19946949882284584),\n",
              " ('psa <= -0.52', -0.11722645159462601),\n",
              " ('-0.28 < dpros <= 0.70', 0.07500532832640157),\n",
              " ('race <= -0.29', -0.05642733699385335),\n",
              " ('-0.60 < age <= 0.17', -0.04721474199303091),\n",
              " ('-0.09 < vol <= 0.56', 0.011125646139266279)]"
            ]
          },
          "metadata": {},
          "execution_count": 67
        }
      ]
    },
    {
      "cell_type": "code",
      "source": [
        "import matplotlib.pyplot as plt\n",
        "\n",
        "fig, ax = plt.subplots()\n",
        "feature_importances = [(k, v) for k, v in exp.as_list()]\n",
        "ax.bar([x[0] for x in feature_importances], [x[1] for x in feature_importances])\n",
        "ax.set_xlabel('Features')\n",
        "ax.set_ylabel('Importance')\n",
        "ax.set_title('Feature Importance for LIME')\n",
        "plt.show()"
      ],
      "metadata": {
        "colab": {
          "base_uri": "https://localhost:8080/",
          "height": 472
        },
        "id": "LrmOtt5lPwmw",
        "outputId": "ad35940e-73a8-4dfb-cc24-52161e45e7bf"
      },
      "execution_count": null,
      "outputs": [
        {
          "output_type": "display_data",
          "data": {
            "text/plain": [
              "<Figure size 640x480 with 1 Axes>"
            ],
            "image/png": "[encoded data removed]"
          },
          "metadata": {}
        }
      ]
    },
    {
      "cell_type": "code",
      "source": [
        "len(shap_values[0])\n",
        "# shap_values"
      ],
      "metadata": {
        "colab": {
          "base_uri": "https://localhost:8080/"
        },
        "id": "VgaMtHMhG57-",
        "outputId": "047412aa-3aa3-498d-ad19-3b9d003c3000"
      },
      "execution_count": null,
      "outputs": [
        {
          "output_type": "execute_result",
          "data": {
            "text/plain": [
              "7"
            ]
          },
          "metadata": {},
          "execution_count": 31
        }
      ]
    },
    {
      "cell_type": "code",
      "source": [
        "!pip install dalex"
      ],
      "metadata": {
        "id": "5pzmnuYlUlR6"
      },
      "execution_count": null,
      "outputs": []
    },
    {
      "cell_type": "code",
      "source": [
        "import dalex as dx\n",
        "instance=X.iloc[1,:]\n",
        "exp=dx.Explainer(model,X_train,y_train,verbose = False)\n",
        "break_down=exp.predict_parts(instance, type='break_down', label = \"\")\n",
        "\n",
        "fig=break_down.plot(show=False,title=\" \",vcolors = ['#272D55','#EE883D','#84AFEF'])\n",
        "fig=fig.update_layout(title_text=' ')"
      ],
      "metadata": {
        "colab": {
          "base_uri": "https://localhost:8080/"
        },
        "id": "XnHkMWDU26lx",
        "outputId": "e3784ad3-2cc1-4029-d8ee-5ab3c1d661c0"
      },
      "execution_count": null,
      "outputs": [
        {
          "output_type": "stream",
          "name": "stderr",
          "text": [
            "/usr/local/lib/python3.9/dist-packages/sklearn/base.py:439: UserWarning:\n",
            "\n",
            "X does not have valid feature names, but MLPClassifier was fitted with feature names\n",
            "\n"
          ]
        }
      ]
    },
    {
      "cell_type": "code",
      "source": [
        "fig"
      ],
      "metadata": {
        "colab": {
          "base_uri": "https://localhost:8080/",
          "height": 350
        },
        "id": "ila2AdG8UcRz",
        "outputId": "276b1507-a48f-4886-cd68-1bbb1b24518a"
      },
      "execution_count": null,
      "outputs": [
        {
          "output_type": "display_data",
          "data": {
            "text/html": [
              "<html>\n",
              "<head><meta charset=\"utf-8\" /></head>\n",
              "<body>\n",
              "    <div>            <script src=\"https://cdnjs.cloudflare.com/ajax/libs/mathjax/2.7.5/MathJax.js?config=TeX-AMS-MML_SVG\"></script><script type=\"text/javascript\">if (window.MathJax && window.MathJax.Hub && window.MathJax.Hub.Config) {window.MathJax.Hub.Config({SVG: {font: \"STIX-Web\"}});}</script>                <script type=\"text/javascript\">window.PlotlyConfig = {MathJaxConfig: 'local'};</script>\n",
              "        <script src=\"https://cdn.plot.ly/plotly-2.18.2.min.js\"></script>                <div id=\"e85cc306-1a39-465c-9692-76e91ca0d5a2\" class=\"plotly-graph-div\" style=\"height:333.0px; width:100%;\"></div>            <script type=\"text/javascript\">                                    window.PLOTLYENV=window.PLOTLYENV || {};                                    if (document.getElementById(\"e85cc306-1a39-465c-9692-76e91ca0d5a2\")) {                    Plotly.newPlot(                        \"e85cc306-1a39-465c-9692-76e91ca0d5a2\",                        [{\"base\":0.4104732898216039,\"connector\":{\"line\":{\"color\":\"#371ea3\",\"dash\":\"solid\",\"width\":1},\"mode\":\"spanning\"},\"decreasing\":{\"marker\":{\"color\":\"#84AFEF\"}},\"hoverinfo\":\"text+delta\",\"hoverlabel\":{\"bgcolor\":\"rgba(0,0,0,0.8)\"},\"hovertext\":[\"Average response: 0.41<br>Prediction: 0.477\",\"dpros = 3.0<br>increases average response by\",\"dcaps = 2.0<br>increases average response by\",\"vol = 0.0<br>increases average response by\",\"gleason = 7.0<br>increases average response by\",\"race = 1.0<br>increases average response by\",\"age = 72.0<br>decreases average response by\",\"psa = 6.7<br>decreases average response by\",\"Average response: 0.41<br>Prediction: 0.477\"],\"increasing\":{\"marker\":{\"color\":\"#EE883D\"}},\"measure\":[\"relative\",\"relative\",\"relative\",\"relative\",\"relative\",\"relative\",\"relative\",\"relative\",\"total\"],\"orientation\":\"h\",\"showlegend\":false,\"text\":[\"0.41\",\"+0.056\",\"+0.053\",\"+0.059\",\"+0.06\",\"+0.001\",\"-0.077\",\"-0.084\",\"0.477\"],\"textposition\":\"outside\",\"totals\":{\"marker\":{\"color\":\"#272D55\"}},\"x\":[0.0,0.056,0.053,0.059,0.06,0.001,-0.077,-0.084,0.067],\"y\":[\"intercept\",\"dpros = 3.0\",\"dcaps = 2.0\",\"vol = 0.0\",\"gleason = 7.0\",\"race = 1.0\",\"age = 72.0\",\"psa = 6.7\",\"prediction\"],\"type\":\"waterfall\",\"xaxis\":\"x\",\"yaxis\":\"y\"}],                        {\"template\":{\"data\":{\"scatter\":[{\"type\":\"scatter\"}]}},\"xaxis\":{\"anchor\":\"y\",\"domain\":[0.0,1.0],\"type\":\"linear\",\"gridwidth\":2,\"zeroline\":false,\"automargin\":true,\"ticks\":\"outside\",\"tickcolor\":\"white\",\"ticklen\":3,\"fixedrange\":true,\"range\":[0.37579999999999997,0.6722]},\"yaxis\":{\"anchor\":\"x\",\"domain\":[0.0,1.0],\"type\":\"category\",\"autorange\":\"reversed\",\"gridwidth\":2,\"automargin\":true,\"ticks\":\"outside\",\"tickcolor\":\"white\",\"ticklen\":10,\"fixedrange\":true},\"annotations\":[{\"font\":{\"size\":16},\"showarrow\":false,\"text\":\"MLPClassifier\",\"x\":0.5,\"xanchor\":\"center\",\"xref\":\"paper\",\"y\":1.0,\"yanchor\":\"bottom\",\"yref\":\"paper\"},{\"font\":{\"size\":16},\"showarrow\":false,\"text\":\"contribution\",\"x\":0.5,\"xanchor\":\"center\",\"xref\":\"paper\",\"y\":0,\"yanchor\":\"top\",\"yref\":\"paper\",\"yshift\":-30}],\"shapes\":[{\"line\":{\"color\":\"#371ea3\",\"dash\":\"dot\",\"width\":1.5},\"type\":\"line\",\"x0\":0.4104732898216039,\"x1\":0.4104732898216039,\"xref\":\"x\",\"y0\":-1,\"y1\":9,\"yref\":\"y\"}],\"title\":{\"text\":\" \",\"x\":0.15},\"font\":{\"color\":\"#371ea3\"},\"margin\":{\"t\":78,\"b\":71,\"r\":30},\"height\":333.0},                        {\"responsive\": true}                    ).then(function(){\n",
              "                            \n",
              "var gd = document.getElementById('e85cc306-1a39-465c-9692-76e91ca0d5a2');\n",
              "var x = new MutationObserver(function (mutations, observer) {{\n",
              "        var display = window.getComputedStyle(gd).display;\n",
              "        if (!display || display === 'none') {{\n",
              "            console.log([gd, 'removed!']);\n",
              "            Plotly.purge(gd);\n",
              "            observer.disconnect();\n",
              "        }}\n",
              "}});\n",
              "\n",
              "// Listen for the removal of the full notebook cells\n",
              "var notebookContainer = gd.closest('#notebook-container');\n",
              "if (notebookContainer) {{\n",
              "    x.observe(notebookContainer, {childList: true});\n",
              "}}\n",
              "\n",
              "// Listen for the clearing of the current output cell\n",
              "var outputEl = gd.closest('.output');\n",
              "if (outputEl) {{\n",
              "    x.observe(outputEl, {childList: true});\n",
              "}}\n",
              "\n",
              "                        })                };                            </script>        </div>\n",
              "</body>\n",
              "</html>"
            ]
          },
          "metadata": {}
        }
      ]
    },
    {
      "cell_type": "markdown",
      "source": [
        "# ***ANN With PyTorch***"
      ],
      "metadata": {
        "id": "nPaD30od6ta2"
      }
    },
    {
      "cell_type": "code",
      "source": [
        "#### Libraries From Pytorch\n",
        "import torch\n",
        "import torch.nn as nn\n",
        "import torch.nn.functional as F"
      ],
      "metadata": {
        "id": "rYjJMZ1oVEJl"
      },
      "execution_count": null,
      "outputs": []
    },
    {
      "cell_type": "code",
      "source": [
        "y_train.shape"
      ],
      "metadata": {
        "colab": {
          "base_uri": "https://localhost:8080/"
        },
        "id": "lo7VqoP88ffb",
        "outputId": "a8d8e8a2-0296-42fb-d48c-076fcefff5ff"
      },
      "execution_count": null,
      "outputs": [
        {
          "output_type": "execute_result",
          "data": {
            "text/plain": [
              "(304,)"
            ]
          },
          "metadata": {},
          "execution_count": 9
        }
      ]
    },
    {
      "cell_type": "code",
      "source": [
        "##### Creating Tensors\n",
        "import numpy as np\n",
        "X_train_Pytorch=torch.FloatTensor(X_train)\n",
        "X_test_Pytorch=torch.FloatTensor(X_test)\n",
        "y_train_Pytorch=torch.LongTensor(np.array(y_train))\n",
        "y_test_Pytorch=torch.LongTensor(y_test)"
      ],
      "metadata": {
        "id": "W0OYbnJJ6srj"
      },
      "execution_count": null,
      "outputs": []
    },
    {
      "cell_type": "code",
      "source": [
        "X_train_Pytorch.shape"
      ],
      "metadata": {
        "colab": {
          "base_uri": "https://localhost:8080/"
        },
        "id": "B6nfC6rn6sns",
        "outputId": "55fd2546-3fe8-41bf-c68f-82afff709908"
      },
      "execution_count": null,
      "outputs": [
        {
          "output_type": "execute_result",
          "data": {
            "text/plain": [
              "torch.Size([304, 7])"
            ]
          },
          "metadata": {},
          "execution_count": 11
        }
      ]
    },
    {
      "cell_type": "code",
      "source": [
        "#### Creating Modelwith Pytorch\n",
        "\n",
        "class ANN_Model(nn.Module):\n",
        "    def __init__(self,input_features=7,hidden1=10,hidden2=10,out_features=2):\n",
        "        super().__init__()\n",
        "        self.f_connected1=nn.Linear(input_features,hidden1)\n",
        "        self.f_connected2=nn.Linear(hidden1,hidden2)\n",
        "        self.out=nn.Linear(hidden2,out_features)\n",
        "    def forward(self,x):\n",
        "        x=F.relu(self.f_connected1(x))\n",
        "        x=F.softmax(self.f_connected2(x))\n",
        "        x=self.out(x)\n",
        "        return x"
      ],
      "metadata": {
        "id": "qPSjxXBu6sl9"
      },
      "execution_count": null,
      "outputs": []
    },
    {
      "cell_type": "code",
      "source": [
        "####instantiate my ANN_model\n",
        "torch.manual_seed(20)\n",
        "model=ANN_Model()"
      ],
      "metadata": {
        "id": "8zxK5Vau6rl1"
      },
      "execution_count": null,
      "outputs": []
    },
    {
      "cell_type": "code",
      "source": [
        "model.parameters"
      ],
      "metadata": {
        "colab": {
          "base_uri": "https://localhost:8080/"
        },
        "id": "2DVlyuof6rkF",
        "outputId": "7b2e8b43-428a-44e3-dec5-dff56ad73dcf"
      },
      "execution_count": null,
      "outputs": [
        {
          "output_type": "execute_result",
          "data": {
            "text/plain": [
              "<bound method Module.parameters of ANN_Model(\n",
              "  (f_connected1): Linear(in_features=7, out_features=10, bias=True)\n",
              "  (f_connected2): Linear(in_features=10, out_features=10, bias=True)\n",
              "  (out): Linear(in_features=10, out_features=2, bias=True)\n",
              ")>"
            ]
          },
          "metadata": {},
          "execution_count": 107
        }
      ]
    },
    {
      "cell_type": "code",
      "source": [
        "###Backward Propogation-- Define the loss_function,define the optimizer\n",
        "loss_function=nn.CrossEntropyLoss()\n",
        "optimizer=torch.optim.Adam(model.parameters(),lr=0.001)"
      ],
      "metadata": {
        "id": "WFgA1rY96rgU"
      },
      "execution_count": null,
      "outputs": []
    },
    {
      "cell_type": "code",
      "source": [
        "epochs=1000\n",
        "final_losses=[]\n",
        "for i in range(epochs):\n",
        "    i=i+1\n",
        "    y_pred=model.forward(X_train_Pytorch)\n",
        "    loss=loss_function(y_pred,y_train_Pytorch)\n",
        "    final_losses.append(loss.item())\n",
        "    if i%10==1:\n",
        "        print(\"Epoch number: {} and the loss : {}\".format(i,loss.item()))\n",
        "    optimizer.zero_grad()\n",
        "    loss.backward()\n",
        "    optimizer.step()"
      ],
      "metadata": {
        "colab": {
          "base_uri": "https://localhost:8080/"
        },
        "id": "3HFcFv556rer",
        "outputId": "81f81865-7ea6-432a-90bf-9045ef9aba51"
      },
      "execution_count": null,
      "outputs": [
        {
          "output_type": "stream",
          "name": "stderr",
          "text": [
            "<ipython-input-105-c3c688062672>:11: UserWarning:\n",
            "\n",
            "Implicit dimension choice for softmax has been deprecated. Change the call to include dim=X as an argument.\n",
            "\n"
          ]
        },
        {
          "output_type": "stream",
          "name": "stdout",
          "text": [
            "Epoch number: 1 and the loss : 0.7531642317771912\n",
            "Epoch number: 11 and the loss : 0.7436230778694153\n",
            "Epoch number: 21 and the loss : 0.7345855236053467\n",
            "Epoch number: 31 and the loss : 0.7260578870773315\n",
            "Epoch number: 41 and the loss : 0.7180044054985046\n",
            "Epoch number: 51 and the loss : 0.7103664875030518\n",
            "Epoch number: 61 and the loss : 0.7030409574508667\n",
            "Epoch number: 71 and the loss : 0.6959060430526733\n",
            "Epoch number: 81 and the loss : 0.688890814781189\n",
            "Epoch number: 91 and the loss : 0.6819304823875427\n",
            "Epoch number: 101 and the loss : 0.6749822497367859\n",
            "Epoch number: 111 and the loss : 0.6680119037628174\n",
            "Epoch number: 121 and the loss : 0.661020815372467\n",
            "Epoch number: 131 and the loss : 0.6540287137031555\n",
            "Epoch number: 141 and the loss : 0.6470903158187866\n",
            "Epoch number: 151 and the loss : 0.6401748061180115\n",
            "Epoch number: 161 and the loss : 0.6333019137382507\n",
            "Epoch number: 171 and the loss : 0.6265056133270264\n",
            "Epoch number: 181 and the loss : 0.6197927594184875\n",
            "Epoch number: 191 and the loss : 0.6131907105445862\n",
            "Epoch number: 201 and the loss : 0.6067763566970825\n",
            "Epoch number: 211 and the loss : 0.6004926562309265\n",
            "Epoch number: 221 and the loss : 0.5944017171859741\n",
            "Epoch number: 231 and the loss : 0.5885521173477173\n",
            "Epoch number: 241 and the loss : 0.5829829573631287\n",
            "Epoch number: 251 and the loss : 0.5776877403259277\n",
            "Epoch number: 261 and the loss : 0.5726264715194702\n",
            "Epoch number: 271 and the loss : 0.5677977800369263\n",
            "Epoch number: 281 and the loss : 0.5632187128067017\n",
            "Epoch number: 291 and the loss : 0.5588629841804504\n",
            "Epoch number: 301 and the loss : 0.554814338684082\n",
            "Epoch number: 311 and the loss : 0.5510300993919373\n",
            "Epoch number: 321 and the loss : 0.5474315285682678\n",
            "Epoch number: 331 and the loss : 0.5439861416816711\n",
            "Epoch number: 341 and the loss : 0.5406632423400879\n",
            "Epoch number: 351 and the loss : 0.5374687314033508\n",
            "Epoch number: 361 and the loss : 0.5344625115394592\n",
            "Epoch number: 371 and the loss : 0.531584620475769\n",
            "Epoch number: 381 and the loss : 0.5288204550743103\n",
            "Epoch number: 391 and the loss : 0.52619868516922\n",
            "Epoch number: 401 and the loss : 0.5236601829528809\n",
            "Epoch number: 411 and the loss : 0.521234393119812\n",
            "Epoch number: 421 and the loss : 0.5189346671104431\n",
            "Epoch number: 431 and the loss : 0.5166763663291931\n",
            "Epoch number: 441 and the loss : 0.5144219398498535\n",
            "Epoch number: 451 and the loss : 0.5121451616287231\n",
            "Epoch number: 461 and the loss : 0.5097996592521667\n",
            "Epoch number: 471 and the loss : 0.5073649287223816\n",
            "Epoch number: 481 and the loss : 0.5049254894256592\n",
            "Epoch number: 491 and the loss : 0.5025995373725891\n",
            "Epoch number: 501 and the loss : 0.5004141926765442\n",
            "Epoch number: 511 and the loss : 0.49843984842300415\n",
            "Epoch number: 521 and the loss : 0.4965670704841614\n",
            "Epoch number: 531 and the loss : 0.494774729013443\n",
            "Epoch number: 541 and the loss : 0.493091344833374\n",
            "Epoch number: 551 and the loss : 0.4914732873439789\n",
            "Epoch number: 561 and the loss : 0.489896684885025\n",
            "Epoch number: 571 and the loss : 0.48836663365364075\n",
            "Epoch number: 581 and the loss : 0.48690328001976013\n",
            "Epoch number: 591 and the loss : 0.4854673147201538\n",
            "Epoch number: 601 and the loss : 0.4841531813144684\n",
            "Epoch number: 611 and the loss : 0.48293209075927734\n",
            "Epoch number: 621 and the loss : 0.4816712439060211\n",
            "Epoch number: 631 and the loss : 0.4804205000400543\n",
            "Epoch number: 641 and the loss : 0.4791638255119324\n",
            "Epoch number: 651 and the loss : 0.47796955704689026\n",
            "Epoch number: 661 and the loss : 0.47683826088905334\n",
            "Epoch number: 671 and the loss : 0.47575193643569946\n",
            "Epoch number: 681 and the loss : 0.47470834851264954\n",
            "Epoch number: 691 and the loss : 0.4736999571323395\n",
            "Epoch number: 701 and the loss : 0.47267407178878784\n",
            "Epoch number: 711 and the loss : 0.47138360142707825\n",
            "Epoch number: 721 and the loss : 0.4703596532344818\n",
            "Epoch number: 731 and the loss : 0.46935808658599854\n",
            "Epoch number: 741 and the loss : 0.46832385659217834\n",
            "Epoch number: 751 and the loss : 0.467376708984375\n",
            "Epoch number: 761 and the loss : 0.46656346321105957\n",
            "Epoch number: 771 and the loss : 0.4658105671405792\n",
            "Epoch number: 781 and the loss : 0.46502429246902466\n",
            "Epoch number: 791 and the loss : 0.46412181854248047\n",
            "Epoch number: 801 and the loss : 0.4632202982902527\n",
            "Epoch number: 811 and the loss : 0.4623100757598877\n",
            "Epoch number: 821 and the loss : 0.4614168405532837\n",
            "Epoch number: 831 and the loss : 0.4606456160545349\n",
            "Epoch number: 841 and the loss : 0.45979294180870056\n",
            "Epoch number: 851 and the loss : 0.4589121341705322\n",
            "Epoch number: 861 and the loss : 0.45807722210884094\n",
            "Epoch number: 871 and the loss : 0.45736393332481384\n",
            "Epoch number: 881 and the loss : 0.45670202374458313\n",
            "Epoch number: 891 and the loss : 0.45604440569877625\n",
            "Epoch number: 901 and the loss : 0.4554176330566406\n",
            "Epoch number: 911 and the loss : 0.4547945261001587\n",
            "Epoch number: 921 and the loss : 0.4541594982147217\n",
            "Epoch number: 931 and the loss : 0.4535442292690277\n",
            "Epoch number: 941 and the loss : 0.4529224634170532\n",
            "Epoch number: 951 and the loss : 0.45232465863227844\n",
            "Epoch number: 961 and the loss : 0.4517044723033905\n",
            "Epoch number: 971 and the loss : 0.45103034377098083\n",
            "Epoch number: 981 and the loss : 0.4502400755882263\n",
            "Epoch number: 991 and the loss : 0.4492938816547394\n"
          ]
        }
      ]
    },
    {
      "cell_type": "code",
      "source": [
        "import plotly.graph_objs as go\n",
        "epoches = list(range(epochs))\n",
        "trace0 = go.Scatter(\n",
        "        x=epoches,\n",
        "        y=final_losses,\n",
        "    )\n",
        "fig = go.Figure(data=[trace0])\n",
        "fig.show()"
      ],
      "metadata": {
        "colab": {
          "base_uri": "https://localhost:8080/",
          "height": 542
        },
        "id": "T9_pwPMb9hpX",
        "outputId": "f6c54f14-c9e7-4944-ef51-8e232ed58c31"
      },
      "execution_count": null,
      "outputs": [
        {
          "output_type": "display_data",
          "data": {
            "text/html": [
              "<html>\n",
              "<head><meta charset=\"utf-8\" /></head>\n",
              "<body>\n",
              "    <div>            <script src=\"https://cdnjs.cloudflare.com/ajax/libs/mathjax/2.7.5/MathJax.js?config=TeX-AMS-MML_SVG\"></script><script type=\"text/javascript\">if (window.MathJax && window.MathJax.Hub && window.MathJax.Hub.Config) {window.MathJax.Hub.Config({SVG: {font: \"STIX-Web\"}});}</script>                <script type=\"text/javascript\">window.PlotlyConfig = {MathJaxConfig: 'local'};</script>\n",
              "        <script src=\"https://cdn.plot.ly/plotly-2.18.2.min.js\"></script>                <div id=\"ddfb9d5a-63a2-42c9-92ca-37c11eadf238\" class=\"plotly-graph-div\" style=\"height:525px; width:100%;\"></div>            <script type=\"text/javascript\">                                    window.PLOTLYENV=window.PLOTLYENV || {};                                    if (document.getElementById(\"ddfb9d5a-63a2-42c9-92ca-37c11eadf238\")) {                    Plotly.newPlot(                        \"ddfb9d5a-63a2-42c9-92ca-37c11eadf238\",                        [{\"x\":[0,1,2,3,4,5,6,7,8,9,10,11,12,13,14,15,16,17,18,19,20,21,22,23,24,25,26,27,28,29,30,31,32,33,34,35,36,37,38,39,40,41,42,43,44,45,46,47,48,49,50,51,52,53,54,55,56,57,58,59,60,61,62,63,64,65,66,67,68,69,70,71,72,73,74,75,76,77,78,79,80,81,82,83,84,85,86,87,88,89,90,91,92,93,94,95,96,97,98,99,100,101,102,103,104,105,106,107,108,109,110,111,112,113,114,115,116,117,118,119,120,121,122,123,124,125,126,127,128,129,130,131,132,133,134,135,136,137,138,139,140,141,142,143,144,145,146,147,148,149,150,151,152,153,154,155,156,157,158,159,160,161,162,163,164,165,166,167,168,169,170,171,172,173,174,175,176,177,178,179,180,181,182,183,184,185,186,187,188,189,190,191,192,193,194,195,196,197,198,199,200,201,202,203,204,205,206,207,208,209,210,211,212,213,214,215,216,217,218,219,220,221,222,223,224,225,226,227,228,229,230,231,232,233,234,235,236,237,238,239,240,241,242,243,244,245,246,247,248,249,250,251,252,253,254,255,256,257,258,259,260,261,262,263,264,265,266,267,268,269,270,271,272,273,274,275,276,277,278,279,280,281,282,283,284,285,286,287,288,289,290,291,292,293,294,295,296,297,298,299,300,301,302,303,304,305,306,307,308,309,310,311,312,313,314,315,316,317,318,319,320,321,322,323,324,325,326,327,328,329,330,331,332,333,334,335,336,337,338,339,340,341,342,343,344,345,346,347,348,349,350,351,352,353,354,355,356,357,358,359,360,361,362,363,364,365,366,367,368,369,370,371,372,373,374,375,376,377,378,379,380,381,382,383,384,385,386,387,388,389,390,391,392,393,394,395,396,397,398,399,400,401,402,403,404,405,406,407,408,409,410,411,412,413,414,415,416,417,418,419,420,421,422,423,424,425,426,427,428,429,430,431,432,433,434,435,436,437,438,439,440,441,442,443,444,445,446,447,448,449,450,451,452,453,454,455,456,457,458,459,460,461,462,463,464,465,466,467,468,469,470,471,472,473,474,475,476,477,478,479,480,481,482,483,484,485,486,487,488,489,490,491,492,493,494,495,496,497,498,499,500,501,502,503,504,505,506,507,508,509,510,511,512,513,514,515,516,517,518,519,520,521,522,523,524,525,526,527,528,529,530,531,532,533,534,535,536,537,538,539,540,541,542,543,544,545,546,547,548,549,550,551,552,553,554,555,556,557,558,559,560,561,562,563,564,565,566,567,568,569,570,571,572,573,574,575,576,577,578,579,580,581,582,583,584,585,586,587,588,589,590,591,592,593,594,595,596,597,598,599,600,601,602,603,604,605,606,607,608,609,610,611,612,613,614,615,616,617,618,619,620,621,622,623,624,625,626,627,628,629,630,631,632,633,634,635,636,637,638,639,640,641,642,643,644,645,646,647,648,649,650,651,652,653,654,655,656,657,658,659,660,661,662,663,664,665,666,667,668,669,670,671,672,673,674,675,676,677,678,679,680,681,682,683,684,685,686,687,688,689,690,691,692,693,694,695,696,697,698,699,700,701,702,703,704,705,706,707,708,709,710,711,712,713,714,715,716,717,718,719,720,721,722,723,724,725,726,727,728,729,730,731,732,733,734,735,736,737,738,739,740,741,742,743,744,745,746,747,748,749,750,751,752,753,754,755,756,757,758,759,760,761,762,763,764,765,766,767,768,769,770,771,772,773,774,775,776,777,778,779,780,781,782,783,784,785,786,787,788,789,790,791,792,793,794,795,796,797,798,799,800,801,802,803,804,805,806,807,808,809,810,811,812,813,814,815,816,817,818,819,820,821,822,823,824,825,826,827,828,829,830,831,832,833,834,835,836,837,838,839,840,841,842,843,844,845,846,847,848,849,850,851,852,853,854,855,856,857,858,859,860,861,862,863,864,865,866,867,868,869,870,871,872,873,874,875,876,877,878,879,880,881,882,883,884,885,886,887,888,889,890,891,892,893,894,895,896,897,898,899,900,901,902,903,904,905,906,907,908,909,910,911,912,913,914,915,916,917,918,919,920,921,922,923,924,925,926,927,928,929,930,931,932,933,934,935,936,937,938,939,940,941,942,943,944,945,946,947,948,949,950,951,952,953,954,955,956,957,958,959,960,961,962,963,964,965,966,967,968,969,970,971,972,973,974,975,976,977,978,979,980,981,982,983,984,985,986,987,988,989,990,991,992,993,994,995,996,997,998,999],\"y\":[0.7531642317771912,0.7521888613700867,0.7512180209159851,0.7502520084381104,0.7492906451225281,0.7483338117599487,0.7473817467689514,0.7464344501495361,0.7454922795295715,0.7445551753044128,0.7436230778694153,0.7426960468292236,0.741774320602417,0.7408575415611267,0.7399458289146423,0.7390392422676086,0.7381377220153809,0.7372418642044067,0.7363512516021729,0.7354658246040344,0.7345855236053467,0.7337101697921753,0.7328395843505859,0.731974184513092,0.7311137914657593,0.730258584022522,0.7294084429740906,0.7285633683204651,0.7277233004570007,0.7268885374069214,0.7260578870773315,0.7252316474914551,0.7244101762771606,0.7235933542251587,0.722781240940094,0.7219738960266113,0.721170961856842,0.7203726172447205,0.7195789217948914,0.7187895774841309,0.7180044054985046,0.7172231674194336,0.7164462804794312,0.7156732082366943,0.7149041295051575,0.7141388058662415,0.7133774757385254,0.7126196026802063,0.7118653655052185,0.7111144065856934,0.7103664875030518,0.7096215486526489,0.7088796496391296,0.7081409096717834,0.7074053883552551,0.7066726684570312,0.7059422135353088,0.7052141427993774,0.7044877409934998,0.7037633061408997,0.7030409574508667,0.7023206949234009,0.7016021609306335,0.7008852362632751,0.7001698613166809,0.699455976486206,0.6987433433532715,0.6980318427085876,0.6973217129707336,0.6966131329536438,0.6959060430526733,0.6952007412910461,0.6944965720176697,0.6937934756278992,0.6930909156799316,0.6923887133598328,0.6916875243186951,0.6909871697425842,0.6902878284454346,0.6895890831947327,0.688890814781189,0.6881933808326721,0.6874964237213135,0.6868000030517578,0.6861034035682678,0.6854078769683838,0.684712827205658,0.6840178370475769,0.6833223700523376,0.6826265454292297,0.6819304823875427,0.681235134601593,0.680539608001709,0.679844081401825,0.6791489720344543,0.678454577922821,0.6777604818344116,0.6770663857460022,0.6763721108436584,0.6756777167320251,0.6749822497367859,0.6742863655090332,0.6735904812812805,0.6728944182395935,0.6721983551979065,0.6715018153190613,0.670804500579834,0.6701064109802246,0.669407844543457,0.668709933757782,0.6680119037628174,0.6673140525817871,0.6666158437728882,0.6659179925918579,0.665219783782959,0.6645211577415466,0.6638220548629761,0.6631233096122742,0.6624231934547424,0.6617221236228943,0.661020815372467,0.660319983959198,0.659619152545929,0.658918559551239,0.6582186222076416,0.6575191020965576,0.6568202376365662,0.6561211943626404,0.6554221510887146,0.6547242403030396,0.6540287137031555,0.6533329486846924,0.6526373028755188,0.6519416570663452,0.6512465476989746,0.6505522131919861,0.6498583555221558,0.6491653919219971,0.64847332239151,0.6477817296981812,0.6470903158187866,0.6463977098464966,0.645704448223114,0.645011305809021,0.644318163394928,0.6436266303062439,0.6429352760314941,0.6422440409660339,0.6415533423423767,0.6408631801605225,0.6401748061180115,0.6394872069358826,0.6387991905212402,0.6381098031997681,0.6374201774597168,0.6367308497428894,0.6360437273979187,0.6353568434715271,0.6346695423126221,0.6339855194091797,0.6333019137382507,0.6326185464859009,0.6319352984428406,0.6312527656555176,0.6305718421936035,0.6298918724060059,0.6292135119438171,0.6285355091094971,0.6278584599494934,0.627181887626648,0.6265056133270264,0.6258301734924316,0.6251550912857056,0.6244810223579407,0.6238076090812683,0.6231356263160706,0.6224647760391235,0.6217953562736511,0.621126651763916,0.6204582452774048,0.6197927594184875,0.619128406047821,0.6184649467468262,0.6178023815155029,0.6171404719352722,0.6164794564247131,0.6158192157745361,0.615159273147583,0.6145008206367493,0.6138446927070618,0.6131907105445862,0.6125379800796509,0.611888587474823,0.6112435460090637,0.6106007695198059,0.6099600791931152,0.6093213558197021,0.6086834073066711,0.6080455780029297,0.6074099540710449,0.6067763566970825,0.6061428189277649,0.6055102348327637,0.60487961769104,0.6042497754096985,0.6036195158958435,0.602990448474884,0.6023630499839783,0.601737380027771,0.6011136770248413,0.6004926562309265,0.5998727083206177,0.5992544889450073,0.5986403226852417,0.5980293154716492,0.5974206924438477,0.5968129634857178,0.5962068438529968,0.5956030488014221,0.5950012803077698,0.5944017171859741,0.593804657459259,0.5932099223136902,0.5926176905632019,0.5920279622077942,0.5914403796195984,0.5908558964729309,0.5902760624885559,0.5896989703178406,0.5891247391700745,0.5885521173477173,0.5879822373390198,0.5874152183532715,0.5868505239486694,0.5862883925437927,0.5857287645339966,0.5851728320121765,0.5846207141876221,0.5840719938278198,0.5835264325141907,0.5829829573631287,0.5824411511421204,0.581901490688324,0.5813658833503723,0.5808326601982117,0.580301821231842,0.5797732472419739,0.579247236251831,0.5787233114242554,0.578203558921814,0.5776877403259277,0.5771749019622803,0.5766647458076477,0.5761549472808838,0.5756454467773438,0.5751374959945679,0.57463139295578,0.5741268396377563,0.5736244916915894,0.5731241703033447,0.5726264715194702,0.5721313953399658,0.5716388821601868,0.5711488723754883,0.5706624984741211,0.570178210735321,0.5696961283683777,0.5692176222801208,0.5687418580055237,0.5682682991027832,0.5677977800369263,0.5673298835754395,0.566864013671875,0.5664001107215881,0.5659384727478027,0.5654793977737427,0.5650227665901184,0.5645682215690613,0.564115583896637,0.5636664032936096,0.5632187128067017,0.562772274017334,0.5623281598091125,0.561886191368103,0.5614447593688965,0.5610054731369019,0.56056809425354,0.5601346492767334,0.5597067475318909,0.5592830777168274,0.5588629841804504,0.5584457516670227,0.5580328106880188,0.5576227903366089,0.5572134256362915,0.5568055510520935,0.5564004182815552,0.555997371673584,0.5555987358093262,0.5552051663398743,0.554814338684082,0.5544266104698181,0.5540409684181213,0.5536571145057678,0.5532746911048889,0.5528945922851562,0.5525171160697937,0.5521416664123535,0.5517686605453491,0.551398515701294,0.5510300993919373,0.5506625175476074,0.5502969622612,0.5499332547187805,0.5495712757110596,0.5492103099822998,0.548850953578949,0.5484942197799683,0.548137903213501,0.5477839112281799,0.5474315285682678,0.5470805168151855,0.5467310547828674,0.5463829040527344,0.5460363030433655,0.5456913113594055,0.5453487634658813,0.5450063347816467,0.5446648597717285,0.5443246960639954,0.5439861416816711,0.5436491966247559,0.5433134436607361,0.542978823184967,0.5426446199417114,0.5423105359077454,0.5419777631759644,0.5416460037231445,0.5413158535957336,0.5409884452819824,0.5406632423400879,0.5403399467468262,0.5400190949440002,0.539699375629425,0.539381742477417,0.5390650033950806,0.5387487411499023,0.5384289622306824,0.538108766078949,0.5377888083457947,0.5374687314033508,0.5371575355529785,0.5368533134460449,0.5365508198738098,0.5362492799758911,0.5359488129615784,0.5356494784355164,0.5353509187698364,0.5350536704063416,0.5347570776939392,0.5344625115394592,0.5341699719429016,0.5338791012763977,0.5335890054702759,0.5332995653152466,0.5330126881599426,0.5327277183532715,0.5324422121047974,0.5321561694145203,0.531870424747467,0.531584620475769,0.5313011407852173,0.5310215950012207,0.5307435393333435,0.5304660797119141,0.5301890969276428,0.5299134254455566,0.5296384692192078,0.5293643474578857,0.5290917158126831,0.5288204550743103,0.5285505056381226,0.5282825231552124,0.5280179977416992,0.5277549624443054,0.5274928212165833,0.5272319912910461,0.5269722938537598,0.5267134308815002,0.5264555811882019,0.52619868516922,0.5259424448013306,0.5256868600845337,0.5254320502281189,0.5251767635345459,0.5249229669570923,0.5246696472167969,0.5244160294532776,0.5241625308990479,0.5239107012748718,0.5236601829528809,0.5234106183052063,0.5231627225875854,0.5229153633117676,0.5226704478263855,0.5224289298057556,0.522188663482666,0.5219491124153137,0.5217101573944092,0.5214720964431763,0.521234393119812,0.5209982395172119,0.5207647085189819,0.5205317735671997,0.5202995538711548,0.5200676918029785,0.5198384523391724,0.5196124911308289,0.5193853378295898,0.5191592574119568,0.5189346671104431,0.5187108516693115,0.518488347530365,0.518264889717102,0.5180385708808899,0.5178117156028748,0.5175846219062805,0.5173572897911072,0.5171303749084473,0.5169038772583008,0.5166763663291931,0.5164492130279541,0.5162224173545837,0.5159957408905029,0.5157698392868042,0.5155442953109741,0.5153191089630127,0.5150944590568542,0.514869749546051,0.514645516872406,0.5144219398498535,0.5141989588737488,0.5139766931533813,0.5137547850608826,0.5135279893875122,0.5133002400398254,0.5130677223205566,0.5128368139266968,0.512607753276825,0.5123769640922546,0.5121451616287231,0.5119131207466125,0.5116806626319885,0.5114483833312988,0.5112130641937256,0.5109764337539673,0.5107404589653015,0.5105069875717163,0.5102721452713013,0.5100365281105042,0.5097996592521667,0.5095618367195129,0.5093229413032532,0.5090799927711487,0.5088353753089905,0.50859135389328,0.508346438407898,0.5081011652946472,0.5078558325767517,0.5076104402542114,0.5073649287223816,0.5071196556091309,0.5068746209144592,0.5066295862197876,0.5063850283622742,0.5061402320861816,0.5058957934379578,0.505652904510498,0.5054099559783936,0.5051671862602234,0.5049254894256592,0.5046852231025696,0.5044463872909546,0.5042080283164978,0.5039699673652649,0.5037323832511902,0.5034991502761841,0.5032727718353271,0.503047525882721,0.5028228759765625,0.5025995373725891,0.5023772716522217,0.5021558403968811,0.5019338726997375,0.5017105937004089,0.5014873743057251,0.5012690424919128,0.5010536909103394,0.5008382797241211,0.5006266832351685,0.5004141926765442,0.500203549861908,0.4999929666519165,0.49978411197662354,0.49958154559135437,0.4993837773799896,0.49919018149375916,0.4990037977695465,0.49881720542907715,0.49862977862358093,0.49843984842300415,0.49824774265289307,0.49805647134780884,0.4978667199611664,0.49768009781837463,0.49749380350112915,0.4973071217536926,0.4971204102039337,0.4969359338283539,0.49675169587135315,0.4965670704841614,0.49638307094573975,0.49619990587234497,0.4960159957408905,0.49583837389945984,0.49565932154655457,0.49547886848449707,0.4952997863292694,0.4951229691505432,0.49494898319244385,0.494774729013443,0.4946042597293854,0.4944336414337158,0.4942627549171448,0.49409395456314087,0.493925005197525,0.4937543272972107,0.49358808994293213,0.4934232234954834,0.4932578206062317,0.493091344833374,0.4929239749908447,0.4927569329738617,0.492595374584198,0.4924347400665283,0.49227237701416016,0.49211177229881287,0.4919515550136566,0.4917919635772705,0.4916311204433441,0.4914732873439789,0.4913147985935211,0.4911552667617798,0.49099674820899963,0.4908386170864105,0.49068188667297363,0.49052369594573975,0.49036502838134766,0.49020877480506897,0.4900536835193634,0.489896684885025,0.4897429943084717,0.48958852887153625,0.48943468928337097,0.48928165435791016,0.48912927508354187,0.4889766275882721,0.4888237416744232,0.4886704385280609,0.48851916193962097,0.48836663365364075,0.48821282386779785,0.4880632162094116,0.48791539669036865,0.4877690374851227,0.4876248240470886,0.4874800145626068,0.48733586072921753,0.4871911108493805,0.4870487451553345,0.48690328001976013,0.4867570698261261,0.4866122603416443,0.4864692687988281,0.48632752895355225,0.4861847162246704,0.4860402047634125,0.4858953058719635,0.48575255274772644,0.48561015725135803,0.4854673147201538,0.48532572388648987,0.4851834774017334,0.4850529730319977,0.48492351174354553,0.4847928583621979,0.4846627116203308,0.4845346510410309,0.48440781235694885,0.4842797815799713,0.4841531813144684,0.48402830958366394,0.4839057922363281,0.4837825298309326,0.4836578369140625,0.4835374355316162,0.4834168553352356,0.48329704999923706,0.4831770360469818,0.48305535316467285,0.48293209075927734,0.48280900716781616,0.48268362879753113,0.4825584888458252,0.48243147134780884,0.4823065400123596,0.4821796417236328,0.48205065727233887,0.48192349076271057,0.4817979633808136,0.4816712439060211,0.4815421998500824,0.4814164936542511,0.48129168152809143,0.48116883635520935,0.4810459315776825,0.4809252619743347,0.480800986289978,0.4806731939315796,0.4805472493171692,0.4804205000400543,0.48029592633247375,0.4801696538925171,0.4800403416156769,0.4799155592918396,0.4797928035259247,0.4796666204929352,0.47953981161117554,0.47941359877586365,0.4792869985103607,0.4791638255119324,0.4790410101413727,0.47891727089881897,0.47879257798194885,0.47867098450660706,0.47854921221733093,0.47842955589294434,0.4783129394054413,0.478200763463974,0.47808581590652466,0.47796955704689026,0.4778541624546051,0.47773876786231995,0.4776249825954437,0.4775119125843048,0.4773990213871002,0.47728538513183594,0.4771718382835388,0.4770607054233551,0.47694912552833557,0.47683826088905334,0.4767286777496338,0.4766180217266083,0.4765065312385559,0.4763963520526886,0.4762844145298004,0.47617682814598083,0.4760701656341553,0.47596418857574463,0.47585803270339966,0.47575193643569946,0.47564682364463806,0.4755416810512543,0.4754354655742645,0.475330650806427,0.47522640228271484,0.4751218557357788,0.4750184118747711,0.47491636872291565,0.4748128056526184,0.47470834851264954,0.47460636496543884,0.47450658679008484,0.47440800070762634,0.47430649399757385,0.47420457005500793,0.47410181164741516,0.4740021228790283,0.47390055656433105,0.47380030155181885,0.4736999571323395,0.47360002994537354,0.4735003411769867,0.4734013080596924,0.4733012914657593,0.47320321202278137,0.47310397028923035,0.47300538420677185,0.4729011058807373,0.4727885127067566,0.47267407178878784,0.47255802154541016,0.4724391996860504,0.4723149836063385,0.4721818268299103,0.47205105423927307,0.4719189703464508,0.4717812240123749,0.4716411828994751,0.4715108871459961,0.47138360142707825,0.4712545871734619,0.4711361527442932,0.47104063630104065,0.4709419310092926,0.4708460867404938,0.4707483947277069,0.4706501066684723,0.4705526828765869,0.470455527305603,0.4703596532344818,0.4702650308609009,0.47016626596450806,0.4700642228126526,0.4699631333351135,0.4698609709739685,0.46975913643836975,0.46966031193733215,0.4695577621459961,0.46945440769195557,0.46935808658599854,0.4692586064338684,0.4691575765609741,0.46905460953712463,0.4689505696296692,0.46884381771087646,0.4687434732913971,0.4686385691165924,0.46853235363960266,0.46842852234840393,0.46832385659217834,0.46821901202201843,0.4681164622306824,0.46801450848579407,0.46791625022888184,0.4678184688091278,0.46772027015686035,0.4676343500614166,0.4675467014312744,0.4674597382545471,0.467376708984375,0.46729570627212524,0.46721020340919495,0.46712765097618103,0.4670437276363373,0.46696045994758606,0.46687763929367065,0.4667959213256836,0.4667174816131592,0.4666399657726288,0.46656346321105957,0.4664906859397888,0.46641215682029724,0.46633726358413696,0.4662628173828125,0.46618887782096863,0.4661109447479248,0.46603575348854065,0.46596166491508484,0.4658854603767395,0.4658105671405792,0.4657394587993622,0.46566301584243774,0.4655856192111969,0.4655098617076874,0.46543750166893005,0.46535658836364746,0.46527907252311707,0.46519309282302856,0.46510937809944153,0.46502429246902466,0.4649363160133362,0.4648466110229492,0.4647570252418518,0.4646682143211365,0.46457868814468384,0.464486688375473,0.46439486742019653,0.464305579662323,0.4642137587070465,0.46412181854248047,0.4640321731567383,0.4639419615268707,0.4638528823852539,0.4637618362903595,0.4636708199977875,0.4635786712169647,0.4634910821914673,0.46340107917785645,0.4633079767227173,0.4632202982902527,0.4631337523460388,0.4630463719367981,0.4629579484462738,0.46286869049072266,0.46277594566345215,0.4626830816268921,0.4625934362411499,0.46249762177467346,0.46240198612213135,0.4623100757598877,0.46221923828125,0.4621293842792511,0.4620378315448761,0.46194493770599365,0.46185484528541565,0.4617660343647003,0.4616740942001343,0.4615813195705414,0.46149563789367676,0.4614168405532837,0.4613388478755951,0.4612594544887543,0.46117937564849854,0.46109992265701294,0.4610217809677124,0.4609459936618805,0.46086978912353516,0.46079233288764954,0.4607183039188385,0.4606456160545349,0.4605684280395508,0.4604887068271637,0.4604097604751587,0.4603308141231537,0.46024131774902344,0.4601513743400574,0.4600633382797241,0.4599744379520416,0.4598831236362457,0.45979294180870056,0.4597029387950897,0.45961225032806396,0.4595215320587158,0.4594302475452423,0.4593469202518463,0.45925799012184143,0.4591672718524933,0.45907527208328247,0.45899757742881775,0.4589121341705322,0.4588238596916199,0.45873597264289856,0.45864638686180115,0.45856431126594543,0.45848459005355835,0.4584032893180847,0.4583229720592499,0.4582422077655792,0.45816004276275635,0.45807722210884094,0.4579986333847046,0.4579254984855652,0.45784613490104675,0.45776960253715515,0.45769786834716797,0.45762452483177185,0.4575521647930145,0.4574877619743347,0.4574277400970459,0.45736393332481384,0.45730143785476685,0.4572363793849945,0.4571690261363983,0.457106351852417,0.45703989267349243,0.45697006583213806,0.45690014958381653,0.4568338990211487,0.4567735195159912,0.45670202374458313,0.45663443207740784,0.4565681517124176,0.45650026202201843,0.45643168687820435,0.4563663899898529,0.4562998414039612,0.4562334716320038,0.45617419481277466,0.4561077058315277,0.45604440569877625,0.45598867535591125,0.45592403411865234,0.4558544158935547,0.45578595995903015,0.45572781562805176,0.45566484332084656,0.45559677481651306,0.45553770661354065,0.4554826319217682,0.4554176330566406,0.45534875988960266,0.45528897643089294,0.45523127913475037,0.4551675319671631,0.45510438084602356,0.45504894852638245,0.4549875259399414,0.45491695404052734,0.4548552632331848,0.4547945261001587,0.45473039150238037,0.4546678960323334,0.4546002745628357,0.4545395076274872,0.4544801115989685,0.45441779494285583,0.4543492794036865,0.45428410172462463,0.4542233347892761,0.4541594982147217,0.45409274101257324,0.454032301902771,0.45397502183914185,0.4539042115211487,0.4538409113883972,0.45378604531288147,0.4537246525287628,0.45366185903549194,0.45360469818115234,0.4535442292690277,0.45348358154296875,0.4534183442592621,0.45335519313812256,0.4532948434352875,0.45323190093040466,0.4531725347042084,0.4531101882457733,0.4530518651008606,0.4529862701892853,0.4529224634170532,0.4528661072254181,0.45280611515045166,0.4527442455291748,0.452688068151474,0.45263200998306274,0.45257216691970825,0.45250821113586426,0.4524442255496979,0.4523855447769165,0.45232465863227844,0.45226454734802246,0.4522043466567993,0.45214518904685974,0.4520818889141083,0.45201975107192993,0.4519580006599426,0.451894611120224,0.45183175802230835,0.45177003741264343,0.4517044723033905,0.4516419768333435,0.45157885551452637,0.45151495933532715,0.4514489471912384,0.4513832926750183,0.4513147175312042,0.4512477219104767,0.45117464661598206,0.4511035978794098,0.45103034377098083,0.450958251953125,0.45088526606559753,0.4508075714111328,0.4507329761981964,0.45065855979919434,0.45057663321495056,0.4504913091659546,0.45040586590766907,0.45032280683517456,0.4502400755882263,0.4501497745513916,0.45006129145622253,0.44997209310531616,0.44988274574279785,0.4497899115085602,0.44969484210014343,0.4495965540409088,0.44949811697006226,0.44939497113227844,0.4492938816547394,0.4491993188858032,0.449100136756897,0.4489944875240326,0.44888344407081604,0.4487764537334442,0.44866636395454407,0.4485538899898529,0.4484444558620453,0.44832971692085266],\"type\":\"scatter\"}],                        {\"template\":{\"data\":{\"histogram2dcontour\":[{\"type\":\"histogram2dcontour\",\"colorbar\":{\"outlinewidth\":0,\"ticks\":\"\"},\"colorscale\":[[0.0,\"#0d0887\"],[0.1111111111111111,\"#46039f\"],[0.2222222222222222,\"#7201a8\"],[0.3333333333333333,\"#9c179e\"],[0.4444444444444444,\"#bd3786\"],[0.5555555555555556,\"#d8576b\"],[0.6666666666666666,\"#ed7953\"],[0.7777777777777778,\"#fb9f3a\"],[0.8888888888888888,\"#fdca26\"],[1.0,\"#f0f921\"]]}],\"choropleth\":[{\"type\":\"choropleth\",\"colorbar\":{\"outlinewidth\":0,\"ticks\":\"\"}}],\"histogram2d\":[{\"type\":\"histogram2d\",\"colorbar\":{\"outlinewidth\":0,\"ticks\":\"\"},\"colorscale\":[[0.0,\"#0d0887\"],[0.1111111111111111,\"#46039f\"],[0.2222222222222222,\"#7201a8\"],[0.3333333333333333,\"#9c179e\"],[0.4444444444444444,\"#bd3786\"],[0.5555555555555556,\"#d8576b\"],[0.6666666666666666,\"#ed7953\"],[0.7777777777777778,\"#fb9f3a\"],[0.8888888888888888,\"#fdca26\"],[1.0,\"#f0f921\"]]}],\"heatmap\":[{\"type\":\"heatmap\",\"colorbar\":{\"outlinewidth\":0,\"ticks\":\"\"},\"colorscale\":[[0.0,\"#0d0887\"],[0.1111111111111111,\"#46039f\"],[0.2222222222222222,\"#7201a8\"],[0.3333333333333333,\"#9c179e\"],[0.4444444444444444,\"#bd3786\"],[0.5555555555555556,\"#d8576b\"],[0.6666666666666666,\"#ed7953\"],[0.7777777777777778,\"#fb9f3a\"],[0.8888888888888888,\"#fdca26\"],[1.0,\"#f0f921\"]]}],\"heatmapgl\":[{\"type\":\"heatmapgl\",\"colorbar\":{\"outlinewidth\":0,\"ticks\":\"\"},\"colorscale\":[[0.0,\"#0d0887\"],[0.1111111111111111,\"#46039f\"],[0.2222222222222222,\"#7201a8\"],[0.3333333333333333,\"#9c179e\"],[0.4444444444444444,\"#bd3786\"],[0.5555555555555556,\"#d8576b\"],[0.6666666666666666,\"#ed7953\"],[0.7777777777777778,\"#fb9f3a\"],[0.8888888888888888,\"#fdca26\"],[1.0,\"#f0f921\"]]}],\"contourcarpet\":[{\"type\":\"contourcarpet\",\"colorbar\":{\"outlinewidth\":0,\"ticks\":\"\"}}],\"contour\":[{\"type\":\"contour\",\"colorbar\":{\"outlinewidth\":0,\"ticks\":\"\"},\"colorscale\":[[0.0,\"#0d0887\"],[0.1111111111111111,\"#46039f\"],[0.2222222222222222,\"#7201a8\"],[0.3333333333333333,\"#9c179e\"],[0.4444444444444444,\"#bd3786\"],[0.5555555555555556,\"#d8576b\"],[0.6666666666666666,\"#ed7953\"],[0.7777777777777778,\"#fb9f3a\"],[0.8888888888888888,\"#fdca26\"],[1.0,\"#f0f921\"]]}],\"surface\":[{\"type\":\"surface\",\"colorbar\":{\"outlinewidth\":0,\"ticks\":\"\"},\"colorscale\":[[0.0,\"#0d0887\"],[0.1111111111111111,\"#46039f\"],[0.2222222222222222,\"#7201a8\"],[0.3333333333333333,\"#9c179e\"],[0.4444444444444444,\"#bd3786\"],[0.5555555555555556,\"#d8576b\"],[0.6666666666666666,\"#ed7953\"],[0.7777777777777778,\"#fb9f3a\"],[0.8888888888888888,\"#fdca26\"],[1.0,\"#f0f921\"]]}],\"mesh3d\":[{\"type\":\"mesh3d\",\"colorbar\":{\"outlinewidth\":0,\"ticks\":\"\"}}],\"scatter\":[{\"fillpattern\":{\"fillmode\":\"overlay\",\"size\":10,\"solidity\":0.2},\"type\":\"scatter\"}],\"parcoords\":[{\"type\":\"parcoords\",\"line\":{\"colorbar\":{\"outlinewidth\":0,\"ticks\":\"\"}}}],\"scatterpolargl\":[{\"type\":\"scatterpolargl\",\"marker\":{\"colorbar\":{\"outlinewidth\":0,\"ticks\":\"\"}}}],\"bar\":[{\"error_x\":{\"color\":\"#2a3f5f\"},\"error_y\":{\"color\":\"#2a3f5f\"},\"marker\":{\"line\":{\"color\":\"#E5ECF6\",\"width\":0.5},\"pattern\":{\"fillmode\":\"overlay\",\"size\":10,\"solidity\":0.2}},\"type\":\"bar\"}],\"scattergeo\":[{\"type\":\"scattergeo\",\"marker\":{\"colorbar\":{\"outlinewidth\":0,\"ticks\":\"\"}}}],\"scatterpolar\":[{\"type\":\"scatterpolar\",\"marker\":{\"colorbar\":{\"outlinewidth\":0,\"ticks\":\"\"}}}],\"histogram\":[{\"marker\":{\"pattern\":{\"fillmode\":\"overlay\",\"size\":10,\"solidity\":0.2}},\"type\":\"histogram\"}],\"scattergl\":[{\"type\":\"scattergl\",\"marker\":{\"colorbar\":{\"outlinewidth\":0,\"ticks\":\"\"}}}],\"scatter3d\":[{\"type\":\"scatter3d\",\"line\":{\"colorbar\":{\"outlinewidth\":0,\"ticks\":\"\"}},\"marker\":{\"colorbar\":{\"outlinewidth\":0,\"ticks\":\"\"}}}],\"scattermapbox\":[{\"type\":\"scattermapbox\",\"marker\":{\"colorbar\":{\"outlinewidth\":0,\"ticks\":\"\"}}}],\"scatterternary\":[{\"type\":\"scatterternary\",\"marker\":{\"colorbar\":{\"outlinewidth\":0,\"ticks\":\"\"}}}],\"scattercarpet\":[{\"type\":\"scattercarpet\",\"marker\":{\"colorbar\":{\"outlinewidth\":0,\"ticks\":\"\"}}}],\"carpet\":[{\"aaxis\":{\"endlinecolor\":\"#2a3f5f\",\"gridcolor\":\"white\",\"linecolor\":\"white\",\"minorgridcolor\":\"white\",\"startlinecolor\":\"#2a3f5f\"},\"baxis\":{\"endlinecolor\":\"#2a3f5f\",\"gridcolor\":\"white\",\"linecolor\":\"white\",\"minorgridcolor\":\"white\",\"startlinecolor\":\"#2a3f5f\"},\"type\":\"carpet\"}],\"table\":[{\"cells\":{\"fill\":{\"color\":\"#EBF0F8\"},\"line\":{\"color\":\"white\"}},\"header\":{\"fill\":{\"color\":\"#C8D4E3\"},\"line\":{\"color\":\"white\"}},\"type\":\"table\"}],\"barpolar\":[{\"marker\":{\"line\":{\"color\":\"#E5ECF6\",\"width\":0.5},\"pattern\":{\"fillmode\":\"overlay\",\"size\":10,\"solidity\":0.2}},\"type\":\"barpolar\"}],\"pie\":[{\"automargin\":true,\"type\":\"pie\"}]},\"layout\":{\"autotypenumbers\":\"strict\",\"colorway\":[\"#636efa\",\"#EF553B\",\"#00cc96\",\"#ab63fa\",\"#FFA15A\",\"#19d3f3\",\"#FF6692\",\"#B6E880\",\"#FF97FF\",\"#FECB52\"],\"font\":{\"color\":\"#2a3f5f\"},\"hovermode\":\"closest\",\"hoverlabel\":{\"align\":\"left\"},\"paper_bgcolor\":\"white\",\"plot_bgcolor\":\"#E5ECF6\",\"polar\":{\"bgcolor\":\"#E5ECF6\",\"angularaxis\":{\"gridcolor\":\"white\",\"linecolor\":\"white\",\"ticks\":\"\"},\"radialaxis\":{\"gridcolor\":\"white\",\"linecolor\":\"white\",\"ticks\":\"\"}},\"ternary\":{\"bgcolor\":\"#E5ECF6\",\"aaxis\":{\"gridcolor\":\"white\",\"linecolor\":\"white\",\"ticks\":\"\"},\"baxis\":{\"gridcolor\":\"white\",\"linecolor\":\"white\",\"ticks\":\"\"},\"caxis\":{\"gridcolor\":\"white\",\"linecolor\":\"white\",\"ticks\":\"\"}},\"coloraxis\":{\"colorbar\":{\"outlinewidth\":0,\"ticks\":\"\"}},\"colorscale\":{\"sequential\":[[0.0,\"#0d0887\"],[0.1111111111111111,\"#46039f\"],[0.2222222222222222,\"#7201a8\"],[0.3333333333333333,\"#9c179e\"],[0.4444444444444444,\"#bd3786\"],[0.5555555555555556,\"#d8576b\"],[0.6666666666666666,\"#ed7953\"],[0.7777777777777778,\"#fb9f3a\"],[0.8888888888888888,\"#fdca26\"],[1.0,\"#f0f921\"]],\"sequentialminus\":[[0.0,\"#0d0887\"],[0.1111111111111111,\"#46039f\"],[0.2222222222222222,\"#7201a8\"],[0.3333333333333333,\"#9c179e\"],[0.4444444444444444,\"#bd3786\"],[0.5555555555555556,\"#d8576b\"],[0.6666666666666666,\"#ed7953\"],[0.7777777777777778,\"#fb9f3a\"],[0.8888888888888888,\"#fdca26\"],[1.0,\"#f0f921\"]],\"diverging\":[[0,\"#8e0152\"],[0.1,\"#c51b7d\"],[0.2,\"#de77ae\"],[0.3,\"#f1b6da\"],[0.4,\"#fde0ef\"],[0.5,\"#f7f7f7\"],[0.6,\"#e6f5d0\"],[0.7,\"#b8e186\"],[0.8,\"#7fbc41\"],[0.9,\"#4d9221\"],[1,\"#276419\"]]},\"xaxis\":{\"gridcolor\":\"white\",\"linecolor\":\"white\",\"ticks\":\"\",\"title\":{\"standoff\":15},\"zerolinecolor\":\"white\",\"automargin\":true,\"zerolinewidth\":2},\"yaxis\":{\"gridcolor\":\"white\",\"linecolor\":\"white\",\"ticks\":\"\",\"title\":{\"standoff\":15},\"zerolinecolor\":\"white\",\"automargin\":true,\"zerolinewidth\":2},\"scene\":{\"xaxis\":{\"backgroundcolor\":\"#E5ECF6\",\"gridcolor\":\"white\",\"linecolor\":\"white\",\"showbackground\":true,\"ticks\":\"\",\"zerolinecolor\":\"white\",\"gridwidth\":2},\"yaxis\":{\"backgroundcolor\":\"#E5ECF6\",\"gridcolor\":\"white\",\"linecolor\":\"white\",\"showbackground\":true,\"ticks\":\"\",\"zerolinecolor\":\"white\",\"gridwidth\":2},\"zaxis\":{\"backgroundcolor\":\"#E5ECF6\",\"gridcolor\":\"white\",\"linecolor\":\"white\",\"showbackground\":true,\"ticks\":\"\",\"zerolinecolor\":\"white\",\"gridwidth\":2}},\"shapedefaults\":{\"line\":{\"color\":\"#2a3f5f\"}},\"annotationdefaults\":{\"arrowcolor\":\"#2a3f5f\",\"arrowhead\":0,\"arrowwidth\":1},\"geo\":{\"bgcolor\":\"white\",\"landcolor\":\"#E5ECF6\",\"subunitcolor\":\"white\",\"showland\":true,\"showlakes\":true,\"lakecolor\":\"white\"},\"title\":{\"x\":0.05},\"mapbox\":{\"style\":\"light\"}}}},                        {\"responsive\": true}                    ).then(function(){\n",
              "                            \n",
              "var gd = document.getElementById('ddfb9d5a-63a2-42c9-92ca-37c11eadf238');\n",
              "var x = new MutationObserver(function (mutations, observer) {{\n",
              "        var display = window.getComputedStyle(gd).display;\n",
              "        if (!display || display === 'none') {{\n",
              "            console.log([gd, 'removed!']);\n",
              "            Plotly.purge(gd);\n",
              "            observer.disconnect();\n",
              "        }}\n",
              "}});\n",
              "\n",
              "// Listen for the removal of the full notebook cells\n",
              "var notebookContainer = gd.closest('#notebook-container');\n",
              "if (notebookContainer) {{\n",
              "    x.observe(notebookContainer, {childList: true});\n",
              "}}\n",
              "\n",
              "// Listen for the clearing of the current output cell\n",
              "var outputEl = gd.closest('.output');\n",
              "if (outputEl) {{\n",
              "    x.observe(outputEl, {childList: true});\n",
              "}}\n",
              "\n",
              "                        })                };                            </script>        </div>\n",
              "</body>\n",
              "</html>"
            ]
          },
          "metadata": {}
        }
      ]
    },
    {
      "cell_type": "code",
      "source": [
        "#### Prediction In X_test data\n",
        "predictions=[]\n",
        "with torch.no_grad():\n",
        "    for i,data in enumerate(X_test_Pytorch):\n",
        "        y_pred=model(data)\n",
        "        predictions.append(y_pred.argmax().item())\n",
        "        print(y_pred)"
      ],
      "metadata": {
        "colab": {
          "base_uri": "https://localhost:8080/"
        },
        "id": "tblUNgZP95MY",
        "outputId": "bb3a43bb-5c07-46b4-c6a6-fba06d909672"
      },
      "execution_count": null,
      "outputs": [
        {
          "output_type": "stream",
          "name": "stdout",
          "text": [
            "tensor([-0.2549,  0.3572])\n",
            "tensor([ 1.1678, -0.8131])\n",
            "tensor([ 1.0236, -0.6948])\n",
            "tensor([-0.7398,  0.7506])\n",
            "tensor([-0.6854,  0.7073])\n",
            "tensor([ 0.6580, -0.3756])\n",
            "tensor([-0.4549,  0.5174])\n",
            "tensor([ 1.1401, -0.7890])\n",
            "tensor([ 1.1639, -0.8094])\n",
            "tensor([ 0.9202, -0.5903])\n",
            "tensor([-0.7481,  0.7574])\n",
            "tensor([ 1.1619, -0.8074])\n",
            "tensor([ 0.7152, -0.4322])\n",
            "tensor([-0.6549,  0.6823])\n",
            "tensor([-0.7269,  0.7400])\n",
            "tensor([0.1804, 0.0170])\n",
            "tensor([-0.6995,  0.7190])\n",
            "tensor([ 1.1595, -0.8053])\n",
            "tensor([-0.7462,  0.7559])\n",
            "tensor([ 1.1600, -0.8058])\n",
            "tensor([ 1.1543, -0.8006])\n",
            "tensor([0.1653, 0.0199])\n",
            "tensor([ 1.0410, -0.7072])\n",
            "tensor([ 1.0961, -0.7484])\n",
            "tensor([ 1.1690, -0.8143])\n",
            "tensor([ 0.6684, -0.3939])\n",
            "tensor([-0.3715,  0.4503])\n",
            "tensor([ 0.8152, -0.5162])\n",
            "tensor([ 1.1674, -0.8127])\n",
            "tensor([ 0.9064, -0.5969])\n",
            "tensor([-0.7471,  0.7566])\n",
            "tensor([ 1.1289, -0.7813])\n",
            "tensor([ 1.1568, -0.8028])\n",
            "tensor([ 1.1584, -0.8043])\n",
            "tensor([-0.7097,  0.7259])\n",
            "tensor([ 0.8565, -0.5460])\n",
            "tensor([ 0.9058, -0.5900])\n",
            "tensor([-0.7487,  0.7579])\n",
            "tensor([ 0.8553, -0.5527])\n",
            "tensor([ 1.1633, -0.8088])\n",
            "tensor([ 1.1676, -0.8129])\n",
            "tensor([ 0.8090, -0.5111])\n",
            "tensor([ 1.1598, -0.8055])\n",
            "tensor([-0.4634,  0.5248])\n",
            "tensor([ 0.3744, -0.1453])\n",
            "tensor([ 0.7841, -0.4791])\n",
            "tensor([ 0.7290, -0.4453])\n",
            "tensor([ 0.9826, -0.6561])\n",
            "tensor([-0.4996,  0.5593])\n",
            "tensor([ 1.0293, -0.6997])\n",
            "tensor([-0.7487,  0.7579])\n",
            "tensor([ 1.0319, -0.7018])\n",
            "tensor([ 0.8807, -0.5654])\n",
            "tensor([-0.7431,  0.7533])\n",
            "tensor([ 1.1501, -0.7975])\n",
            "tensor([-0.7002,  0.7187])\n",
            "tensor([ 0.7038, -0.4090])\n",
            "tensor([-0.7090,  0.7253])\n",
            "tensor([ 1.1352, -0.7833])\n",
            "tensor([-0.1907,  0.3242])\n",
            "tensor([-0.7423,  0.7527])\n",
            "tensor([ 0.9471, -0.6253])\n",
            "tensor([-0.6854,  0.7062])\n",
            "tensor([ 1.1690, -0.8143])\n",
            "tensor([ 1.1480, -0.7947])\n",
            "tensor([-0.1508,  0.2715])\n",
            "tensor([ 1.1447, -0.7921])\n",
            "tensor([-0.7408,  0.7514])\n",
            "tensor([-0.7462,  0.7558])\n",
            "tensor([ 1.1510, -0.7995])\n",
            "tensor([-0.7487,  0.7579])\n",
            "tensor([ 0.9361, -0.6090])\n",
            "tensor([-0.4842,  0.5408])\n",
            "tensor([-0.5522,  0.5986])\n",
            "tensor([-0.7473,  0.7567])\n",
            "tensor([-0.7476,  0.7570])\n",
            "tensor([ 1.1561, -0.8021])\n"
          ]
        },
        {
          "output_type": "stream",
          "name": "stderr",
          "text": [
            "<ipython-input-105-c3c688062672>:11: UserWarning:\n",
            "\n",
            "Implicit dimension choice for softmax has been deprecated. Change the call to include dim=X as an argument.\n",
            "\n"
          ]
        }
      ]
    },
    {
      "cell_type": "code",
      "source": [
        "from sklearn.metrics import confusion_matrix\n",
        "cm=confusion_matrix(y_test,predictions)\n",
        "cm"
      ],
      "metadata": {
        "colab": {
          "base_uri": "https://localhost:8080/"
        },
        "id": "IKjvkoZO-FBn",
        "outputId": "d3aa6c45-7ebe-4d25-9fbc-fa122648f8f2"
      },
      "execution_count": null,
      "outputs": [
        {
          "output_type": "execute_result",
          "data": {
            "text/plain": [
              "array([[34, 10],\n",
              "       [13, 20]])"
            ]
          },
          "metadata": {},
          "execution_count": 112
        }
      ]
    },
    {
      "cell_type": "code",
      "source": [
        "labels = [str(i) for i in range(cm.shape[0])]\n",
        "\n",
        "data=[go.Heatmap(\n",
        "                        z=cm,\n",
        "                        x=[f'Predicted {lab}' if len(lab) < 5 else f'Predicted<br>{lab}' for lab in labels],\n",
        "                        y=[f'Actual {lab}' if len(lab) < 5 else f'Actual<br>{lab}' for lab in labels],\n",
        "                        colorscale=[[0, 'rgb(174, 205, 252)'], [1, 'rgb(39, 45, 85)']],\n",
        "                        hoverinfo=\"skip\",\n",
        "                        showscale=True,\n",
        "                    )]\n",
        "layout = go.Layout(\n",
        "        title=\"Confusion Matrix\",\n",
        "        xaxis=dict(side='bottom', constrain=\"domain\"),\n",
        "        yaxis=dict(autorange=\"reversed\", side='left',\n",
        "                    scaleanchor='x', scaleratio=1),\n",
        "        plot_bgcolor = '#fff',\n",
        "    )\n",
        "fig = go.Figure(data, layout)\n",
        "annotations = []\n",
        "cm_normalized = np.round(100*cm / cm.sum(), 1)\n",
        "percentage = True\n",
        "for x in range(cm.shape[0]):\n",
        "    for y in range(cm.shape[1]):\n",
        "        top_text = f\"{cm_normalized[x, y]}%\" if percentage else f\"{cm[x, y]}\"\n",
        "        bottom_text = f\"{cm_normalized[x, y]}%\" if not percentage else f\"{cm[x, y]}\" \n",
        "        annotations.extend([\n",
        "            go.layout.Annotation(\n",
        "                x=fig.data[0].x[y], \n",
        "                y=fig.data[0].y[x], \n",
        "                text=top_text, \n",
        "                showarrow=False,\n",
        "                font=dict(size=14,color=\"white\")\n",
        "            ),\n",
        "            go.layout.Annotation(\n",
        "                x=fig.data[0].x[y], \n",
        "                y=fig.data[0].y[x], \n",
        "                text=f\" <br> <br> <br>({bottom_text})\", \n",
        "                showarrow=False,\n",
        "                font=dict(size=12,color=\"white\")\n",
        "            )]\n",
        "        )\n",
        "            \n",
        "\n",
        "fig.update_layout(annotations=annotations)  \n",
        "fig.show()"
      ],
      "metadata": {
        "colab": {
          "base_uri": "https://localhost:8080/",
          "height": 542
        },
        "id": "PL-qTz_6_4Ss",
        "outputId": "4fce156f-00b5-4411-b84a-d29914d2679c"
      },
      "execution_count": null,
      "outputs": [
        {
          "output_type": "display_data",
          "data": {
            "text/html": [
              "<html>\n",
              "<head><meta charset=\"utf-8\" /></head>\n",
              "<body>\n",
              "    <div>            <script src=\"https://cdnjs.cloudflare.com/ajax/libs/mathjax/2.7.5/MathJax.js?config=TeX-AMS-MML_SVG\"></script><script type=\"text/javascript\">if (window.MathJax && window.MathJax.Hub && window.MathJax.Hub.Config) {window.MathJax.Hub.Config({SVG: {font: \"STIX-Web\"}});}</script>                <script type=\"text/javascript\">window.PlotlyConfig = {MathJaxConfig: 'local'};</script>\n",
              "        <script src=\"https://cdn.plot.ly/plotly-2.18.2.min.js\"></script>                <div id=\"08ccbe83-5c02-43c4-9f0f-d1849b2e08ce\" class=\"plotly-graph-div\" style=\"height:525px; width:100%;\"></div>            <script type=\"text/javascript\">                                    window.PLOTLYENV=window.PLOTLYENV || {};                                    if (document.getElementById(\"08ccbe83-5c02-43c4-9f0f-d1849b2e08ce\")) {                    Plotly.newPlot(                        \"08ccbe83-5c02-43c4-9f0f-d1849b2e08ce\",                        [{\"colorscale\":[[0,\"rgb(174, 205, 252)\"],[1,\"rgb(39, 45, 85)\"]],\"hoverinfo\":\"skip\",\"showscale\":true,\"x\":[\"Predicted 0\",\"Predicted 1\"],\"y\":[\"Actual 0\",\"Actual 1\"],\"z\":[[34,10],[13,20]],\"type\":\"heatmap\"}],                        {\"plot_bgcolor\":\"#fff\",\"title\":{\"text\":\"Confusion Matrix\"},\"xaxis\":{\"constrain\":\"domain\",\"side\":\"bottom\"},\"yaxis\":{\"autorange\":\"reversed\",\"scaleanchor\":\"x\",\"scaleratio\":1,\"side\":\"left\"},\"template\":{\"data\":{\"histogram2dcontour\":[{\"type\":\"histogram2dcontour\",\"colorbar\":{\"outlinewidth\":0,\"ticks\":\"\"},\"colorscale\":[[0.0,\"#0d0887\"],[0.1111111111111111,\"#46039f\"],[0.2222222222222222,\"#7201a8\"],[0.3333333333333333,\"#9c179e\"],[0.4444444444444444,\"#bd3786\"],[0.5555555555555556,\"#d8576b\"],[0.6666666666666666,\"#ed7953\"],[0.7777777777777778,\"#fb9f3a\"],[0.8888888888888888,\"#fdca26\"],[1.0,\"#f0f921\"]]}],\"choropleth\":[{\"type\":\"choropleth\",\"colorbar\":{\"outlinewidth\":0,\"ticks\":\"\"}}],\"histogram2d\":[{\"type\":\"histogram2d\",\"colorbar\":{\"outlinewidth\":0,\"ticks\":\"\"},\"colorscale\":[[0.0,\"#0d0887\"],[0.1111111111111111,\"#46039f\"],[0.2222222222222222,\"#7201a8\"],[0.3333333333333333,\"#9c179e\"],[0.4444444444444444,\"#bd3786\"],[0.5555555555555556,\"#d8576b\"],[0.6666666666666666,\"#ed7953\"],[0.7777777777777778,\"#fb9f3a\"],[0.8888888888888888,\"#fdca26\"],[1.0,\"#f0f921\"]]}],\"heatmap\":[{\"type\":\"heatmap\",\"colorbar\":{\"outlinewidth\":0,\"ticks\":\"\"},\"colorscale\":[[0.0,\"#0d0887\"],[0.1111111111111111,\"#46039f\"],[0.2222222222222222,\"#7201a8\"],[0.3333333333333333,\"#9c179e\"],[0.4444444444444444,\"#bd3786\"],[0.5555555555555556,\"#d8576b\"],[0.6666666666666666,\"#ed7953\"],[0.7777777777777778,\"#fb9f3a\"],[0.8888888888888888,\"#fdca26\"],[1.0,\"#f0f921\"]]}],\"heatmapgl\":[{\"type\":\"heatmapgl\",\"colorbar\":{\"outlinewidth\":0,\"ticks\":\"\"},\"colorscale\":[[0.0,\"#0d0887\"],[0.1111111111111111,\"#46039f\"],[0.2222222222222222,\"#7201a8\"],[0.3333333333333333,\"#9c179e\"],[0.4444444444444444,\"#bd3786\"],[0.5555555555555556,\"#d8576b\"],[0.6666666666666666,\"#ed7953\"],[0.7777777777777778,\"#fb9f3a\"],[0.8888888888888888,\"#fdca26\"],[1.0,\"#f0f921\"]]}],\"contourcarpet\":[{\"type\":\"contourcarpet\",\"colorbar\":{\"outlinewidth\":0,\"ticks\":\"\"}}],\"contour\":[{\"type\":\"contour\",\"colorbar\":{\"outlinewidth\":0,\"ticks\":\"\"},\"colorscale\":[[0.0,\"#0d0887\"],[0.1111111111111111,\"#46039f\"],[0.2222222222222222,\"#7201a8\"],[0.3333333333333333,\"#9c179e\"],[0.4444444444444444,\"#bd3786\"],[0.5555555555555556,\"#d8576b\"],[0.6666666666666666,\"#ed7953\"],[0.7777777777777778,\"#fb9f3a\"],[0.8888888888888888,\"#fdca26\"],[1.0,\"#f0f921\"]]}],\"surface\":[{\"type\":\"surface\",\"colorbar\":{\"outlinewidth\":0,\"ticks\":\"\"},\"colorscale\":[[0.0,\"#0d0887\"],[0.1111111111111111,\"#46039f\"],[0.2222222222222222,\"#7201a8\"],[0.3333333333333333,\"#9c179e\"],[0.4444444444444444,\"#bd3786\"],[0.5555555555555556,\"#d8576b\"],[0.6666666666666666,\"#ed7953\"],[0.7777777777777778,\"#fb9f3a\"],[0.8888888888888888,\"#fdca26\"],[1.0,\"#f0f921\"]]}],\"mesh3d\":[{\"type\":\"mesh3d\",\"colorbar\":{\"outlinewidth\":0,\"ticks\":\"\"}}],\"scatter\":[{\"fillpattern\":{\"fillmode\":\"overlay\",\"size\":10,\"solidity\":0.2},\"type\":\"scatter\"}],\"parcoords\":[{\"type\":\"parcoords\",\"line\":{\"colorbar\":{\"outlinewidth\":0,\"ticks\":\"\"}}}],\"scatterpolargl\":[{\"type\":\"scatterpolargl\",\"marker\":{\"colorbar\":{\"outlinewidth\":0,\"ticks\":\"\"}}}],\"bar\":[{\"error_x\":{\"color\":\"#2a3f5f\"},\"error_y\":{\"color\":\"#2a3f5f\"},\"marker\":{\"line\":{\"color\":\"#E5ECF6\",\"width\":0.5},\"pattern\":{\"fillmode\":\"overlay\",\"size\":10,\"solidity\":0.2}},\"type\":\"bar\"}],\"scattergeo\":[{\"type\":\"scattergeo\",\"marker\":{\"colorbar\":{\"outlinewidth\":0,\"ticks\":\"\"}}}],\"scatterpolar\":[{\"type\":\"scatterpolar\",\"marker\":{\"colorbar\":{\"outlinewidth\":0,\"ticks\":\"\"}}}],\"histogram\":[{\"marker\":{\"pattern\":{\"fillmode\":\"overlay\",\"size\":10,\"solidity\":0.2}},\"type\":\"histogram\"}],\"scattergl\":[{\"type\":\"scattergl\",\"marker\":{\"colorbar\":{\"outlinewidth\":0,\"ticks\":\"\"}}}],\"scatter3d\":[{\"type\":\"scatter3d\",\"line\":{\"colorbar\":{\"outlinewidth\":0,\"ticks\":\"\"}},\"marker\":{\"colorbar\":{\"outlinewidth\":0,\"ticks\":\"\"}}}],\"scattermapbox\":[{\"type\":\"scattermapbox\",\"marker\":{\"colorbar\":{\"outlinewidth\":0,\"ticks\":\"\"}}}],\"scatterternary\":[{\"type\":\"scatterternary\",\"marker\":{\"colorbar\":{\"outlinewidth\":0,\"ticks\":\"\"}}}],\"scattercarpet\":[{\"type\":\"scattercarpet\",\"marker\":{\"colorbar\":{\"outlinewidth\":0,\"ticks\":\"\"}}}],\"carpet\":[{\"aaxis\":{\"endlinecolor\":\"#2a3f5f\",\"gridcolor\":\"white\",\"linecolor\":\"white\",\"minorgridcolor\":\"white\",\"startlinecolor\":\"#2a3f5f\"},\"baxis\":{\"endlinecolor\":\"#2a3f5f\",\"gridcolor\":\"white\",\"linecolor\":\"white\",\"minorgridcolor\":\"white\",\"startlinecolor\":\"#2a3f5f\"},\"type\":\"carpet\"}],\"table\":[{\"cells\":{\"fill\":{\"color\":\"#EBF0F8\"},\"line\":{\"color\":\"white\"}},\"header\":{\"fill\":{\"color\":\"#C8D4E3\"},\"line\":{\"color\":\"white\"}},\"type\":\"table\"}],\"barpolar\":[{\"marker\":{\"line\":{\"color\":\"#E5ECF6\",\"width\":0.5},\"pattern\":{\"fillmode\":\"overlay\",\"size\":10,\"solidity\":0.2}},\"type\":\"barpolar\"}],\"pie\":[{\"automargin\":true,\"type\":\"pie\"}]},\"layout\":{\"autotypenumbers\":\"strict\",\"colorway\":[\"#636efa\",\"#EF553B\",\"#00cc96\",\"#ab63fa\",\"#FFA15A\",\"#19d3f3\",\"#FF6692\",\"#B6E880\",\"#FF97FF\",\"#FECB52\"],\"font\":{\"color\":\"#2a3f5f\"},\"hovermode\":\"closest\",\"hoverlabel\":{\"align\":\"left\"},\"paper_bgcolor\":\"white\",\"plot_bgcolor\":\"#E5ECF6\",\"polar\":{\"bgcolor\":\"#E5ECF6\",\"angularaxis\":{\"gridcolor\":\"white\",\"linecolor\":\"white\",\"ticks\":\"\"},\"radialaxis\":{\"gridcolor\":\"white\",\"linecolor\":\"white\",\"ticks\":\"\"}},\"ternary\":{\"bgcolor\":\"#E5ECF6\",\"aaxis\":{\"gridcolor\":\"white\",\"linecolor\":\"white\",\"ticks\":\"\"},\"baxis\":{\"gridcolor\":\"white\",\"linecolor\":\"white\",\"ticks\":\"\"},\"caxis\":{\"gridcolor\":\"white\",\"linecolor\":\"white\",\"ticks\":\"\"}},\"coloraxis\":{\"colorbar\":{\"outlinewidth\":0,\"ticks\":\"\"}},\"colorscale\":{\"sequential\":[[0.0,\"#0d0887\"],[0.1111111111111111,\"#46039f\"],[0.2222222222222222,\"#7201a8\"],[0.3333333333333333,\"#9c179e\"],[0.4444444444444444,\"#bd3786\"],[0.5555555555555556,\"#d8576b\"],[0.6666666666666666,\"#ed7953\"],[0.7777777777777778,\"#fb9f3a\"],[0.8888888888888888,\"#fdca26\"],[1.0,\"#f0f921\"]],\"sequentialminus\":[[0.0,\"#0d0887\"],[0.1111111111111111,\"#46039f\"],[0.2222222222222222,\"#7201a8\"],[0.3333333333333333,\"#9c179e\"],[0.4444444444444444,\"#bd3786\"],[0.5555555555555556,\"#d8576b\"],[0.6666666666666666,\"#ed7953\"],[0.7777777777777778,\"#fb9f3a\"],[0.8888888888888888,\"#fdca26\"],[1.0,\"#f0f921\"]],\"diverging\":[[0,\"#8e0152\"],[0.1,\"#c51b7d\"],[0.2,\"#de77ae\"],[0.3,\"#f1b6da\"],[0.4,\"#fde0ef\"],[0.5,\"#f7f7f7\"],[0.6,\"#e6f5d0\"],[0.7,\"#b8e186\"],[0.8,\"#7fbc41\"],[0.9,\"#4d9221\"],[1,\"#276419\"]]},\"xaxis\":{\"gridcolor\":\"white\",\"linecolor\":\"white\",\"ticks\":\"\",\"title\":{\"standoff\":15},\"zerolinecolor\":\"white\",\"automargin\":true,\"zerolinewidth\":2},\"yaxis\":{\"gridcolor\":\"white\",\"linecolor\":\"white\",\"ticks\":\"\",\"title\":{\"standoff\":15},\"zerolinecolor\":\"white\",\"automargin\":true,\"zerolinewidth\":2},\"scene\":{\"xaxis\":{\"backgroundcolor\":\"#E5ECF6\",\"gridcolor\":\"white\",\"linecolor\":\"white\",\"showbackground\":true,\"ticks\":\"\",\"zerolinecolor\":\"white\",\"gridwidth\":2},\"yaxis\":{\"backgroundcolor\":\"#E5ECF6\",\"gridcolor\":\"white\",\"linecolor\":\"white\",\"showbackground\":true,\"ticks\":\"\",\"zerolinecolor\":\"white\",\"gridwidth\":2},\"zaxis\":{\"backgroundcolor\":\"#E5ECF6\",\"gridcolor\":\"white\",\"linecolor\":\"white\",\"showbackground\":true,\"ticks\":\"\",\"zerolinecolor\":\"white\",\"gridwidth\":2}},\"shapedefaults\":{\"line\":{\"color\":\"#2a3f5f\"}},\"annotationdefaults\":{\"arrowcolor\":\"#2a3f5f\",\"arrowhead\":0,\"arrowwidth\":1},\"geo\":{\"bgcolor\":\"white\",\"landcolor\":\"#E5ECF6\",\"subunitcolor\":\"white\",\"showland\":true,\"showlakes\":true,\"lakecolor\":\"white\"},\"title\":{\"x\":0.05},\"mapbox\":{\"style\":\"light\"}}},\"annotations\":[{\"font\":{\"color\":\"white\",\"size\":14},\"showarrow\":false,\"text\":\"44.2%\",\"x\":\"Predicted 0\",\"y\":\"Actual 0\"},{\"font\":{\"color\":\"white\",\"size\":12},\"showarrow\":false,\"text\":\" <br> <br> <br>(34)\",\"x\":\"Predicted 0\",\"y\":\"Actual 0\"},{\"font\":{\"color\":\"white\",\"size\":14},\"showarrow\":false,\"text\":\"13.0%\",\"x\":\"Predicted 1\",\"y\":\"Actual 0\"},{\"font\":{\"color\":\"white\",\"size\":12},\"showarrow\":false,\"text\":\" <br> <br> <br>(10)\",\"x\":\"Predicted 1\",\"y\":\"Actual 0\"},{\"font\":{\"color\":\"white\",\"size\":14},\"showarrow\":false,\"text\":\"16.9%\",\"x\":\"Predicted 0\",\"y\":\"Actual 1\"},{\"font\":{\"color\":\"white\",\"size\":12},\"showarrow\":false,\"text\":\" <br> <br> <br>(13)\",\"x\":\"Predicted 0\",\"y\":\"Actual 1\"},{\"font\":{\"color\":\"white\",\"size\":14},\"showarrow\":false,\"text\":\"26.0%\",\"x\":\"Predicted 1\",\"y\":\"Actual 1\"},{\"font\":{\"color\":\"white\",\"size\":12},\"showarrow\":false,\"text\":\" <br> <br> <br>(20)\",\"x\":\"Predicted 1\",\"y\":\"Actual 1\"}]},                        {\"responsive\": true}                    ).then(function(){\n",
              "                            \n",
              "var gd = document.getElementById('08ccbe83-5c02-43c4-9f0f-d1849b2e08ce');\n",
              "var x = new MutationObserver(function (mutations, observer) {{\n",
              "        var display = window.getComputedStyle(gd).display;\n",
              "        if (!display || display === 'none') {{\n",
              "            console.log([gd, 'removed!']);\n",
              "            Plotly.purge(gd);\n",
              "            observer.disconnect();\n",
              "        }}\n",
              "}});\n",
              "\n",
              "// Listen for the removal of the full notebook cells\n",
              "var notebookContainer = gd.closest('#notebook-container');\n",
              "if (notebookContainer) {{\n",
              "    x.observe(notebookContainer, {childList: true});\n",
              "}}\n",
              "\n",
              "// Listen for the clearing of the current output cell\n",
              "var outputEl = gd.closest('.output');\n",
              "if (outputEl) {{\n",
              "    x.observe(outputEl, {childList: true});\n",
              "}}\n",
              "\n",
              "                        })                };                            </script>        </div>\n",
              "</body>\n",
              "</html>"
            ]
          },
          "metadata": {}
        }
      ]
    },
    {
      "cell_type": "code",
      "source": [
        "from sklearn.metrics import accuracy_score\n",
        "score=accuracy_score(y_test,predictions)\n",
        "score"
      ],
      "metadata": {
        "colab": {
          "base_uri": "https://localhost:8080/"
        },
        "id": "KGEybj4Y-PWb",
        "outputId": "a122ad72-5a48-4389-91d0-83179300306b"
      },
      "execution_count": null,
      "outputs": [
        {
          "output_type": "execute_result",
          "data": {
            "text/plain": [
              "0.7012987012987013"
            ]
          },
          "metadata": {},
          "execution_count": 114
        }
      ]
    },
    {
      "cell_type": "code",
      "source": [
        "#### Save the model\n",
        "torch.save(model,'diabetes.pt')"
      ],
      "metadata": {
        "id": "RIBc5GVu-dOt"
      },
      "execution_count": null,
      "outputs": []
    },
    {
      "cell_type": "code",
      "source": [
        "#### Save And Load the model\n",
        "model=torch.load('diabetes.pt')"
      ],
      "metadata": {
        "id": "kcuLV-o8-lAH"
      },
      "execution_count": null,
      "outputs": []
    },
    {
      "cell_type": "code",
      "source": [
        "model.parameters"
      ],
      "metadata": {
        "colab": {
          "base_uri": "https://localhost:8080/"
        },
        "id": "m6waT2OM-ntd",
        "outputId": "ac78bc83-9942-46b6-9291-316dca45c500"
      },
      "execution_count": null,
      "outputs": [
        {
          "output_type": "execute_result",
          "data": {
            "text/plain": [
              "<bound method Module.parameters of ANN_Model(\n",
              "  (f_connected1): Linear(in_features=7, out_features=10, bias=True)\n",
              "  (f_connected2): Linear(in_features=10, out_features=10, bias=True)\n",
              "  (out): Linear(in_features=10, out_features=2, bias=True)\n",
              ")>"
            ]
          },
          "metadata": {},
          "execution_count": 117
        }
      ]
    },
    {
      "cell_type": "code",
      "source": [],
      "metadata": {
        "id": "nfb-sZ6V-p2d"
      },
      "execution_count": null,
      "outputs": []
    }
  ]
}